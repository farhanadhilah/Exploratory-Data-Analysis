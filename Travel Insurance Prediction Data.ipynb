{
  "cells": [
    {
      "cell_type": "markdown",
      "metadata": {
        "id": "view-in-github",
        "colab_type": "text"
      },
      "source": [
        "<a href=\"https://colab.research.google.com/github/farhanadhilah/Exploratory-Data-Analysis/blob/main/Travel%20Insurance%20Prediction%20Data.ipynb\" target=\"_parent\"><img src=\"https://colab.research.google.com/assets/colab-badge.svg\" alt=\"Open In Colab\"/></a>"
      ]
    },
    {
      "cell_type": "markdown",
      "source": [
        "# Source\n",
        "\n",
        "\n",
        "\n",
        "1.   https://www.kaggle.com/code/krishnabhatt4/travel-insurance-predictions/notebook (code kaggle)\n",
        "2.   https://www.analyticsvidhya.com/blog/2020/04/statistics-data-science-normal-distribution/ (plot distribusi)\n",
        "3. https://jha-vineet69.github.io/Credit-Risk-Analyzer/ (visualisasi data & model DT)\n",
        "4. https://www.analyticsvidhya.com/blog/2020/04/confusion-matrix-machine-learning/ (confusion matrix & classification report)\n",
        "5. https://tdgunes.com/COMP6246-2018Fall/lab3_solution/index.html (gini & entropy)\n",
        "6. https://www.analyticsvidhya.com/blog/2021/06/classification-problem-relation-between-sensitivity-specificity-and-accuracy/ (sensitivity, specificity, accuracy)\n",
        "\n"
      ],
      "metadata": {
        "id": "Rx2bhBp5CLur"
      },
      "id": "Rx2bhBp5CLur"
    },
    {
      "cell_type": "markdown",
      "id": "87572911",
      "metadata": {
        "id": "87572911"
      },
      "source": [
        "# Import Module"
      ]
    },
    {
      "cell_type": "code",
      "execution_count": null,
      "id": "dec77c05",
      "metadata": {
        "id": "dec77c05"
      },
      "outputs": [],
      "source": [
        "import pandas as pd\n",
        "import numpy as np\n",
        "import matplotlib.pyplot as plt\n",
        "import seaborn as sns\n",
        "import statsmodels.api as sm\n",
        "from sklearn.model_selection import train_test_split, StratifiedKFold\n",
        "from sklearn.tree import DecisionTreeClassifier\n",
        "from sklearn.metrics import accuracy_score\n",
        "from sklearn import metrics\n",
        "from sklearn.metrics import classification_report\n",
        "from sklearn.metrics import confusion_matrix\n",
        "%matplotlib inline"
      ]
    },
    {
      "cell_type": "markdown",
      "id": "2ed484a5",
      "metadata": {
        "id": "2ed484a5"
      },
      "source": [
        "# Loading Data"
      ]
    },
    {
      "cell_type": "code",
      "execution_count": null,
      "id": "e58c3124",
      "metadata": {
        "id": "e58c3124",
        "outputId": "32fe353c-3de2-4f41-b1dc-3c83b7c1ba0b",
        "colab": {
          "resources": {
            "http://localhost:8080/nbextensions/google.colab/files.js": {
              "data": "Ly8gQ29weXJpZ2h0IDIwMTcgR29vZ2xlIExMQwovLwovLyBMaWNlbnNlZCB1bmRlciB0aGUgQXBhY2hlIExpY2Vuc2UsIFZlcnNpb24gMi4wICh0aGUgIkxpY2Vuc2UiKTsKLy8geW91IG1heSBub3QgdXNlIHRoaXMgZmlsZSBleGNlcHQgaW4gY29tcGxpYW5jZSB3aXRoIHRoZSBMaWNlbnNlLgovLyBZb3UgbWF5IG9idGFpbiBhIGNvcHkgb2YgdGhlIExpY2Vuc2UgYXQKLy8KLy8gICAgICBodHRwOi8vd3d3LmFwYWNoZS5vcmcvbGljZW5zZXMvTElDRU5TRS0yLjAKLy8KLy8gVW5sZXNzIHJlcXVpcmVkIGJ5IGFwcGxpY2FibGUgbGF3IG9yIGFncmVlZCB0byBpbiB3cml0aW5nLCBzb2Z0d2FyZQovLyBkaXN0cmlidXRlZCB1bmRlciB0aGUgTGljZW5zZSBpcyBkaXN0cmlidXRlZCBvbiBhbiAiQVMgSVMiIEJBU0lTLAovLyBXSVRIT1VUIFdBUlJBTlRJRVMgT1IgQ09ORElUSU9OUyBPRiBBTlkgS0lORCwgZWl0aGVyIGV4cHJlc3Mgb3IgaW1wbGllZC4KLy8gU2VlIHRoZSBMaWNlbnNlIGZvciB0aGUgc3BlY2lmaWMgbGFuZ3VhZ2UgZ292ZXJuaW5nIHBlcm1pc3Npb25zIGFuZAovLyBsaW1pdGF0aW9ucyB1bmRlciB0aGUgTGljZW5zZS4KCi8qKgogKiBAZmlsZW92ZXJ2aWV3IEhlbHBlcnMgZm9yIGdvb2dsZS5jb2xhYiBQeXRob24gbW9kdWxlLgogKi8KKGZ1bmN0aW9uKHNjb3BlKSB7CmZ1bmN0aW9uIHNwYW4odGV4dCwgc3R5bGVBdHRyaWJ1dGVzID0ge30pIHsKICBjb25zdCBlbGVtZW50ID0gZG9jdW1lbnQuY3JlYXRlRWxlbWVudCgnc3BhbicpOwogIGVsZW1lbnQudGV4dENvbnRlbnQgPSB0ZXh0OwogIGZvciAoY29uc3Qga2V5IG9mIE9iamVjdC5rZXlzKHN0eWxlQXR0cmlidXRlcykpIHsKICAgIGVsZW1lbnQuc3R5bGVba2V5XSA9IHN0eWxlQXR0cmlidXRlc1trZXldOwogIH0KICByZXR1cm4gZWxlbWVudDsKfQoKLy8gTWF4IG51bWJlciBvZiBieXRlcyB3aGljaCB3aWxsIGJlIHVwbG9hZGVkIGF0IGEgdGltZS4KY29uc3QgTUFYX1BBWUxPQURfU0laRSA9IDEwMCAqIDEwMjQ7CgpmdW5jdGlvbiBfdXBsb2FkRmlsZXMoaW5wdXRJZCwgb3V0cHV0SWQpIHsKICBjb25zdCBzdGVwcyA9IHVwbG9hZEZpbGVzU3RlcChpbnB1dElkLCBvdXRwdXRJZCk7CiAgY29uc3Qgb3V0cHV0RWxlbWVudCA9IGRvY3VtZW50LmdldEVsZW1lbnRCeUlkKG91dHB1dElkKTsKICAvLyBDYWNoZSBzdGVwcyBvbiB0aGUgb3V0cHV0RWxlbWVudCB0byBtYWtlIGl0IGF2YWlsYWJsZSBmb3IgdGhlIG5leHQgY2FsbAogIC8vIHRvIHVwbG9hZEZpbGVzQ29udGludWUgZnJvbSBQeXRob24uCiAgb3V0cHV0RWxlbWVudC5zdGVwcyA9IHN0ZXBzOwoKICByZXR1cm4gX3VwbG9hZEZpbGVzQ29udGludWUob3V0cHV0SWQpOwp9CgovLyBUaGlzIGlzIHJvdWdobHkgYW4gYXN5bmMgZ2VuZXJhdG9yIChub3Qgc3VwcG9ydGVkIGluIHRoZSBicm93c2VyIHlldCksCi8vIHdoZXJlIHRoZXJlIGFyZSBtdWx0aXBsZSBhc3luY2hyb25vdXMgc3RlcHMgYW5kIHRoZSBQeXRob24gc2lkZSBpcyBnb2luZwovLyB0byBwb2xsIGZvciBjb21wbGV0aW9uIG9mIGVhY2ggc3RlcC4KLy8gVGhpcyB1c2VzIGEgUHJvbWlzZSB0byBibG9jayB0aGUgcHl0aG9uIHNpZGUgb24gY29tcGxldGlvbiBvZiBlYWNoIHN0ZXAsCi8vIHRoZW4gcGFzc2VzIHRoZSByZXN1bHQgb2YgdGhlIHByZXZpb3VzIHN0ZXAgYXMgdGhlIGlucHV0IHRvIHRoZSBuZXh0IHN0ZXAuCmZ1bmN0aW9uIF91cGxvYWRGaWxlc0NvbnRpbnVlKG91dHB1dElkKSB7CiAgY29uc3Qgb3V0cHV0RWxlbWVudCA9IGRvY3VtZW50LmdldEVsZW1lbnRCeUlkKG91dHB1dElkKTsKICBjb25zdCBzdGVwcyA9IG91dHB1dEVsZW1lbnQuc3RlcHM7CgogIGNvbnN0IG5leHQgPSBzdGVwcy5uZXh0KG91dHB1dEVsZW1lbnQubGFzdFByb21pc2VWYWx1ZSk7CiAgcmV0dXJuIFByb21pc2UucmVzb2x2ZShuZXh0LnZhbHVlLnByb21pc2UpLnRoZW4oKHZhbHVlKSA9PiB7CiAgICAvLyBDYWNoZSB0aGUgbGFzdCBwcm9taXNlIHZhbHVlIHRvIG1ha2UgaXQgYXZhaWxhYmxlIHRvIHRoZSBuZXh0CiAgICAvLyBzdGVwIG9mIHRoZSBnZW5lcmF0b3IuCiAgICBvdXRwdXRFbGVtZW50Lmxhc3RQcm9taXNlVmFsdWUgPSB2YWx1ZTsKICAgIHJldHVybiBuZXh0LnZhbHVlLnJlc3BvbnNlOwogIH0pOwp9CgovKioKICogR2VuZXJhdG9yIGZ1bmN0aW9uIHdoaWNoIGlzIGNhbGxlZCBiZXR3ZWVuIGVhY2ggYXN5bmMgc3RlcCBvZiB0aGUgdXBsb2FkCiAqIHByb2Nlc3MuCiAqIEBwYXJhbSB7c3RyaW5nfSBpbnB1dElkIEVsZW1lbnQgSUQgb2YgdGhlIGlucHV0IGZpbGUgcGlja2VyIGVsZW1lbnQuCiAqIEBwYXJhbSB7c3RyaW5nfSBvdXRwdXRJZCBFbGVtZW50IElEIG9mIHRoZSBvdXRwdXQgZGlzcGxheS4KICogQHJldHVybiB7IUl0ZXJhYmxlPCFPYmplY3Q+fSBJdGVyYWJsZSBvZiBuZXh0IHN0ZXBzLgogKi8KZnVuY3Rpb24qIHVwbG9hZEZpbGVzU3RlcChpbnB1dElkLCBvdXRwdXRJZCkgewogIGNvbnN0IGlucHV0RWxlbWVudCA9IGRvY3VtZW50LmdldEVsZW1lbnRCeUlkKGlucHV0SWQpOwogIGlucHV0RWxlbWVudC5kaXNhYmxlZCA9IGZhbHNlOwoKICBjb25zdCBvdXRwdXRFbGVtZW50ID0gZG9jdW1lbnQuZ2V0RWxlbWVudEJ5SWQob3V0cHV0SWQpOwogIG91dHB1dEVsZW1lbnQuaW5uZXJIVE1MID0gJyc7CgogIGNvbnN0IHBpY2tlZFByb21pc2UgPSBuZXcgUHJvbWlzZSgocmVzb2x2ZSkgPT4gewogICAgaW5wdXRFbGVtZW50LmFkZEV2ZW50TGlzdGVuZXIoJ2NoYW5nZScsIChlKSA9PiB7CiAgICAgIHJlc29sdmUoZS50YXJnZXQuZmlsZXMpOwogICAgfSk7CiAgfSk7CgogIGNvbnN0IGNhbmNlbCA9IGRvY3VtZW50LmNyZWF0ZUVsZW1lbnQoJ2J1dHRvbicpOwogIGlucHV0RWxlbWVudC5wYXJlbnRFbGVtZW50LmFwcGVuZENoaWxkKGNhbmNlbCk7CiAgY2FuY2VsLnRleHRDb250ZW50ID0gJ0NhbmNlbCB1cGxvYWQnOwogIGNvbnN0IGNhbmNlbFByb21pc2UgPSBuZXcgUHJvbWlzZSgocmVzb2x2ZSkgPT4gewogICAgY2FuY2VsLm9uY2xpY2sgPSAoKSA9PiB7CiAgICAgIHJlc29sdmUobnVsbCk7CiAgICB9OwogIH0pOwoKICAvLyBXYWl0IGZvciB0aGUgdXNlciB0byBwaWNrIHRoZSBmaWxlcy4KICBjb25zdCBmaWxlcyA9IHlpZWxkIHsKICAgIHByb21pc2U6IFByb21pc2UucmFjZShbcGlja2VkUHJvbWlzZSwgY2FuY2VsUHJvbWlzZV0pLAogICAgcmVzcG9uc2U6IHsKICAgICAgYWN0aW9uOiAnc3RhcnRpbmcnLAogICAgfQogIH07CgogIGNhbmNlbC5yZW1vdmUoKTsKCiAgLy8gRGlzYWJsZSB0aGUgaW5wdXQgZWxlbWVudCBzaW5jZSBmdXJ0aGVyIHBpY2tzIGFyZSBub3QgYWxsb3dlZC4KICBpbnB1dEVsZW1lbnQuZGlzYWJsZWQgPSB0cnVlOwoKICBpZiAoIWZpbGVzKSB7CiAgICByZXR1cm4gewogICAgICByZXNwb25zZTogewogICAgICAgIGFjdGlvbjogJ2NvbXBsZXRlJywKICAgICAgfQogICAgfTsKICB9CgogIGZvciAoY29uc3QgZmlsZSBvZiBmaWxlcykgewogICAgY29uc3QgbGkgPSBkb2N1bWVudC5jcmVhdGVFbGVtZW50KCdsaScpOwogICAgbGkuYXBwZW5kKHNwYW4oZmlsZS5uYW1lLCB7Zm9udFdlaWdodDogJ2JvbGQnfSkpOwogICAgbGkuYXBwZW5kKHNwYW4oCiAgICAgICAgYCgke2ZpbGUudHlwZSB8fCAnbi9hJ30pIC0gJHtmaWxlLnNpemV9IGJ5dGVzLCBgICsKICAgICAgICBgbGFzdCBtb2RpZmllZDogJHsKICAgICAgICAgICAgZmlsZS5sYXN0TW9kaWZpZWREYXRlID8gZmlsZS5sYXN0TW9kaWZpZWREYXRlLnRvTG9jYWxlRGF0ZVN0cmluZygpIDoKICAgICAgICAgICAgICAgICAgICAgICAgICAgICAgICAgICAgJ24vYSd9IC0gYCkpOwogICAgY29uc3QgcGVyY2VudCA9IHNwYW4oJzAlIGRvbmUnKTsKICAgIGxpLmFwcGVuZENoaWxkKHBlcmNlbnQpOwoKICAgIG91dHB1dEVsZW1lbnQuYXBwZW5kQ2hpbGQobGkpOwoKICAgIGNvbnN0IGZpbGVEYXRhUHJvbWlzZSA9IG5ldyBQcm9taXNlKChyZXNvbHZlKSA9PiB7CiAgICAgIGNvbnN0IHJlYWRlciA9IG5ldyBGaWxlUmVhZGVyKCk7CiAgICAgIHJlYWRlci5vbmxvYWQgPSAoZSkgPT4gewogICAgICAgIHJlc29sdmUoZS50YXJnZXQucmVzdWx0KTsKICAgICAgfTsKICAgICAgcmVhZGVyLnJlYWRBc0FycmF5QnVmZmVyKGZpbGUpOwogICAgfSk7CiAgICAvLyBXYWl0IGZvciB0aGUgZGF0YSB0byBiZSByZWFkeS4KICAgIGxldCBmaWxlRGF0YSA9IHlpZWxkIHsKICAgICAgcHJvbWlzZTogZmlsZURhdGFQcm9taXNlLAogICAgICByZXNwb25zZTogewogICAgICAgIGFjdGlvbjogJ2NvbnRpbnVlJywKICAgICAgfQogICAgfTsKCiAgICAvLyBVc2UgYSBjaHVua2VkIHNlbmRpbmcgdG8gYXZvaWQgbWVzc2FnZSBzaXplIGxpbWl0cy4gU2VlIGIvNjIxMTU2NjAuCiAgICBsZXQgcG9zaXRpb24gPSAwOwogICAgZG8gewogICAgICBjb25zdCBsZW5ndGggPSBNYXRoLm1pbihmaWxlRGF0YS5ieXRlTGVuZ3RoIC0gcG9zaXRpb24sIE1BWF9QQVlMT0FEX1NJWkUpOwogICAgICBjb25zdCBjaHVuayA9IG5ldyBVaW50OEFycmF5KGZpbGVEYXRhLCBwb3NpdGlvbiwgbGVuZ3RoKTsKICAgICAgcG9zaXRpb24gKz0gbGVuZ3RoOwoKICAgICAgY29uc3QgYmFzZTY0ID0gYnRvYShTdHJpbmcuZnJvbUNoYXJDb2RlLmFwcGx5KG51bGwsIGNodW5rKSk7CiAgICAgIHlpZWxkIHsKICAgICAgICByZXNwb25zZTogewogICAgICAgICAgYWN0aW9uOiAnYXBwZW5kJywKICAgICAgICAgIGZpbGU6IGZpbGUubmFtZSwKICAgICAgICAgIGRhdGE6IGJhc2U2NCwKICAgICAgICB9LAogICAgICB9OwoKICAgICAgbGV0IHBlcmNlbnREb25lID0gZmlsZURhdGEuYnl0ZUxlbmd0aCA9PT0gMCA/CiAgICAgICAgICAxMDAgOgogICAgICAgICAgTWF0aC5yb3VuZCgocG9zaXRpb24gLyBmaWxlRGF0YS5ieXRlTGVuZ3RoKSAqIDEwMCk7CiAgICAgIHBlcmNlbnQudGV4dENvbnRlbnQgPSBgJHtwZXJjZW50RG9uZX0lIGRvbmVgOwoKICAgIH0gd2hpbGUgKHBvc2l0aW9uIDwgZmlsZURhdGEuYnl0ZUxlbmd0aCk7CiAgfQoKICAvLyBBbGwgZG9uZS4KICB5aWVsZCB7CiAgICByZXNwb25zZTogewogICAgICBhY3Rpb246ICdjb21wbGV0ZScsCiAgICB9CiAgfTsKfQoKc2NvcGUuZ29vZ2xlID0gc2NvcGUuZ29vZ2xlIHx8IHt9OwpzY29wZS5nb29nbGUuY29sYWIgPSBzY29wZS5nb29nbGUuY29sYWIgfHwge307CnNjb3BlLmdvb2dsZS5jb2xhYi5fZmlsZXMgPSB7CiAgX3VwbG9hZEZpbGVzLAogIF91cGxvYWRGaWxlc0NvbnRpbnVlLAp9Owp9KShzZWxmKTsK",
              "ok": true,
              "headers": [
                [
                  "content-type",
                  "application/javascript"
                ]
              ],
              "status": 200,
              "status_text": ""
            }
          },
          "base_uri": "https://localhost:8080/",
          "height": 73
        }
      },
      "outputs": [
        {
          "output_type": "display_data",
          "data": {
            "text/plain": [
              "<IPython.core.display.HTML object>"
            ],
            "text/html": [
              "\n",
              "     <input type=\"file\" id=\"files-140fe9e8-a641-4576-b2f7-b944cdd06a33\" name=\"files[]\" multiple disabled\n",
              "        style=\"border:none\" />\n",
              "     <output id=\"result-140fe9e8-a641-4576-b2f7-b944cdd06a33\">\n",
              "      Upload widget is only available when the cell has been executed in the\n",
              "      current browser session. Please rerun this cell to enable.\n",
              "      </output>\n",
              "      <script src=\"/nbextensions/google.colab/files.js\"></script> "
            ]
          },
          "metadata": {}
        },
        {
          "output_type": "stream",
          "name": "stdout",
          "text": [
            "Saving TravelInsurancePrediction.csv to TravelInsurancePrediction.csv\n"
          ]
        }
      ],
      "source": [
        "from google.colab import files\n",
        "upload = files.upload()"
      ]
    },
    {
      "cell_type": "code",
      "source": [
        "data = pd.read_csv('TravelInsurancePrediction.csv')\n",
        "data.head(5)"
      ],
      "metadata": {
        "colab": {
          "base_uri": "https://localhost:8080/",
          "height": 250
        },
        "id": "rxLjxWu2NCyi",
        "outputId": "18191bfc-01db-486e-9510-ee584875ebbd"
      },
      "id": "rxLjxWu2NCyi",
      "execution_count": null,
      "outputs": [
        {
          "output_type": "execute_result",
          "data": {
            "text/plain": [
              "   Unnamed: 0  Age               Employment Type GraduateOrNot  AnnualIncome  \\\n",
              "0           0   31             Government Sector           Yes        400000   \n",
              "1           1   31  Private Sector/Self Employed           Yes       1250000   \n",
              "2           2   34  Private Sector/Self Employed           Yes        500000   \n",
              "3           3   28  Private Sector/Self Employed           Yes        700000   \n",
              "4           4   28  Private Sector/Self Employed           Yes        700000   \n",
              "\n",
              "   FamilyMembers  ChronicDiseases FrequentFlyer EverTravelledAbroad  \\\n",
              "0              6                1            No                  No   \n",
              "1              7                0            No                  No   \n",
              "2              4                1            No                  No   \n",
              "3              3                1            No                  No   \n",
              "4              8                1           Yes                  No   \n",
              "\n",
              "   TravelInsurance  \n",
              "0                0  \n",
              "1                0  \n",
              "2                1  \n",
              "3                0  \n",
              "4                0  "
            ],
            "text/html": [
              "\n",
              "  <div id=\"df-d9b79945-d7c2-4f73-bdea-568f9f9993f4\">\n",
              "    <div class=\"colab-df-container\">\n",
              "      <div>\n",
              "<style scoped>\n",
              "    .dataframe tbody tr th:only-of-type {\n",
              "        vertical-align: middle;\n",
              "    }\n",
              "\n",
              "    .dataframe tbody tr th {\n",
              "        vertical-align: top;\n",
              "    }\n",
              "\n",
              "    .dataframe thead th {\n",
              "        text-align: right;\n",
              "    }\n",
              "</style>\n",
              "<table border=\"1\" class=\"dataframe\">\n",
              "  <thead>\n",
              "    <tr style=\"text-align: right;\">\n",
              "      <th></th>\n",
              "      <th>Unnamed: 0</th>\n",
              "      <th>Age</th>\n",
              "      <th>Employment Type</th>\n",
              "      <th>GraduateOrNot</th>\n",
              "      <th>AnnualIncome</th>\n",
              "      <th>FamilyMembers</th>\n",
              "      <th>ChronicDiseases</th>\n",
              "      <th>FrequentFlyer</th>\n",
              "      <th>EverTravelledAbroad</th>\n",
              "      <th>TravelInsurance</th>\n",
              "    </tr>\n",
              "  </thead>\n",
              "  <tbody>\n",
              "    <tr>\n",
              "      <th>0</th>\n",
              "      <td>0</td>\n",
              "      <td>31</td>\n",
              "      <td>Government Sector</td>\n",
              "      <td>Yes</td>\n",
              "      <td>400000</td>\n",
              "      <td>6</td>\n",
              "      <td>1</td>\n",
              "      <td>No</td>\n",
              "      <td>No</td>\n",
              "      <td>0</td>\n",
              "    </tr>\n",
              "    <tr>\n",
              "      <th>1</th>\n",
              "      <td>1</td>\n",
              "      <td>31</td>\n",
              "      <td>Private Sector/Self Employed</td>\n",
              "      <td>Yes</td>\n",
              "      <td>1250000</td>\n",
              "      <td>7</td>\n",
              "      <td>0</td>\n",
              "      <td>No</td>\n",
              "      <td>No</td>\n",
              "      <td>0</td>\n",
              "    </tr>\n",
              "    <tr>\n",
              "      <th>2</th>\n",
              "      <td>2</td>\n",
              "      <td>34</td>\n",
              "      <td>Private Sector/Self Employed</td>\n",
              "      <td>Yes</td>\n",
              "      <td>500000</td>\n",
              "      <td>4</td>\n",
              "      <td>1</td>\n",
              "      <td>No</td>\n",
              "      <td>No</td>\n",
              "      <td>1</td>\n",
              "    </tr>\n",
              "    <tr>\n",
              "      <th>3</th>\n",
              "      <td>3</td>\n",
              "      <td>28</td>\n",
              "      <td>Private Sector/Self Employed</td>\n",
              "      <td>Yes</td>\n",
              "      <td>700000</td>\n",
              "      <td>3</td>\n",
              "      <td>1</td>\n",
              "      <td>No</td>\n",
              "      <td>No</td>\n",
              "      <td>0</td>\n",
              "    </tr>\n",
              "    <tr>\n",
              "      <th>4</th>\n",
              "      <td>4</td>\n",
              "      <td>28</td>\n",
              "      <td>Private Sector/Self Employed</td>\n",
              "      <td>Yes</td>\n",
              "      <td>700000</td>\n",
              "      <td>8</td>\n",
              "      <td>1</td>\n",
              "      <td>Yes</td>\n",
              "      <td>No</td>\n",
              "      <td>0</td>\n",
              "    </tr>\n",
              "  </tbody>\n",
              "</table>\n",
              "</div>\n",
              "      <button class=\"colab-df-convert\" onclick=\"convertToInteractive('df-d9b79945-d7c2-4f73-bdea-568f9f9993f4')\"\n",
              "              title=\"Convert this dataframe to an interactive table.\"\n",
              "              style=\"display:none;\">\n",
              "        \n",
              "  <svg xmlns=\"http://www.w3.org/2000/svg\" height=\"24px\"viewBox=\"0 0 24 24\"\n",
              "       width=\"24px\">\n",
              "    <path d=\"M0 0h24v24H0V0z\" fill=\"none\"/>\n",
              "    <path d=\"M18.56 5.44l.94 2.06.94-2.06 2.06-.94-2.06-.94-.94-2.06-.94 2.06-2.06.94zm-11 1L8.5 8.5l.94-2.06 2.06-.94-2.06-.94L8.5 2.5l-.94 2.06-2.06.94zm10 10l.94 2.06.94-2.06 2.06-.94-2.06-.94-.94-2.06-.94 2.06-2.06.94z\"/><path d=\"M17.41 7.96l-1.37-1.37c-.4-.4-.92-.59-1.43-.59-.52 0-1.04.2-1.43.59L10.3 9.45l-7.72 7.72c-.78.78-.78 2.05 0 2.83L4 21.41c.39.39.9.59 1.41.59.51 0 1.02-.2 1.41-.59l7.78-7.78 2.81-2.81c.8-.78.8-2.07 0-2.86zM5.41 20L4 18.59l7.72-7.72 1.47 1.35L5.41 20z\"/>\n",
              "  </svg>\n",
              "      </button>\n",
              "      \n",
              "  <style>\n",
              "    .colab-df-container {\n",
              "      display:flex;\n",
              "      flex-wrap:wrap;\n",
              "      gap: 12px;\n",
              "    }\n",
              "\n",
              "    .colab-df-convert {\n",
              "      background-color: #E8F0FE;\n",
              "      border: none;\n",
              "      border-radius: 50%;\n",
              "      cursor: pointer;\n",
              "      display: none;\n",
              "      fill: #1967D2;\n",
              "      height: 32px;\n",
              "      padding: 0 0 0 0;\n",
              "      width: 32px;\n",
              "    }\n",
              "\n",
              "    .colab-df-convert:hover {\n",
              "      background-color: #E2EBFA;\n",
              "      box-shadow: 0px 1px 2px rgba(60, 64, 67, 0.3), 0px 1px 3px 1px rgba(60, 64, 67, 0.15);\n",
              "      fill: #174EA6;\n",
              "    }\n",
              "\n",
              "    [theme=dark] .colab-df-convert {\n",
              "      background-color: #3B4455;\n",
              "      fill: #D2E3FC;\n",
              "    }\n",
              "\n",
              "    [theme=dark] .colab-df-convert:hover {\n",
              "      background-color: #434B5C;\n",
              "      box-shadow: 0px 1px 3px 1px rgba(0, 0, 0, 0.15);\n",
              "      filter: drop-shadow(0px 1px 2px rgba(0, 0, 0, 0.3));\n",
              "      fill: #FFFFFF;\n",
              "    }\n",
              "  </style>\n",
              "\n",
              "      <script>\n",
              "        const buttonEl =\n",
              "          document.querySelector('#df-d9b79945-d7c2-4f73-bdea-568f9f9993f4 button.colab-df-convert');\n",
              "        buttonEl.style.display =\n",
              "          google.colab.kernel.accessAllowed ? 'block' : 'none';\n",
              "\n",
              "        async function convertToInteractive(key) {\n",
              "          const element = document.querySelector('#df-d9b79945-d7c2-4f73-bdea-568f9f9993f4');\n",
              "          const dataTable =\n",
              "            await google.colab.kernel.invokeFunction('convertToInteractive',\n",
              "                                                     [key], {});\n",
              "          if (!dataTable) return;\n",
              "\n",
              "          const docLinkHtml = 'Like what you see? Visit the ' +\n",
              "            '<a target=\"_blank\" href=https://colab.research.google.com/notebooks/data_table.ipynb>data table notebook</a>'\n",
              "            + ' to learn more about interactive tables.';\n",
              "          element.innerHTML = '';\n",
              "          dataTable['output_type'] = 'display_data';\n",
              "          await google.colab.output.renderOutput(dataTable, element);\n",
              "          const docLink = document.createElement('div');\n",
              "          docLink.innerHTML = docLinkHtml;\n",
              "          element.appendChild(docLink);\n",
              "        }\n",
              "      </script>\n",
              "    </div>\n",
              "  </div>\n",
              "  "
            ]
          },
          "metadata": {},
          "execution_count": 8
        }
      ]
    },
    {
      "cell_type": "markdown",
      "id": "ffec1555",
      "metadata": {
        "id": "ffec1555"
      },
      "source": [
        "# Checking Data"
      ]
    },
    {
      "cell_type": "code",
      "execution_count": null,
      "id": "cb768cf1",
      "metadata": {
        "id": "cb768cf1",
        "outputId": "f996fdc5-fa0f-463c-8d87-46d099c38455",
        "colab": {
          "base_uri": "https://localhost:8080/"
        }
      },
      "outputs": [
        {
          "output_type": "stream",
          "name": "stdout",
          "text": [
            "<class 'pandas.core.frame.DataFrame'>\n",
            "RangeIndex: 1987 entries, 0 to 1986\n",
            "Data columns (total 10 columns):\n",
            " #   Column               Non-Null Count  Dtype \n",
            "---  ------               --------------  ----- \n",
            " 0   Unnamed: 0           1987 non-null   int64 \n",
            " 1   Age                  1987 non-null   int64 \n",
            " 2   Employment Type      1987 non-null   object\n",
            " 3   GraduateOrNot        1987 non-null   object\n",
            " 4   AnnualIncome         1987 non-null   int64 \n",
            " 5   FamilyMembers        1987 non-null   int64 \n",
            " 6   ChronicDiseases      1987 non-null   int64 \n",
            " 7   FrequentFlyer        1987 non-null   object\n",
            " 8   EverTravelledAbroad  1987 non-null   object\n",
            " 9   TravelInsurance      1987 non-null   int64 \n",
            "dtypes: int64(6), object(4)\n",
            "memory usage: 155.4+ KB\n"
          ]
        }
      ],
      "source": [
        "data.info()"
      ]
    },
    {
      "cell_type": "code",
      "execution_count": null,
      "id": "5f25101b",
      "metadata": {
        "id": "5f25101b",
        "outputId": "b48d9151-307f-4189-9c9a-a1a5782e534c",
        "colab": {
          "base_uri": "https://localhost:8080/"
        }
      },
      "outputs": [
        {
          "output_type": "stream",
          "name": "stdout",
          "text": [
            "baris =  1987 , Kolom =  10\n"
          ]
        }
      ],
      "source": [
        "N, P = data.shape\n",
        "print('baris = ', N, ', Kolom = ', P)"
      ]
    },
    {
      "cell_type": "code",
      "source": [
        "obj_data = data.select_dtypes(include=['object']).copy()\n",
        "print(obj_data.nunique())"
      ],
      "metadata": {
        "colab": {
          "base_uri": "https://localhost:8080/"
        },
        "id": "LWKZCaiXkSLC",
        "outputId": "dcd54c15-0bb6-4407-a7b9-9903a8589d9a"
      },
      "id": "LWKZCaiXkSLC",
      "execution_count": null,
      "outputs": [
        {
          "output_type": "stream",
          "name": "stdout",
          "text": [
            "Employment Type        2\n",
            "GraduateOrNot          2\n",
            "FrequentFlyer          2\n",
            "EverTravelledAbroad    2\n",
            "dtype: int64\n"
          ]
        }
      ]
    },
    {
      "cell_type": "code",
      "execution_count": null,
      "id": "2a54bf9b",
      "metadata": {
        "id": "2a54bf9b",
        "outputId": "02379253-1769-46f1-b47d-d99e4546d680",
        "colab": {
          "base_uri": "https://localhost:8080/"
        }
      },
      "outputs": [
        {
          "output_type": "stream",
          "name": "stdout",
          "text": [
            "Employment Type: ['Government Sector' 'Private Sector/Self Employed']\n",
            "Graduate or Not: ['Yes' 'No']\n",
            "Fraquent Flyer: ['No' 'Yes']\n",
            "Ever Travel Abroad: ['No' 'Yes']\n"
          ]
        }
      ],
      "source": [
        "print('Employment Type:', data['Employment Type'].unique())\n",
        "print('Graduate or Not:', data['GraduateOrNot'].unique())\n",
        "print('Fraquent Flyer:', data['FrequentFlyer'].unique())\n",
        "print('Ever Travel Abroad:', data['EverTravelledAbroad'].unique())"
      ]
    },
    {
      "cell_type": "code",
      "execution_count": null,
      "id": "9a2c332d",
      "metadata": {
        "id": "9a2c332d",
        "outputId": "997da4e6-0632-4717-cb5f-b144e8fab821",
        "colab": {
          "base_uri": "https://localhost:8080/"
        }
      },
      "outputs": [
        {
          "output_type": "execute_result",
          "data": {
            "text/plain": [
              "pandas.core.frame.DataFrame"
            ]
          },
          "metadata": {},
          "execution_count": 13
        }
      ],
      "source": [
        "type(data)"
      ]
    },
    {
      "cell_type": "markdown",
      "source": [
        "##Cek Missing Value"
      ],
      "metadata": {
        "id": "Yn-BNBGNaRxL"
      },
      "id": "Yn-BNBGNaRxL"
    },
    {
      "cell_type": "code",
      "source": [
        "!pip install missingno"
      ],
      "metadata": {
        "id": "hSV2h7rkaU37",
        "colab": {
          "base_uri": "https://localhost:8080/"
        },
        "outputId": "0d7b0af7-bb4d-4843-9179-91a96dc5903e"
      },
      "id": "hSV2h7rkaU37",
      "execution_count": null,
      "outputs": [
        {
          "output_type": "stream",
          "name": "stdout",
          "text": [
            "Requirement already satisfied: missingno in /usr/local/lib/python3.7/dist-packages (0.5.1)\n",
            "Requirement already satisfied: matplotlib in /usr/local/lib/python3.7/dist-packages (from missingno) (3.2.2)\n",
            "Requirement already satisfied: numpy in /usr/local/lib/python3.7/dist-packages (from missingno) (1.21.5)\n",
            "Requirement already satisfied: seaborn in /usr/local/lib/python3.7/dist-packages (from missingno) (0.11.2)\n",
            "Requirement already satisfied: scipy in /usr/local/lib/python3.7/dist-packages (from missingno) (1.7.3)\n",
            "Requirement already satisfied: kiwisolver>=1.0.1 in /usr/local/lib/python3.7/dist-packages (from matplotlib->missingno) (1.4.0)\n",
            "Requirement already satisfied: cycler>=0.10 in /usr/local/lib/python3.7/dist-packages (from matplotlib->missingno) (0.11.0)\n",
            "Requirement already satisfied: python-dateutil>=2.1 in /usr/local/lib/python3.7/dist-packages (from matplotlib->missingno) (2.8.2)\n",
            "Requirement already satisfied: pyparsing!=2.0.4,!=2.1.2,!=2.1.6,>=2.0.1 in /usr/local/lib/python3.7/dist-packages (from matplotlib->missingno) (3.0.7)\n",
            "Requirement already satisfied: typing-extensions in /usr/local/lib/python3.7/dist-packages (from kiwisolver>=1.0.1->matplotlib->missingno) (3.10.0.2)\n",
            "Requirement already satisfied: six>=1.5 in /usr/local/lib/python3.7/dist-packages (from python-dateutil>=2.1->matplotlib->missingno) (1.15.0)\n",
            "Requirement already satisfied: pandas>=0.23 in /usr/local/lib/python3.7/dist-packages (from seaborn->missingno) (1.3.5)\n",
            "Requirement already satisfied: pytz>=2017.3 in /usr/local/lib/python3.7/dist-packages (from pandas>=0.23->seaborn->missingno) (2018.9)\n"
          ]
        }
      ]
    },
    {
      "cell_type": "code",
      "source": [
        "import missingno as msno"
      ],
      "metadata": {
        "id": "0Z1j1KGbaiAV"
      },
      "id": "0Z1j1KGbaiAV",
      "execution_count": null,
      "outputs": []
    },
    {
      "cell_type": "code",
      "source": [
        "print(data.isnull().any())"
      ],
      "metadata": {
        "id": "afE8-s1Zab8Y",
        "colab": {
          "base_uri": "https://localhost:8080/"
        },
        "outputId": "d6d6e611-0804-4202-b619-64136fa2e1f1"
      },
      "id": "afE8-s1Zab8Y",
      "execution_count": null,
      "outputs": [
        {
          "output_type": "stream",
          "name": "stdout",
          "text": [
            "Unnamed: 0             False\n",
            "Age                    False\n",
            "Employment Type        False\n",
            "GraduateOrNot          False\n",
            "AnnualIncome           False\n",
            "FamilyMembers          False\n",
            "ChronicDiseases        False\n",
            "FrequentFlyer          False\n",
            "EverTravelledAbroad    False\n",
            "TravelInsurance        False\n",
            "dtype: bool\n"
          ]
        }
      ]
    },
    {
      "cell_type": "code",
      "source": [
        "msno.matrix(data[['Age','Employment Type','GraduateOrNot','AnnualIncome','FamilyMembers','ChronicDiseases','FrequentFlyer','EverTravelledAbroad','TravelInsurance']])"
      ],
      "metadata": {
        "id": "81E3EtQiaeQT",
        "colab": {
          "base_uri": "https://localhost:8080/",
          "height": 628
        },
        "outputId": "807af689-fbc3-4a7a-9ef7-9f38c5984ef6"
      },
      "id": "81E3EtQiaeQT",
      "execution_count": null,
      "outputs": [
        {
          "output_type": "execute_result",
          "data": {
            "text/plain": [
              "<matplotlib.axes._subplots.AxesSubplot at 0x7f9f895f4210>"
            ]
          },
          "metadata": {},
          "execution_count": 17
        },
        {
          "output_type": "display_data",
          "data": {
            "text/plain": [
              "<Figure size 1800x720 with 2 Axes>"
            ],
            "image/png": "[encoded data removed]"
          },
          "metadata": {
            "needs_background": "light"
          }
        }
      ]
    },
    {
      "cell_type": "markdown",
      "source": [
        "# Visualisasi Data"
      ],
      "metadata": {
        "id": "aMCp-vZpl1A-"
      },
      "id": "aMCp-vZpl1A-"
    },
    {
      "cell_type": "code",
      "source": [
        "def plot_bar_graph(column_name):\n",
        "    ed_count = column_name.value_counts()\n",
        "    sns.set(style=\"darkgrid\")\n",
        "    sns.barplot(ed_count.index, ed_count.values, alpha=0.9)\n",
        "    plt.title('Frequency Distribution of {} Levels using Bar Plot'.format(column_name.name))\n",
        "    plt.ylabel('Number of Occurrences', fontsize=12)\n",
        "    plt.xlabel('{}'.format(column_name.name), fontsize=12)\n",
        "    plt.show()\n",
        "\n",
        "def plot_pie_graph(column_name):\n",
        "    labels = column_name.astype('category').cat.categories.tolist()\n",
        "    counts = column_name.value_counts()\n",
        "    sizes = [counts[var_cat] for var_cat in labels]\n",
        "    fig1, ax1 = plt.subplots()\n",
        "    ax1.pie(sizes, labels=labels, autopct='%1.1f%%', shadow=True) #autopct is show the % on plot\n",
        "    ax1.axis('equal')\n",
        "    plt.title('Frequency Distribution of {} Levels using Pie Chart'.format(column_name.name))\n",
        "    plt.show()"
      ],
      "metadata": {
        "id": "I-JG3O8Al3V9"
      },
      "id": "I-JG3O8Al3V9",
      "execution_count": null,
      "outputs": []
    },
    {
      "cell_type": "code",
      "source": [
        "for col in obj_data.columns:\n",
        "    plot_bar_graph(obj_data[col])\n",
        "    plot_pie_graph(obj_data[col])"
      ],
      "metadata": {
        "colab": {
          "base_uri": "https://localhost:8080/",
          "height": 1000
        },
        "id": "EKrdfnYumLI0",
        "outputId": "29cd0c8b-6eb1-4743-8a38-5d655e28e38f"
      },
      "id": "EKrdfnYumLI0",
      "execution_count": null,
      "outputs": [
        {
          "output_type": "stream",
          "name": "stderr",
          "text": [
            "/usr/local/lib/python3.7/dist-packages/seaborn/_decorators.py:43: FutureWarning: Pass the following variables as keyword args: x, y. From version 0.12, the only valid positional argument will be `data`, and passing other arguments without an explicit keyword will result in an error or misinterpretation.\n",
            "  FutureWarning\n"
          ]
        },
        {
          "output_type": "display_data",
          "data": {
            "text/plain": [
              "<Figure size 432x288 with 1 Axes>"
            ],
            "image/png": "[encoded data removed]"
          },
          "metadata": {}
        },
        {
          "output_type": "display_data",
          "data": {
            "text/plain": [
              "<Figure size 432x288 with 1 Axes>"
            ],
            "image/png": "[encoded data removed]"
          },
          "metadata": {}
        },
        {
          "output_type": "stream",
          "name": "stderr",
          "text": [
            "/usr/local/lib/python3.7/dist-packages/seaborn/_decorators.py:43: FutureWarning: Pass the following variables as keyword args: x, y. From version 0.12, the only valid positional argument will be `data`, and passing other arguments without an explicit keyword will result in an error or misinterpretation.\n",
            "  FutureWarning\n"
          ]
        },
        {
          "output_type": "display_data",
          "data": {
            "text/plain": [
              "<Figure size 432x288 with 1 Axes>"
            ],
            "image/png": "[encoded data removed]"
          },
          "metadata": {}
        },
        {
          "output_type": "display_data",
          "data": {
            "text/plain": [
              "<Figure size 432x288 with 1 Axes>"
            ],
            "image/png": "[encoded data removed]"
          },
          "metadata": {}
        },
        {
          "output_type": "stream",
          "name": "stderr",
          "text": [
            "/usr/local/lib/python3.7/dist-packages/seaborn/_decorators.py:43: FutureWarning: Pass the following variables as keyword args: x, y. From version 0.12, the only valid positional argument will be `data`, and passing other arguments without an explicit keyword will result in an error or misinterpretation.\n",
            "  FutureWarning\n"
          ]
        },
        {
          "output_type": "display_data",
          "data": {
            "text/plain": [
              "<Figure size 432x288 with 1 Axes>"
            ],
            "image/png": "[encoded data removed]"
          },
          "metadata": {}
        },
        {
          "output_type": "display_data",
          "data": {
            "text/plain": [
              "<Figure size 432x288 with 1 Axes>"
            ],
            "image/png": "[encoded data removed]"
          },
          "metadata": {}
        },
        {
          "output_type": "stream",
          "name": "stderr",
          "text": [
            "/usr/local/lib/python3.7/dist-packages/seaborn/_decorators.py:43: FutureWarning: Pass the following variables as keyword args: x, y. From version 0.12, the only valid positional argument will be `data`, and passing other arguments without an explicit keyword will result in an error or misinterpretation.\n",
            "  FutureWarning\n"
          ]
        },
        {
          "output_type": "display_data",
          "data": {
            "text/plain": [
              "<Figure size 432x288 with 1 Axes>"
            ],
            "image/png": "[encoded data removed]"
          },
          "metadata": {}
        },
        {
          "output_type": "display_data",
          "data": {
            "text/plain": [
              "<Figure size 432x288 with 1 Axes>"
            ],
            "image/png": "[encoded data removed]"
          },
          "metadata": {}
        }
      ]
    },
    {
      "cell_type": "code",
      "execution_count": null,
      "id": "38c246fc",
      "metadata": {
        "id": "38c246fc",
        "outputId": "51eb6574-01c6-4bd1-b1cf-fb144a598cf5",
        "colab": {
          "base_uri": "https://localhost:8080/"
        }
      },
      "outputs": [
        {
          "output_type": "execute_result",
          "data": {
            "text/plain": [
              "28    506\n",
              "34    266\n",
              "31    234\n",
              "29    192\n",
              "33    148\n",
              "26    148\n",
              "25    146\n",
              "27    131\n",
              "32     91\n",
              "30     65\n",
              "35     60\n",
              "Name: Age, dtype: int64"
            ]
          },
          "metadata": {},
          "execution_count": 20
        }
      ],
      "source": [
        "data['Age'].value_counts()"
      ]
    },
    {
      "cell_type": "code",
      "execution_count": null,
      "id": "aff3954f",
      "metadata": {
        "id": "aff3954f",
        "outputId": "2f61d6e1-fd4c-49e6-d1db-3c0d7663b14b",
        "colab": {
          "base_uri": "https://localhost:8080/"
        }
      },
      "outputs": [
        {
          "output_type": "stream",
          "name": "stdout",
          "text": [
            "Private Sector/Self Employed    1417\n",
            "Government Sector                570\n",
            "Name: Employment Type, dtype: int64\n",
            "-----------------------------------------\n",
            "Yes    1692\n",
            "No      295\n",
            "Name: GraduateOrNot, dtype: int64\n",
            "-----------------------------------------\n",
            "No     1570\n",
            "Yes     417\n",
            "Name: FrequentFlyer, dtype: int64\n",
            "-----------------------------------------\n",
            "No     1607\n",
            "Yes     380\n",
            "Name: EverTravelledAbroad, dtype: int64\n"
          ]
        }
      ],
      "source": [
        "print(data['Employment Type'].value_counts())\n",
        "print('-----------------------------------------')\n",
        "print(data['GraduateOrNot'].value_counts())\n",
        "print('-----------------------------------------')\n",
        "print(data['FrequentFlyer'].value_counts())\n",
        "print('-----------------------------------------')\n",
        "print(data['EverTravelledAbroad'].value_counts())"
      ]
    },
    {
      "cell_type": "code",
      "execution_count": null,
      "id": "a244dc9c",
      "metadata": {
        "id": "a244dc9c",
        "outputId": "ea0cafba-791c-4f0d-fc09-2d3698f38529",
        "colab": {
          "base_uri": "https://localhost:8080/",
          "height": 363
        }
      },
      "outputs": [
        {
          "output_type": "execute_result",
          "data": {
            "text/plain": [
              "                                                               AnnualIncome  \\\n",
              "                                                                        max   \n",
              "Employment Type              EverTravelledAbroad FrequentFlyer                \n",
              "Government Sector            No                  No               1750000.0   \n",
              "                                                 Yes              1300000.0   \n",
              "                             Yes                 No               1300000.0   \n",
              "                                                 Yes              1500000.0   \n",
              "Private Sector/Self Employed No                  No               1750000.0   \n",
              "                                                 Yes              1800000.0   \n",
              "                             Yes                 No               1750000.0   \n",
              "                                                 Yes              1700000.0   \n",
              "\n",
              "                                                                              \\\n",
              "                                                                        mean   \n",
              "Employment Type              EverTravelledAbroad FrequentFlyer                 \n",
              "Government Sector            No                  No             6.777197e+05   \n",
              "                                                 Yes            8.840426e+05   \n",
              "                             Yes                 No             8.540000e+05   \n",
              "                                                 Yes            1.330000e+06   \n",
              "Private Sector/Self Employed No                  No             8.765909e+05   \n",
              "                                                 Yes            1.083911e+06   \n",
              "                             Yes                 No             1.283957e+06   \n",
              "                                                 Yes            1.415541e+06   \n",
              "\n",
              "                                                                          \n",
              "                                                                     min  \n",
              "Employment Type              EverTravelledAbroad FrequentFlyer            \n",
              "Government Sector            No                  No             300000.0  \n",
              "                                                 Yes            600000.0  \n",
              "                             Yes                 No             350000.0  \n",
              "                                                 Yes            800000.0  \n",
              "Private Sector/Self Employed No                  No             350000.0  \n",
              "                                                 Yes            550000.0  \n",
              "                             Yes                 No             550000.0  \n",
              "                                                 Yes            500000.0  "
            ],
            "text/html": [
              "\n",
              "  <div id=\"df-5751b5dd-b89b-447b-a953-529df9ebd4a0\">\n",
              "    <div class=\"colab-df-container\">\n",
              "      <div>\n",
              "<style scoped>\n",
              "    .dataframe tbody tr th:only-of-type {\n",
              "        vertical-align: middle;\n",
              "    }\n",
              "\n",
              "    .dataframe tbody tr th {\n",
              "        vertical-align: top;\n",
              "    }\n",
              "\n",
              "    .dataframe thead tr th {\n",
              "        text-align: left;\n",
              "    }\n",
              "\n",
              "    .dataframe thead tr:last-of-type th {\n",
              "        text-align: right;\n",
              "    }\n",
              "</style>\n",
              "<table border=\"1\" class=\"dataframe\">\n",
              "  <thead>\n",
              "    <tr>\n",
              "      <th></th>\n",
              "      <th></th>\n",
              "      <th></th>\n",
              "      <th colspan=\"3\" halign=\"left\">AnnualIncome</th>\n",
              "    </tr>\n",
              "    <tr>\n",
              "      <th></th>\n",
              "      <th></th>\n",
              "      <th></th>\n",
              "      <th>max</th>\n",
              "      <th>mean</th>\n",
              "      <th>min</th>\n",
              "    </tr>\n",
              "    <tr>\n",
              "      <th>Employment Type</th>\n",
              "      <th>EverTravelledAbroad</th>\n",
              "      <th>FrequentFlyer</th>\n",
              "      <th></th>\n",
              "      <th></th>\n",
              "      <th></th>\n",
              "    </tr>\n",
              "  </thead>\n",
              "  <tbody>\n",
              "    <tr>\n",
              "      <th rowspan=\"4\" valign=\"top\">Government Sector</th>\n",
              "      <th rowspan=\"2\" valign=\"top\">No</th>\n",
              "      <th>No</th>\n",
              "      <td>1750000.0</td>\n",
              "      <td>6.777197e+05</td>\n",
              "      <td>300000.0</td>\n",
              "    </tr>\n",
              "    <tr>\n",
              "      <th>Yes</th>\n",
              "      <td>1300000.0</td>\n",
              "      <td>8.840426e+05</td>\n",
              "      <td>600000.0</td>\n",
              "    </tr>\n",
              "    <tr>\n",
              "      <th rowspan=\"2\" valign=\"top\">Yes</th>\n",
              "      <th>No</th>\n",
              "      <td>1300000.0</td>\n",
              "      <td>8.540000e+05</td>\n",
              "      <td>350000.0</td>\n",
              "    </tr>\n",
              "    <tr>\n",
              "      <th>Yes</th>\n",
              "      <td>1500000.0</td>\n",
              "      <td>1.330000e+06</td>\n",
              "      <td>800000.0</td>\n",
              "    </tr>\n",
              "    <tr>\n",
              "      <th rowspan=\"4\" valign=\"top\">Private Sector/Self Employed</th>\n",
              "      <th rowspan=\"2\" valign=\"top\">No</th>\n",
              "      <th>No</th>\n",
              "      <td>1750000.0</td>\n",
              "      <td>8.765909e+05</td>\n",
              "      <td>350000.0</td>\n",
              "    </tr>\n",
              "    <tr>\n",
              "      <th>Yes</th>\n",
              "      <td>1800000.0</td>\n",
              "      <td>1.083911e+06</td>\n",
              "      <td>550000.0</td>\n",
              "    </tr>\n",
              "    <tr>\n",
              "      <th rowspan=\"2\" valign=\"top\">Yes</th>\n",
              "      <th>No</th>\n",
              "      <td>1750000.0</td>\n",
              "      <td>1.283957e+06</td>\n",
              "      <td>550000.0</td>\n",
              "    </tr>\n",
              "    <tr>\n",
              "      <th>Yes</th>\n",
              "      <td>1700000.0</td>\n",
              "      <td>1.415541e+06</td>\n",
              "      <td>500000.0</td>\n",
              "    </tr>\n",
              "  </tbody>\n",
              "</table>\n",
              "</div>\n",
              "      <button class=\"colab-df-convert\" onclick=\"convertToInteractive('df-5751b5dd-b89b-447b-a953-529df9ebd4a0')\"\n",
              "              title=\"Convert this dataframe to an interactive table.\"\n",
              "              style=\"display:none;\">\n",
              "        \n",
              "  <svg xmlns=\"http://www.w3.org/2000/svg\" height=\"24px\"viewBox=\"0 0 24 24\"\n",
              "       width=\"24px\">\n",
              "    <path d=\"M0 0h24v24H0V0z\" fill=\"none\"/>\n",
              "    <path d=\"M18.56 5.44l.94 2.06.94-2.06 2.06-.94-2.06-.94-.94-2.06-.94 2.06-2.06.94zm-11 1L8.5 8.5l.94-2.06 2.06-.94-2.06-.94L8.5 2.5l-.94 2.06-2.06.94zm10 10l.94 2.06.94-2.06 2.06-.94-2.06-.94-.94-2.06-.94 2.06-2.06.94z\"/><path d=\"M17.41 7.96l-1.37-1.37c-.4-.4-.92-.59-1.43-.59-.52 0-1.04.2-1.43.59L10.3 9.45l-7.72 7.72c-.78.78-.78 2.05 0 2.83L4 21.41c.39.39.9.59 1.41.59.51 0 1.02-.2 1.41-.59l7.78-7.78 2.81-2.81c.8-.78.8-2.07 0-2.86zM5.41 20L4 18.59l7.72-7.72 1.47 1.35L5.41 20z\"/>\n",
              "  </svg>\n",
              "      </button>\n",
              "      \n",
              "  <style>\n",
              "    .colab-df-container {\n",
              "      display:flex;\n",
              "      flex-wrap:wrap;\n",
              "      gap: 12px;\n",
              "    }\n",
              "\n",
              "    .colab-df-convert {\n",
              "      background-color: #E8F0FE;\n",
              "      border: none;\n",
              "      border-radius: 50%;\n",
              "      cursor: pointer;\n",
              "      display: none;\n",
              "      fill: #1967D2;\n",
              "      height: 32px;\n",
              "      padding: 0 0 0 0;\n",
              "      width: 32px;\n",
              "    }\n",
              "\n",
              "    .colab-df-convert:hover {\n",
              "      background-color: #E2EBFA;\n",
              "      box-shadow: 0px 1px 2px rgba(60, 64, 67, 0.3), 0px 1px 3px 1px rgba(60, 64, 67, 0.15);\n",
              "      fill: #174EA6;\n",
              "    }\n",
              "\n",
              "    [theme=dark] .colab-df-convert {\n",
              "      background-color: #3B4455;\n",
              "      fill: #D2E3FC;\n",
              "    }\n",
              "\n",
              "    [theme=dark] .colab-df-convert:hover {\n",
              "      background-color: #434B5C;\n",
              "      box-shadow: 0px 1px 3px 1px rgba(0, 0, 0, 0.15);\n",
              "      filter: drop-shadow(0px 1px 2px rgba(0, 0, 0, 0.3));\n",
              "      fill: #FFFFFF;\n",
              "    }\n",
              "  </style>\n",
              "\n",
              "      <script>\n",
              "        const buttonEl =\n",
              "          document.querySelector('#df-5751b5dd-b89b-447b-a953-529df9ebd4a0 button.colab-df-convert');\n",
              "        buttonEl.style.display =\n",
              "          google.colab.kernel.accessAllowed ? 'block' : 'none';\n",
              "\n",
              "        async function convertToInteractive(key) {\n",
              "          const element = document.querySelector('#df-5751b5dd-b89b-447b-a953-529df9ebd4a0');\n",
              "          const dataTable =\n",
              "            await google.colab.kernel.invokeFunction('convertToInteractive',\n",
              "                                                     [key], {});\n",
              "          if (!dataTable) return;\n",
              "\n",
              "          const docLinkHtml = 'Like what you see? Visit the ' +\n",
              "            '<a target=\"_blank\" href=https://colab.research.google.com/notebooks/data_table.ipynb>data table notebook</a>'\n",
              "            + ' to learn more about interactive tables.';\n",
              "          element.innerHTML = '';\n",
              "          dataTable['output_type'] = 'display_data';\n",
              "          await google.colab.output.renderOutput(dataTable, element);\n",
              "          const docLink = document.createElement('div');\n",
              "          docLink.innerHTML = docLinkHtml;\n",
              "          element.appendChild(docLink);\n",
              "        }\n",
              "      </script>\n",
              "    </div>\n",
              "  </div>\n",
              "  "
            ]
          },
          "metadata": {},
          "execution_count": 22
        }
      ],
      "source": [
        "table1 = pd.pivot_table(data, values=['AnnualIncome'], index=['Employment Type', 'EverTravelledAbroad','FrequentFlyer'],\n",
        "                    aggfunc={'AnnualIncome': [min, max, np.mean]})\n",
        "table1"
      ]
    },
    {
      "cell_type": "code",
      "execution_count": null,
      "id": "6731df8b",
      "metadata": {
        "id": "6731df8b",
        "outputId": "2f556ec3-804f-4110-c283-2bd6d33008e7",
        "colab": {
          "base_uri": "https://localhost:8080/",
          "height": 520
        }
      },
      "outputs": [
        {
          "output_type": "execute_result",
          "data": {
            "text/plain": [
              "                                                                             FamilyMembers  \\\n",
              "                                                                                       max   \n",
              "Employment Type              EverTravelledAbroad FrequentFlyer GraduateOrNot                 \n",
              "Government Sector            No                  No            No                        9   \n",
              "                                                               Yes                       9   \n",
              "                                                 Yes           Yes                       9   \n",
              "                             Yes                 No            Yes                       9   \n",
              "                                                 Yes           Yes                       7   \n",
              "Private Sector/Self Employed No                  No            No                        9   \n",
              "                                                               Yes                       9   \n",
              "                                                 Yes           No                        8   \n",
              "                                                               Yes                       9   \n",
              "                             Yes                 No            No                        7   \n",
              "                                                               Yes                       9   \n",
              "                                                 Yes           No                        9   \n",
              "                                                               Yes                       9   \n",
              "\n",
              "                                                                                  \n",
              "                                                                             min  \n",
              "Employment Type              EverTravelledAbroad FrequentFlyer GraduateOrNot      \n",
              "Government Sector            No                  No            No              2  \n",
              "                                                               Yes             2  \n",
              "                                                 Yes           Yes             2  \n",
              "                             Yes                 No            Yes             2  \n",
              "                                                 Yes           Yes             2  \n",
              "Private Sector/Self Employed No                  No            No              2  \n",
              "                                                               Yes             2  \n",
              "                                                 Yes           No              3  \n",
              "                                                               Yes             2  \n",
              "                             Yes                 No            No              2  \n",
              "                                                               Yes             2  \n",
              "                                                 Yes           No              2  \n",
              "                                                               Yes             2  "
            ],
            "text/html": [
              "\n",
              "  <div id=\"df-b4d6a4bb-df00-4502-a55f-04b36fbcc535\">\n",
              "    <div class=\"colab-df-container\">\n",
              "      <div>\n",
              "<style scoped>\n",
              "    .dataframe tbody tr th:only-of-type {\n",
              "        vertical-align: middle;\n",
              "    }\n",
              "\n",
              "    .dataframe tbody tr th {\n",
              "        vertical-align: top;\n",
              "    }\n",
              "\n",
              "    .dataframe thead tr th {\n",
              "        text-align: left;\n",
              "    }\n",
              "\n",
              "    .dataframe thead tr:last-of-type th {\n",
              "        text-align: right;\n",
              "    }\n",
              "</style>\n",
              "<table border=\"1\" class=\"dataframe\">\n",
              "  <thead>\n",
              "    <tr>\n",
              "      <th></th>\n",
              "      <th></th>\n",
              "      <th></th>\n",
              "      <th></th>\n",
              "      <th colspan=\"2\" halign=\"left\">FamilyMembers</th>\n",
              "    </tr>\n",
              "    <tr>\n",
              "      <th></th>\n",
              "      <th></th>\n",
              "      <th></th>\n",
              "      <th></th>\n",
              "      <th>max</th>\n",
              "      <th>min</th>\n",
              "    </tr>\n",
              "    <tr>\n",
              "      <th>Employment Type</th>\n",
              "      <th>EverTravelledAbroad</th>\n",
              "      <th>FrequentFlyer</th>\n",
              "      <th>GraduateOrNot</th>\n",
              "      <th></th>\n",
              "      <th></th>\n",
              "    </tr>\n",
              "  </thead>\n",
              "  <tbody>\n",
              "    <tr>\n",
              "      <th rowspan=\"5\" valign=\"top\">Government Sector</th>\n",
              "      <th rowspan=\"3\" valign=\"top\">No</th>\n",
              "      <th rowspan=\"2\" valign=\"top\">No</th>\n",
              "      <th>No</th>\n",
              "      <td>9</td>\n",
              "      <td>2</td>\n",
              "    </tr>\n",
              "    <tr>\n",
              "      <th>Yes</th>\n",
              "      <td>9</td>\n",
              "      <td>2</td>\n",
              "    </tr>\n",
              "    <tr>\n",
              "      <th>Yes</th>\n",
              "      <th>Yes</th>\n",
              "      <td>9</td>\n",
              "      <td>2</td>\n",
              "    </tr>\n",
              "    <tr>\n",
              "      <th rowspan=\"2\" valign=\"top\">Yes</th>\n",
              "      <th>No</th>\n",
              "      <th>Yes</th>\n",
              "      <td>9</td>\n",
              "      <td>2</td>\n",
              "    </tr>\n",
              "    <tr>\n",
              "      <th>Yes</th>\n",
              "      <th>Yes</th>\n",
              "      <td>7</td>\n",
              "      <td>2</td>\n",
              "    </tr>\n",
              "    <tr>\n",
              "      <th rowspan=\"8\" valign=\"top\">Private Sector/Self Employed</th>\n",
              "      <th rowspan=\"4\" valign=\"top\">No</th>\n",
              "      <th rowspan=\"2\" valign=\"top\">No</th>\n",
              "      <th>No</th>\n",
              "      <td>9</td>\n",
              "      <td>2</td>\n",
              "    </tr>\n",
              "    <tr>\n",
              "      <th>Yes</th>\n",
              "      <td>9</td>\n",
              "      <td>2</td>\n",
              "    </tr>\n",
              "    <tr>\n",
              "      <th rowspan=\"2\" valign=\"top\">Yes</th>\n",
              "      <th>No</th>\n",
              "      <td>8</td>\n",
              "      <td>3</td>\n",
              "    </tr>\n",
              "    <tr>\n",
              "      <th>Yes</th>\n",
              "      <td>9</td>\n",
              "      <td>2</td>\n",
              "    </tr>\n",
              "    <tr>\n",
              "      <th rowspan=\"4\" valign=\"top\">Yes</th>\n",
              "      <th rowspan=\"2\" valign=\"top\">No</th>\n",
              "      <th>No</th>\n",
              "      <td>7</td>\n",
              "      <td>2</td>\n",
              "    </tr>\n",
              "    <tr>\n",
              "      <th>Yes</th>\n",
              "      <td>9</td>\n",
              "      <td>2</td>\n",
              "    </tr>\n",
              "    <tr>\n",
              "      <th rowspan=\"2\" valign=\"top\">Yes</th>\n",
              "      <th>No</th>\n",
              "      <td>9</td>\n",
              "      <td>2</td>\n",
              "    </tr>\n",
              "    <tr>\n",
              "      <th>Yes</th>\n",
              "      <td>9</td>\n",
              "      <td>2</td>\n",
              "    </tr>\n",
              "  </tbody>\n",
              "</table>\n",
              "</div>\n",
              "      <button class=\"colab-df-convert\" onclick=\"convertToInteractive('df-b4d6a4bb-df00-4502-a55f-04b36fbcc535')\"\n",
              "              title=\"Convert this dataframe to an interactive table.\"\n",
              "              style=\"display:none;\">\n",
              "        \n",
              "  <svg xmlns=\"http://www.w3.org/2000/svg\" height=\"24px\"viewBox=\"0 0 24 24\"\n",
              "       width=\"24px\">\n",
              "    <path d=\"M0 0h24v24H0V0z\" fill=\"none\"/>\n",
              "    <path d=\"M18.56 5.44l.94 2.06.94-2.06 2.06-.94-2.06-.94-.94-2.06-.94 2.06-2.06.94zm-11 1L8.5 8.5l.94-2.06 2.06-.94-2.06-.94L8.5 2.5l-.94 2.06-2.06.94zm10 10l.94 2.06.94-2.06 2.06-.94-2.06-.94-.94-2.06-.94 2.06-2.06.94z\"/><path d=\"M17.41 7.96l-1.37-1.37c-.4-.4-.92-.59-1.43-.59-.52 0-1.04.2-1.43.59L10.3 9.45l-7.72 7.72c-.78.78-.78 2.05 0 2.83L4 21.41c.39.39.9.59 1.41.59.51 0 1.02-.2 1.41-.59l7.78-7.78 2.81-2.81c.8-.78.8-2.07 0-2.86zM5.41 20L4 18.59l7.72-7.72 1.47 1.35L5.41 20z\"/>\n",
              "  </svg>\n",
              "      </button>\n",
              "      \n",
              "  <style>\n",
              "    .colab-df-container {\n",
              "      display:flex;\n",
              "      flex-wrap:wrap;\n",
              "      gap: 12px;\n",
              "    }\n",
              "\n",
              "    .colab-df-convert {\n",
              "      background-color: #E8F0FE;\n",
              "      border: none;\n",
              "      border-radius: 50%;\n",
              "      cursor: pointer;\n",
              "      display: none;\n",
              "      fill: #1967D2;\n",
              "      height: 32px;\n",
              "      padding: 0 0 0 0;\n",
              "      width: 32px;\n",
              "    }\n",
              "\n",
              "    .colab-df-convert:hover {\n",
              "      background-color: #E2EBFA;\n",
              "      box-shadow: 0px 1px 2px rgba(60, 64, 67, 0.3), 0px 1px 3px 1px rgba(60, 64, 67, 0.15);\n",
              "      fill: #174EA6;\n",
              "    }\n",
              "\n",
              "    [theme=dark] .colab-df-convert {\n",
              "      background-color: #3B4455;\n",
              "      fill: #D2E3FC;\n",
              "    }\n",
              "\n",
              "    [theme=dark] .colab-df-convert:hover {\n",
              "      background-color: #434B5C;\n",
              "      box-shadow: 0px 1px 3px 1px rgba(0, 0, 0, 0.15);\n",
              "      filter: drop-shadow(0px 1px 2px rgba(0, 0, 0, 0.3));\n",
              "      fill: #FFFFFF;\n",
              "    }\n",
              "  </style>\n",
              "\n",
              "      <script>\n",
              "        const buttonEl =\n",
              "          document.querySelector('#df-b4d6a4bb-df00-4502-a55f-04b36fbcc535 button.colab-df-convert');\n",
              "        buttonEl.style.display =\n",
              "          google.colab.kernel.accessAllowed ? 'block' : 'none';\n",
              "\n",
              "        async function convertToInteractive(key) {\n",
              "          const element = document.querySelector('#df-b4d6a4bb-df00-4502-a55f-04b36fbcc535');\n",
              "          const dataTable =\n",
              "            await google.colab.kernel.invokeFunction('convertToInteractive',\n",
              "                                                     [key], {});\n",
              "          if (!dataTable) return;\n",
              "\n",
              "          const docLinkHtml = 'Like what you see? Visit the ' +\n",
              "            '<a target=\"_blank\" href=https://colab.research.google.com/notebooks/data_table.ipynb>data table notebook</a>'\n",
              "            + ' to learn more about interactive tables.';\n",
              "          element.innerHTML = '';\n",
              "          dataTable['output_type'] = 'display_data';\n",
              "          await google.colab.output.renderOutput(dataTable, element);\n",
              "          const docLink = document.createElement('div');\n",
              "          docLink.innerHTML = docLinkHtml;\n",
              "          element.appendChild(docLink);\n",
              "        }\n",
              "      </script>\n",
              "    </div>\n",
              "  </div>\n",
              "  "
            ]
          },
          "metadata": {},
          "execution_count": 23
        }
      ],
      "source": [
        "table2 = pd.pivot_table(data, values=['FamilyMembers'], index=['Employment Type', 'EverTravelledAbroad','FrequentFlyer','GraduateOrNot'],\n",
        "                    aggfunc={'FamilyMembers': [min,max]})\n",
        "table2"
      ]
    },
    {
      "cell_type": "code",
      "execution_count": null,
      "id": "9f74f341",
      "metadata": {
        "id": "9f74f341",
        "outputId": "78f6d31e-6861-4a7c-f076-aeb7978847aa",
        "colab": {
          "base_uri": "https://localhost:8080/",
          "height": 238
        }
      },
      "outputs": [
        {
          "output_type": "execute_result",
          "data": {
            "text/plain": [
              "                                           AnnualIncome        \n",
              "                                                    max     min\n",
              "Employment Type              GraduateOrNot                     \n",
              "Government Sector            No                 1750000  300000\n",
              "                             Yes                1750000  300000\n",
              "Private Sector/Self Employed No                 1700000  350000\n",
              "                             Yes                1800000  350000"
            ],
            "text/html": [
              "\n",
              "  <div id=\"df-bf385484-3456-4824-b9ce-c98bda6648f4\">\n",
              "    <div class=\"colab-df-container\">\n",
              "      <div>\n",
              "<style scoped>\n",
              "    .dataframe tbody tr th:only-of-type {\n",
              "        vertical-align: middle;\n",
              "    }\n",
              "\n",
              "    .dataframe tbody tr th {\n",
              "        vertical-align: top;\n",
              "    }\n",
              "\n",
              "    .dataframe thead tr th {\n",
              "        text-align: left;\n",
              "    }\n",
              "\n",
              "    .dataframe thead tr:last-of-type th {\n",
              "        text-align: right;\n",
              "    }\n",
              "</style>\n",
              "<table border=\"1\" class=\"dataframe\">\n",
              "  <thead>\n",
              "    <tr>\n",
              "      <th></th>\n",
              "      <th></th>\n",
              "      <th colspan=\"2\" halign=\"left\">AnnualIncome</th>\n",
              "    </tr>\n",
              "    <tr>\n",
              "      <th></th>\n",
              "      <th></th>\n",
              "      <th>max</th>\n",
              "      <th>min</th>\n",
              "    </tr>\n",
              "    <tr>\n",
              "      <th>Employment Type</th>\n",
              "      <th>GraduateOrNot</th>\n",
              "      <th></th>\n",
              "      <th></th>\n",
              "    </tr>\n",
              "  </thead>\n",
              "  <tbody>\n",
              "    <tr>\n",
              "      <th rowspan=\"2\" valign=\"top\">Government Sector</th>\n",
              "      <th>No</th>\n",
              "      <td>1750000</td>\n",
              "      <td>300000</td>\n",
              "    </tr>\n",
              "    <tr>\n",
              "      <th>Yes</th>\n",
              "      <td>1750000</td>\n",
              "      <td>300000</td>\n",
              "    </tr>\n",
              "    <tr>\n",
              "      <th rowspan=\"2\" valign=\"top\">Private Sector/Self Employed</th>\n",
              "      <th>No</th>\n",
              "      <td>1700000</td>\n",
              "      <td>350000</td>\n",
              "    </tr>\n",
              "    <tr>\n",
              "      <th>Yes</th>\n",
              "      <td>1800000</td>\n",
              "      <td>350000</td>\n",
              "    </tr>\n",
              "  </tbody>\n",
              "</table>\n",
              "</div>\n",
              "      <button class=\"colab-df-convert\" onclick=\"convertToInteractive('df-bf385484-3456-4824-b9ce-c98bda6648f4')\"\n",
              "              title=\"Convert this dataframe to an interactive table.\"\n",
              "              style=\"display:none;\">\n",
              "        \n",
              "  <svg xmlns=\"http://www.w3.org/2000/svg\" height=\"24px\"viewBox=\"0 0 24 24\"\n",
              "       width=\"24px\">\n",
              "    <path d=\"M0 0h24v24H0V0z\" fill=\"none\"/>\n",
              "    <path d=\"M18.56 5.44l.94 2.06.94-2.06 2.06-.94-2.06-.94-.94-2.06-.94 2.06-2.06.94zm-11 1L8.5 8.5l.94-2.06 2.06-.94-2.06-.94L8.5 2.5l-.94 2.06-2.06.94zm10 10l.94 2.06.94-2.06 2.06-.94-2.06-.94-.94-2.06-.94 2.06-2.06.94z\"/><path d=\"M17.41 7.96l-1.37-1.37c-.4-.4-.92-.59-1.43-.59-.52 0-1.04.2-1.43.59L10.3 9.45l-7.72 7.72c-.78.78-.78 2.05 0 2.83L4 21.41c.39.39.9.59 1.41.59.51 0 1.02-.2 1.41-.59l7.78-7.78 2.81-2.81c.8-.78.8-2.07 0-2.86zM5.41 20L4 18.59l7.72-7.72 1.47 1.35L5.41 20z\"/>\n",
              "  </svg>\n",
              "      </button>\n",
              "      \n",
              "  <style>\n",
              "    .colab-df-container {\n",
              "      display:flex;\n",
              "      flex-wrap:wrap;\n",
              "      gap: 12px;\n",
              "    }\n",
              "\n",
              "    .colab-df-convert {\n",
              "      background-color: #E8F0FE;\n",
              "      border: none;\n",
              "      border-radius: 50%;\n",
              "      cursor: pointer;\n",
              "      display: none;\n",
              "      fill: #1967D2;\n",
              "      height: 32px;\n",
              "      padding: 0 0 0 0;\n",
              "      width: 32px;\n",
              "    }\n",
              "\n",
              "    .colab-df-convert:hover {\n",
              "      background-color: #E2EBFA;\n",
              "      box-shadow: 0px 1px 2px rgba(60, 64, 67, 0.3), 0px 1px 3px 1px rgba(60, 64, 67, 0.15);\n",
              "      fill: #174EA6;\n",
              "    }\n",
              "\n",
              "    [theme=dark] .colab-df-convert {\n",
              "      background-color: #3B4455;\n",
              "      fill: #D2E3FC;\n",
              "    }\n",
              "\n",
              "    [theme=dark] .colab-df-convert:hover {\n",
              "      background-color: #434B5C;\n",
              "      box-shadow: 0px 1px 3px 1px rgba(0, 0, 0, 0.15);\n",
              "      filter: drop-shadow(0px 1px 2px rgba(0, 0, 0, 0.3));\n",
              "      fill: #FFFFFF;\n",
              "    }\n",
              "  </style>\n",
              "\n",
              "      <script>\n",
              "        const buttonEl =\n",
              "          document.querySelector('#df-bf385484-3456-4824-b9ce-c98bda6648f4 button.colab-df-convert');\n",
              "        buttonEl.style.display =\n",
              "          google.colab.kernel.accessAllowed ? 'block' : 'none';\n",
              "\n",
              "        async function convertToInteractive(key) {\n",
              "          const element = document.querySelector('#df-bf385484-3456-4824-b9ce-c98bda6648f4');\n",
              "          const dataTable =\n",
              "            await google.colab.kernel.invokeFunction('convertToInteractive',\n",
              "                                                     [key], {});\n",
              "          if (!dataTable) return;\n",
              "\n",
              "          const docLinkHtml = 'Like what you see? Visit the ' +\n",
              "            '<a target=\"_blank\" href=https://colab.research.google.com/notebooks/data_table.ipynb>data table notebook</a>'\n",
              "            + ' to learn more about interactive tables.';\n",
              "          element.innerHTML = '';\n",
              "          dataTable['output_type'] = 'display_data';\n",
              "          await google.colab.output.renderOutput(dataTable, element);\n",
              "          const docLink = document.createElement('div');\n",
              "          docLink.innerHTML = docLinkHtml;\n",
              "          element.appendChild(docLink);\n",
              "        }\n",
              "      </script>\n",
              "    </div>\n",
              "  </div>\n",
              "  "
            ]
          },
          "metadata": {},
          "execution_count": 24
        }
      ],
      "source": [
        "table3 = pd.pivot_table(data, values=['AnnualIncome'], index=['Employment Type','GraduateOrNot'],\n",
        "                    aggfunc={'AnnualIncome': [min,max]})\n",
        "table3"
      ]
    },
    {
      "cell_type": "markdown",
      "id": "162c51dc",
      "metadata": {
        "id": "162c51dc"
      },
      "source": [
        "# Statistika Deskriptif"
      ]
    },
    {
      "cell_type": "code",
      "source": [
        "data2=data.copy()\n",
        "for col in ['Employment Type','GraduateOrNot','ChronicDiseases', 'FrequentFlyer','EverTravelledAbroad','TravelInsurance']:\n",
        "    data2[col] = data2[col].astype('category')\n",
        "data2.info()"
      ],
      "metadata": {
        "colab": {
          "base_uri": "https://localhost:8080/"
        },
        "id": "dave69Z1d1TJ",
        "outputId": "de875a0d-0362-4893-bf09-e35e3c8c82c3"
      },
      "id": "dave69Z1d1TJ",
      "execution_count": null,
      "outputs": [
        {
          "output_type": "stream",
          "name": "stdout",
          "text": [
            "<class 'pandas.core.frame.DataFrame'>\n",
            "RangeIndex: 1987 entries, 0 to 1986\n",
            "Data columns (total 10 columns):\n",
            " #   Column               Non-Null Count  Dtype   \n",
            "---  ------               --------------  -----   \n",
            " 0   Unnamed: 0           1987 non-null   int64   \n",
            " 1   Age                  1987 non-null   int64   \n",
            " 2   Employment Type      1987 non-null   category\n",
            " 3   GraduateOrNot        1987 non-null   category\n",
            " 4   AnnualIncome         1987 non-null   int64   \n",
            " 5   FamilyMembers        1987 non-null   int64   \n",
            " 6   ChronicDiseases      1987 non-null   category\n",
            " 7   FrequentFlyer        1987 non-null   category\n",
            " 8   EverTravelledAbroad  1987 non-null   category\n",
            " 9   TravelInsurance      1987 non-null   category\n",
            "dtypes: category(6), int64(4)\n",
            "memory usage: 74.6 KB\n"
          ]
        }
      ]
    },
    {
      "cell_type": "code",
      "execution_count": null,
      "id": "5c293761",
      "metadata": {
        "id": "5c293761",
        "outputId": "70f989a8-829e-461c-fabb-6b18db746d5a",
        "colab": {
          "base_uri": "https://localhost:8080/",
          "height": 300
        }
      },
      "outputs": [
        {
          "output_type": "execute_result",
          "data": {
            "text/plain": [
              "               Age  AnnualIncome  FamilyMembers\n",
              "count  1987.000000  1.987000e+03    1987.000000\n",
              "mean     29.650226  9.327630e+05       4.752894\n",
              "std       2.913308  3.768557e+05       1.609650\n",
              "min      25.000000  3.000000e+05       2.000000\n",
              "25%      28.000000  6.000000e+05       4.000000\n",
              "50%      29.000000  9.000000e+05       5.000000\n",
              "75%      32.000000  1.250000e+06       6.000000\n",
              "max      35.000000  1.800000e+06       9.000000"
            ],
            "text/html": [
              "\n",
              "  <div id=\"df-43e0e6c9-597c-4e90-9c19-387107101289\">\n",
              "    <div class=\"colab-df-container\">\n",
              "      <div>\n",
              "<style scoped>\n",
              "    .dataframe tbody tr th:only-of-type {\n",
              "        vertical-align: middle;\n",
              "    }\n",
              "\n",
              "    .dataframe tbody tr th {\n",
              "        vertical-align: top;\n",
              "    }\n",
              "\n",
              "    .dataframe thead th {\n",
              "        text-align: right;\n",
              "    }\n",
              "</style>\n",
              "<table border=\"1\" class=\"dataframe\">\n",
              "  <thead>\n",
              "    <tr style=\"text-align: right;\">\n",
              "      <th></th>\n",
              "      <th>Age</th>\n",
              "      <th>AnnualIncome</th>\n",
              "      <th>FamilyMembers</th>\n",
              "    </tr>\n",
              "  </thead>\n",
              "  <tbody>\n",
              "    <tr>\n",
              "      <th>count</th>\n",
              "      <td>1987.000000</td>\n",
              "      <td>1.987000e+03</td>\n",
              "      <td>1987.000000</td>\n",
              "    </tr>\n",
              "    <tr>\n",
              "      <th>mean</th>\n",
              "      <td>29.650226</td>\n",
              "      <td>9.327630e+05</td>\n",
              "      <td>4.752894</td>\n",
              "    </tr>\n",
              "    <tr>\n",
              "      <th>std</th>\n",
              "      <td>2.913308</td>\n",
              "      <td>3.768557e+05</td>\n",
              "      <td>1.609650</td>\n",
              "    </tr>\n",
              "    <tr>\n",
              "      <th>min</th>\n",
              "      <td>25.000000</td>\n",
              "      <td>3.000000e+05</td>\n",
              "      <td>2.000000</td>\n",
              "    </tr>\n",
              "    <tr>\n",
              "      <th>25%</th>\n",
              "      <td>28.000000</td>\n",
              "      <td>6.000000e+05</td>\n",
              "      <td>4.000000</td>\n",
              "    </tr>\n",
              "    <tr>\n",
              "      <th>50%</th>\n",
              "      <td>29.000000</td>\n",
              "      <td>9.000000e+05</td>\n",
              "      <td>5.000000</td>\n",
              "    </tr>\n",
              "    <tr>\n",
              "      <th>75%</th>\n",
              "      <td>32.000000</td>\n",
              "      <td>1.250000e+06</td>\n",
              "      <td>6.000000</td>\n",
              "    </tr>\n",
              "    <tr>\n",
              "      <th>max</th>\n",
              "      <td>35.000000</td>\n",
              "      <td>1.800000e+06</td>\n",
              "      <td>9.000000</td>\n",
              "    </tr>\n",
              "  </tbody>\n",
              "</table>\n",
              "</div>\n",
              "      <button class=\"colab-df-convert\" onclick=\"convertToInteractive('df-43e0e6c9-597c-4e90-9c19-387107101289')\"\n",
              "              title=\"Convert this dataframe to an interactive table.\"\n",
              "              style=\"display:none;\">\n",
              "        \n",
              "  <svg xmlns=\"http://www.w3.org/2000/svg\" height=\"24px\"viewBox=\"0 0 24 24\"\n",
              "       width=\"24px\">\n",
              "    <path d=\"M0 0h24v24H0V0z\" fill=\"none\"/>\n",
              "    <path d=\"M18.56 5.44l.94 2.06.94-2.06 2.06-.94-2.06-.94-.94-2.06-.94 2.06-2.06.94zm-11 1L8.5 8.5l.94-2.06 2.06-.94-2.06-.94L8.5 2.5l-.94 2.06-2.06.94zm10 10l.94 2.06.94-2.06 2.06-.94-2.06-.94-.94-2.06-.94 2.06-2.06.94z\"/><path d=\"M17.41 7.96l-1.37-1.37c-.4-.4-.92-.59-1.43-.59-.52 0-1.04.2-1.43.59L10.3 9.45l-7.72 7.72c-.78.78-.78 2.05 0 2.83L4 21.41c.39.39.9.59 1.41.59.51 0 1.02-.2 1.41-.59l7.78-7.78 2.81-2.81c.8-.78.8-2.07 0-2.86zM5.41 20L4 18.59l7.72-7.72 1.47 1.35L5.41 20z\"/>\n",
              "  </svg>\n",
              "      </button>\n",
              "      \n",
              "  <style>\n",
              "    .colab-df-container {\n",
              "      display:flex;\n",
              "      flex-wrap:wrap;\n",
              "      gap: 12px;\n",
              "    }\n",
              "\n",
              "    .colab-df-convert {\n",
              "      background-color: #E8F0FE;\n",
              "      border: none;\n",
              "      border-radius: 50%;\n",
              "      cursor: pointer;\n",
              "      display: none;\n",
              "      fill: #1967D2;\n",
              "      height: 32px;\n",
              "      padding: 0 0 0 0;\n",
              "      width: 32px;\n",
              "    }\n",
              "\n",
              "    .colab-df-convert:hover {\n",
              "      background-color: #E2EBFA;\n",
              "      box-shadow: 0px 1px 2px rgba(60, 64, 67, 0.3), 0px 1px 3px 1px rgba(60, 64, 67, 0.15);\n",
              "      fill: #174EA6;\n",
              "    }\n",
              "\n",
              "    [theme=dark] .colab-df-convert {\n",
              "      background-color: #3B4455;\n",
              "      fill: #D2E3FC;\n",
              "    }\n",
              "\n",
              "    [theme=dark] .colab-df-convert:hover {\n",
              "      background-color: #434B5C;\n",
              "      box-shadow: 0px 1px 3px 1px rgba(0, 0, 0, 0.15);\n",
              "      filter: drop-shadow(0px 1px 2px rgba(0, 0, 0, 0.3));\n",
              "      fill: #FFFFFF;\n",
              "    }\n",
              "  </style>\n",
              "\n",
              "      <script>\n",
              "        const buttonEl =\n",
              "          document.querySelector('#df-43e0e6c9-597c-4e90-9c19-387107101289 button.colab-df-convert');\n",
              "        buttonEl.style.display =\n",
              "          google.colab.kernel.accessAllowed ? 'block' : 'none';\n",
              "\n",
              "        async function convertToInteractive(key) {\n",
              "          const element = document.querySelector('#df-43e0e6c9-597c-4e90-9c19-387107101289');\n",
              "          const dataTable =\n",
              "            await google.colab.kernel.invokeFunction('convertToInteractive',\n",
              "                                                     [key], {});\n",
              "          if (!dataTable) return;\n",
              "\n",
              "          const docLinkHtml = 'Like what you see? Visit the ' +\n",
              "            '<a target=\"_blank\" href=https://colab.research.google.com/notebooks/data_table.ipynb>data table notebook</a>'\n",
              "            + ' to learn more about interactive tables.';\n",
              "          element.innerHTML = '';\n",
              "          dataTable['output_type'] = 'display_data';\n",
              "          await google.colab.output.renderOutput(dataTable, element);\n",
              "          const docLink = document.createElement('div');\n",
              "          docLink.innerHTML = docLinkHtml;\n",
              "          element.appendChild(docLink);\n",
              "        }\n",
              "      </script>\n",
              "    </div>\n",
              "  </div>\n",
              "  "
            ]
          },
          "metadata": {},
          "execution_count": 26
        }
      ],
      "source": [
        "#data2.drop('Unnamed: 0', axis=1).describe().transpose()\n",
        "data2.drop('Unnamed: 0', axis=1).describe()"
      ]
    },
    {
      "cell_type": "code",
      "execution_count": null,
      "id": "503be4dc",
      "metadata": {
        "id": "503be4dc",
        "outputId": "ddd981b6-3292-4191-fa1b-119d9ab96f09",
        "colab": {
          "base_uri": "https://localhost:8080/",
          "height": 238
        }
      },
      "outputs": [
        {
          "output_type": "execute_result",
          "data": {
            "text/plain": [
              "                    count unique                           top  freq\n",
              "Employment Type      1987      2  Private Sector/Self Employed  1417\n",
              "GraduateOrNot        1987      2                           Yes  1692\n",
              "FrequentFlyer        1987      2                            No  1570\n",
              "EverTravelledAbroad  1987      2                            No  1607\n",
              "ChronicDiseases      1987      2                             0  1435\n",
              "TravelInsurance      1987      2                             0  1277"
            ],
            "text/html": [
              "\n",
              "  <div id=\"df-ed8b4636-0116-428f-bdee-a8627d9c878a\">\n",
              "    <div class=\"colab-df-container\">\n",
              "      <div>\n",
              "<style scoped>\n",
              "    .dataframe tbody tr th:only-of-type {\n",
              "        vertical-align: middle;\n",
              "    }\n",
              "\n",
              "    .dataframe tbody tr th {\n",
              "        vertical-align: top;\n",
              "    }\n",
              "\n",
              "    .dataframe thead th {\n",
              "        text-align: right;\n",
              "    }\n",
              "</style>\n",
              "<table border=\"1\" class=\"dataframe\">\n",
              "  <thead>\n",
              "    <tr style=\"text-align: right;\">\n",
              "      <th></th>\n",
              "      <th>count</th>\n",
              "      <th>unique</th>\n",
              "      <th>top</th>\n",
              "      <th>freq</th>\n",
              "    </tr>\n",
              "  </thead>\n",
              "  <tbody>\n",
              "    <tr>\n",
              "      <th>Employment Type</th>\n",
              "      <td>1987</td>\n",
              "      <td>2</td>\n",
              "      <td>Private Sector/Self Employed</td>\n",
              "      <td>1417</td>\n",
              "    </tr>\n",
              "    <tr>\n",
              "      <th>GraduateOrNot</th>\n",
              "      <td>1987</td>\n",
              "      <td>2</td>\n",
              "      <td>Yes</td>\n",
              "      <td>1692</td>\n",
              "    </tr>\n",
              "    <tr>\n",
              "      <th>FrequentFlyer</th>\n",
              "      <td>1987</td>\n",
              "      <td>2</td>\n",
              "      <td>No</td>\n",
              "      <td>1570</td>\n",
              "    </tr>\n",
              "    <tr>\n",
              "      <th>EverTravelledAbroad</th>\n",
              "      <td>1987</td>\n",
              "      <td>2</td>\n",
              "      <td>No</td>\n",
              "      <td>1607</td>\n",
              "    </tr>\n",
              "    <tr>\n",
              "      <th>ChronicDiseases</th>\n",
              "      <td>1987</td>\n",
              "      <td>2</td>\n",
              "      <td>0</td>\n",
              "      <td>1435</td>\n",
              "    </tr>\n",
              "    <tr>\n",
              "      <th>TravelInsurance</th>\n",
              "      <td>1987</td>\n",
              "      <td>2</td>\n",
              "      <td>0</td>\n",
              "      <td>1277</td>\n",
              "    </tr>\n",
              "  </tbody>\n",
              "</table>\n",
              "</div>\n",
              "      <button class=\"colab-df-convert\" onclick=\"convertToInteractive('df-ed8b4636-0116-428f-bdee-a8627d9c878a')\"\n",
              "              title=\"Convert this dataframe to an interactive table.\"\n",
              "              style=\"display:none;\">\n",
              "        \n",
              "  <svg xmlns=\"http://www.w3.org/2000/svg\" height=\"24px\"viewBox=\"0 0 24 24\"\n",
              "       width=\"24px\">\n",
              "    <path d=\"M0 0h24v24H0V0z\" fill=\"none\"/>\n",
              "    <path d=\"M18.56 5.44l.94 2.06.94-2.06 2.06-.94-2.06-.94-.94-2.06-.94 2.06-2.06.94zm-11 1L8.5 8.5l.94-2.06 2.06-.94-2.06-.94L8.5 2.5l-.94 2.06-2.06.94zm10 10l.94 2.06.94-2.06 2.06-.94-2.06-.94-.94-2.06-.94 2.06-2.06.94z\"/><path d=\"M17.41 7.96l-1.37-1.37c-.4-.4-.92-.59-1.43-.59-.52 0-1.04.2-1.43.59L10.3 9.45l-7.72 7.72c-.78.78-.78 2.05 0 2.83L4 21.41c.39.39.9.59 1.41.59.51 0 1.02-.2 1.41-.59l7.78-7.78 2.81-2.81c.8-.78.8-2.07 0-2.86zM5.41 20L4 18.59l7.72-7.72 1.47 1.35L5.41 20z\"/>\n",
              "  </svg>\n",
              "      </button>\n",
              "      \n",
              "  <style>\n",
              "    .colab-df-container {\n",
              "      display:flex;\n",
              "      flex-wrap:wrap;\n",
              "      gap: 12px;\n",
              "    }\n",
              "\n",
              "    .colab-df-convert {\n",
              "      background-color: #E8F0FE;\n",
              "      border: none;\n",
              "      border-radius: 50%;\n",
              "      cursor: pointer;\n",
              "      display: none;\n",
              "      fill: #1967D2;\n",
              "      height: 32px;\n",
              "      padding: 0 0 0 0;\n",
              "      width: 32px;\n",
              "    }\n",
              "\n",
              "    .colab-df-convert:hover {\n",
              "      background-color: #E2EBFA;\n",
              "      box-shadow: 0px 1px 2px rgba(60, 64, 67, 0.3), 0px 1px 3px 1px rgba(60, 64, 67, 0.15);\n",
              "      fill: #174EA6;\n",
              "    }\n",
              "\n",
              "    [theme=dark] .colab-df-convert {\n",
              "      background-color: #3B4455;\n",
              "      fill: #D2E3FC;\n",
              "    }\n",
              "\n",
              "    [theme=dark] .colab-df-convert:hover {\n",
              "      background-color: #434B5C;\n",
              "      box-shadow: 0px 1px 3px 1px rgba(0, 0, 0, 0.15);\n",
              "      filter: drop-shadow(0px 1px 2px rgba(0, 0, 0, 0.3));\n",
              "      fill: #FFFFFF;\n",
              "    }\n",
              "  </style>\n",
              "\n",
              "      <script>\n",
              "        const buttonEl =\n",
              "          document.querySelector('#df-ed8b4636-0116-428f-bdee-a8627d9c878a button.colab-df-convert');\n",
              "        buttonEl.style.display =\n",
              "          google.colab.kernel.accessAllowed ? 'block' : 'none';\n",
              "\n",
              "        async function convertToInteractive(key) {\n",
              "          const element = document.querySelector('#df-ed8b4636-0116-428f-bdee-a8627d9c878a');\n",
              "          const dataTable =\n",
              "            await google.colab.kernel.invokeFunction('convertToInteractive',\n",
              "                                                     [key], {});\n",
              "          if (!dataTable) return;\n",
              "\n",
              "          const docLinkHtml = 'Like what you see? Visit the ' +\n",
              "            '<a target=\"_blank\" href=https://colab.research.google.com/notebooks/data_table.ipynb>data table notebook</a>'\n",
              "            + ' to learn more about interactive tables.';\n",
              "          element.innerHTML = '';\n",
              "          dataTable['output_type'] = 'display_data';\n",
              "          await google.colab.output.renderOutput(dataTable, element);\n",
              "          const docLink = document.createElement('div');\n",
              "          docLink.innerHTML = docLinkHtml;\n",
              "          element.appendChild(docLink);\n",
              "        }\n",
              "      </script>\n",
              "    </div>\n",
              "  </div>\n",
              "  "
            ]
          },
          "metadata": {},
          "execution_count": 27
        }
      ],
      "source": [
        "data2[['Employment Type','GraduateOrNot','FrequentFlyer','EverTravelledAbroad','ChronicDiseases','TravelInsurance']].describe(include='all').transpose()"
      ]
    },
    {
      "cell_type": "code",
      "source": [
        "# mean = data[\"AnnualIncome\"].mean()\n",
        "# median = data[\"AnnualIncome\"].median()\n",
        "# st_dev = data[\"AnnualIncome\"].std()\n",
        "# skew = data[\"AnnualIncome\"].skew()\n",
        "# kurt = data[\"AnnualIncome\"].kurtosis()\n",
        "# points = mean-st_dev, mean+st_dev\n",
        "\n",
        "plt.style.use(\"classic\")\n",
        "fig, ax = plt.subplots(figsize=(8,6))\n",
        "sns.distplot(data[\"AnnualIncome\"], color=\"g\")\n",
        "plt.title(\"Distribusi AnnualIncome\")# \\nstd_dev = {}; kurtosis = {};\\nskew = {};\\nmean = {}; median = {}\".format((round(points[0],2),\n",
        "                                                                                                               #round(points[1],2)),\n",
        "                                                                                                               #round(kurt,2),round(skew,2),\n",
        "                                                                                                               #round(mean,2),round(median,2)))\n",
        "plt.show()"
      ],
      "metadata": {
        "colab": {
          "base_uri": "https://localhost:8080/",
          "height": 525
        },
        "id": "DhEanXmFhTXS",
        "outputId": "c95de217-4de1-4511-f8b4-f0bc1d7c18d8"
      },
      "id": "DhEanXmFhTXS",
      "execution_count": null,
      "outputs": [
        {
          "output_type": "stream",
          "name": "stderr",
          "text": [
            "/usr/local/lib/python3.7/dist-packages/seaborn/distributions.py:2619: FutureWarning: `distplot` is a deprecated function and will be removed in a future version. Please adapt your code to use either `displot` (a figure-level function with similar flexibility) or `histplot` (an axes-level function for histograms).\n",
            "  warnings.warn(msg, FutureWarning)\n"
          ]
        },
        {
          "output_type": "display_data",
          "data": {
            "text/plain": [
              "<Figure size 640x480 with 1 Axes>"
            ],
            "image/png": "[encoded data removed]"
          },
          "metadata": {}
        }
      ]
    },
    {
      "cell_type": "code",
      "source": [
        "plt.style.use(\"classic\")\n",
        "fig, ax = plt.subplots(figsize=(8,6))\n",
        "sns.distplot(data[\"Age\"], color=\"r\")\n",
        "plt.title(\"Distribusi Age\")\n",
        "plt.show()"
      ],
      "metadata": {
        "colab": {
          "base_uri": "https://localhost:8080/",
          "height": 525
        },
        "id": "s_sbRHcsv1vV",
        "outputId": "2058b82d-061b-4383-967c-78bce8ab12d7"
      },
      "id": "s_sbRHcsv1vV",
      "execution_count": null,
      "outputs": [
        {
          "output_type": "stream",
          "name": "stderr",
          "text": [
            "/usr/local/lib/python3.7/dist-packages/seaborn/distributions.py:2619: FutureWarning: `distplot` is a deprecated function and will be removed in a future version. Please adapt your code to use either `displot` (a figure-level function with similar flexibility) or `histplot` (an axes-level function for histograms).\n",
            "  warnings.warn(msg, FutureWarning)\n"
          ]
        },
        {
          "output_type": "display_data",
          "data": {
            "text/plain": [
              "<Figure size 640x480 with 1 Axes>"
            ],
            "image/png": "[encoded data removed]"
          },
          "metadata": {}
        }
      ]
    },
    {
      "cell_type": "code",
      "source": [
        "plt.style.use(\"classic\")\n",
        "fig, ax = plt.subplots(figsize=(8,6))\n",
        "sns.distplot(data[\"FamilyMembers\"], color=\"r\")\n",
        "plt.title(\"Distribusi FambilyMembers\")\n",
        "plt.show()"
      ],
      "metadata": {
        "id": "eLyXlQQ1048t",
        "colab": {
          "base_uri": "https://localhost:8080/",
          "height": 525
        },
        "outputId": "4e36586e-4ebc-49ba-f799-a01e8e56bc39"
      },
      "id": "eLyXlQQ1048t",
      "execution_count": null,
      "outputs": [
        {
          "output_type": "stream",
          "name": "stderr",
          "text": [
            "/usr/local/lib/python3.7/dist-packages/seaborn/distributions.py:2619: FutureWarning: `distplot` is a deprecated function and will be removed in a future version. Please adapt your code to use either `displot` (a figure-level function with similar flexibility) or `histplot` (an axes-level function for histograms).\n",
            "  warnings.warn(msg, FutureWarning)\n"
          ]
        },
        {
          "output_type": "display_data",
          "data": {
            "text/plain": [
              "<Figure size 640x480 with 1 Axes>"
            ],
            "image/png": "[encoded data removed]"
          },
          "metadata": {}
        }
      ]
    },
    {
      "cell_type": "markdown",
      "source": [
        "# Data Preprocessing"
      ],
      "metadata": {
        "id": "HLsHW6Wylorb"
      },
      "id": "HLsHW6Wylorb"
    },
    {
      "cell_type": "markdown",
      "source": [
        "## Converting Categorical Data to Numerical Data"
      ],
      "metadata": {
        "id": "3qZjZbg7mgE1"
      },
      "id": "3qZjZbg7mgE1"
    },
    {
      "cell_type": "code",
      "execution_count": null,
      "id": "3318740b",
      "metadata": {
        "scrolled": true,
        "id": "3318740b",
        "colab": {
          "base_uri": "https://localhost:8080/",
          "height": 206
        },
        "outputId": "82f9e275-8752-4867-a5f7-71cd5c413e07"
      },
      "outputs": [
        {
          "output_type": "execute_result",
          "data": {
            "text/plain": [
              "      Age EmploymentType GraduateOrNot  AnnualIncome  FamilyMembers  \\\n",
              "1087   31              1             1       1200000              7   \n",
              "405    32              1             1        850000              6   \n",
              "810    29              0             1        600000              4   \n",
              "1251   28              0             1        500000              5   \n",
              "359    25              0             0       1150000              3   \n",
              "\n",
              "     ChronicDiseases FrequentFlyer EverTravelledAbroad TravelInsurance  \n",
              "1087               1             0                   0               0  \n",
              "405                0             0                   0               0  \n",
              "810                1             0                   0               0  \n",
              "1251               1             0                   0               1  \n",
              "359                0             0                   0               0  "
            ],
            "text/html": [
              "\n",
              "  <div id=\"df-598e248a-d156-459f-9220-09d5064d8cd3\">\n",
              "    <div class=\"colab-df-container\">\n",
              "      <div>\n",
              "<style scoped>\n",
              "    .dataframe tbody tr th:only-of-type {\n",
              "        vertical-align: middle;\n",
              "    }\n",
              "\n",
              "    .dataframe tbody tr th {\n",
              "        vertical-align: top;\n",
              "    }\n",
              "\n",
              "    .dataframe thead th {\n",
              "        text-align: right;\n",
              "    }\n",
              "</style>\n",
              "<table border=\"1\" class=\"dataframe\">\n",
              "  <thead>\n",
              "    <tr style=\"text-align: right;\">\n",
              "      <th></th>\n",
              "      <th>Age</th>\n",
              "      <th>EmploymentType</th>\n",
              "      <th>GraduateOrNot</th>\n",
              "      <th>AnnualIncome</th>\n",
              "      <th>FamilyMembers</th>\n",
              "      <th>ChronicDiseases</th>\n",
              "      <th>FrequentFlyer</th>\n",
              "      <th>EverTravelledAbroad</th>\n",
              "      <th>TravelInsurance</th>\n",
              "    </tr>\n",
              "  </thead>\n",
              "  <tbody>\n",
              "    <tr>\n",
              "      <th>1087</th>\n",
              "      <td>31</td>\n",
              "      <td>1</td>\n",
              "      <td>1</td>\n",
              "      <td>1200000</td>\n",
              "      <td>7</td>\n",
              "      <td>1</td>\n",
              "      <td>0</td>\n",
              "      <td>0</td>\n",
              "      <td>0</td>\n",
              "    </tr>\n",
              "    <tr>\n",
              "      <th>405</th>\n",
              "      <td>32</td>\n",
              "      <td>1</td>\n",
              "      <td>1</td>\n",
              "      <td>850000</td>\n",
              "      <td>6</td>\n",
              "      <td>0</td>\n",
              "      <td>0</td>\n",
              "      <td>0</td>\n",
              "      <td>0</td>\n",
              "    </tr>\n",
              "    <tr>\n",
              "      <th>810</th>\n",
              "      <td>29</td>\n",
              "      <td>0</td>\n",
              "      <td>1</td>\n",
              "      <td>600000</td>\n",
              "      <td>4</td>\n",
              "      <td>1</td>\n",
              "      <td>0</td>\n",
              "      <td>0</td>\n",
              "      <td>0</td>\n",
              "    </tr>\n",
              "    <tr>\n",
              "      <th>1251</th>\n",
              "      <td>28</td>\n",
              "      <td>0</td>\n",
              "      <td>1</td>\n",
              "      <td>500000</td>\n",
              "      <td>5</td>\n",
              "      <td>1</td>\n",
              "      <td>0</td>\n",
              "      <td>0</td>\n",
              "      <td>1</td>\n",
              "    </tr>\n",
              "    <tr>\n",
              "      <th>359</th>\n",
              "      <td>25</td>\n",
              "      <td>0</td>\n",
              "      <td>0</td>\n",
              "      <td>1150000</td>\n",
              "      <td>3</td>\n",
              "      <td>0</td>\n",
              "      <td>0</td>\n",
              "      <td>0</td>\n",
              "      <td>0</td>\n",
              "    </tr>\n",
              "  </tbody>\n",
              "</table>\n",
              "</div>\n",
              "      <button class=\"colab-df-convert\" onclick=\"convertToInteractive('df-598e248a-d156-459f-9220-09d5064d8cd3')\"\n",
              "              title=\"Convert this dataframe to an interactive table.\"\n",
              "              style=\"display:none;\">\n",
              "        \n",
              "  <svg xmlns=\"http://www.w3.org/2000/svg\" height=\"24px\"viewBox=\"0 0 24 24\"\n",
              "       width=\"24px\">\n",
              "    <path d=\"M0 0h24v24H0V0z\" fill=\"none\"/>\n",
              "    <path d=\"M18.56 5.44l.94 2.06.94-2.06 2.06-.94-2.06-.94-.94-2.06-.94 2.06-2.06.94zm-11 1L8.5 8.5l.94-2.06 2.06-.94-2.06-.94L8.5 2.5l-.94 2.06-2.06.94zm10 10l.94 2.06.94-2.06 2.06-.94-2.06-.94-.94-2.06-.94 2.06-2.06.94z\"/><path d=\"M17.41 7.96l-1.37-1.37c-.4-.4-.92-.59-1.43-.59-.52 0-1.04.2-1.43.59L10.3 9.45l-7.72 7.72c-.78.78-.78 2.05 0 2.83L4 21.41c.39.39.9.59 1.41.59.51 0 1.02-.2 1.41-.59l7.78-7.78 2.81-2.81c.8-.78.8-2.07 0-2.86zM5.41 20L4 18.59l7.72-7.72 1.47 1.35L5.41 20z\"/>\n",
              "  </svg>\n",
              "      </button>\n",
              "      \n",
              "  <style>\n",
              "    .colab-df-container {\n",
              "      display:flex;\n",
              "      flex-wrap:wrap;\n",
              "      gap: 12px;\n",
              "    }\n",
              "\n",
              "    .colab-df-convert {\n",
              "      background-color: #E8F0FE;\n",
              "      border: none;\n",
              "      border-radius: 50%;\n",
              "      cursor: pointer;\n",
              "      display: none;\n",
              "      fill: #1967D2;\n",
              "      height: 32px;\n",
              "      padding: 0 0 0 0;\n",
              "      width: 32px;\n",
              "    }\n",
              "\n",
              "    .colab-df-convert:hover {\n",
              "      background-color: #E2EBFA;\n",
              "      box-shadow: 0px 1px 2px rgba(60, 64, 67, 0.3), 0px 1px 3px 1px rgba(60, 64, 67, 0.15);\n",
              "      fill: #174EA6;\n",
              "    }\n",
              "\n",
              "    [theme=dark] .colab-df-convert {\n",
              "      background-color: #3B4455;\n",
              "      fill: #D2E3FC;\n",
              "    }\n",
              "\n",
              "    [theme=dark] .colab-df-convert:hover {\n",
              "      background-color: #434B5C;\n",
              "      box-shadow: 0px 1px 3px 1px rgba(0, 0, 0, 0.15);\n",
              "      filter: drop-shadow(0px 1px 2px rgba(0, 0, 0, 0.3));\n",
              "      fill: #FFFFFF;\n",
              "    }\n",
              "  </style>\n",
              "\n",
              "      <script>\n",
              "        const buttonEl =\n",
              "          document.querySelector('#df-598e248a-d156-459f-9220-09d5064d8cd3 button.colab-df-convert');\n",
              "        buttonEl.style.display =\n",
              "          google.colab.kernel.accessAllowed ? 'block' : 'none';\n",
              "\n",
              "        async function convertToInteractive(key) {\n",
              "          const element = document.querySelector('#df-598e248a-d156-459f-9220-09d5064d8cd3');\n",
              "          const dataTable =\n",
              "            await google.colab.kernel.invokeFunction('convertToInteractive',\n",
              "                                                     [key], {});\n",
              "          if (!dataTable) return;\n",
              "\n",
              "          const docLinkHtml = 'Like what you see? Visit the ' +\n",
              "            '<a target=\"_blank\" href=https://colab.research.google.com/notebooks/data_table.ipynb>data table notebook</a>'\n",
              "            + ' to learn more about interactive tables.';\n",
              "          element.innerHTML = '';\n",
              "          dataTable['output_type'] = 'display_data';\n",
              "          await google.colab.output.renderOutput(dataTable, element);\n",
              "          const docLink = document.createElement('div');\n",
              "          docLink.innerHTML = docLinkHtml;\n",
              "          element.appendChild(docLink);\n",
              "        }\n",
              "      </script>\n",
              "    </div>\n",
              "  </div>\n",
              "  "
            ]
          },
          "metadata": {},
          "execution_count": 31
        }
      ],
      "source": [
        "data2.rename(columns={'Employment Type': 'EmploymentType'}, inplace=True) #hapus spasi (rename)\n",
        "data2.drop(\"Unnamed: 0\", axis=1, inplace=True) #hapus kolom observasi (unnamed)\n",
        "\n",
        "#change chategoric to numeric\n",
        "# Yes : 1 , No : 0\n",
        "data2['GraduateOrNot'] = data2['GraduateOrNot'].map({'Yes': 1, 'No': 0})\n",
        "data2['FrequentFlyer'] = data2['FrequentFlyer'].map({'Yes': 1, 'No': 0})\n",
        "data2['EverTravelledAbroad'] = data2['EverTravelledAbroad'].map({'Yes': 1, 'No': 0})\n",
        "\n",
        "# Government Sector : 1, Private Sector/Self Employed : 0\n",
        "data2[\"EmploymentType\"] = data2[\"EmploymentType\"].map({\"Government Sector\" : 1, \"Private Sector/Self Employed\" : 0})\n",
        "\n",
        "\n",
        "data2.sample(5)"
      ]
    },
    {
      "cell_type": "code",
      "source": [
        "num=data2.pivot_table(index=['TravelInsurance'])\n",
        "print(num)\n",
        "\n",
        "DF1=pd.crosstab(index=data2['TravelInsurance'],columns=data['GraduateOrNot'])\n",
        "DF1.rename(columns={'No':'Not Graduated', 'Yes':'Graduated'}, inplace=True)\n",
        "DF2=pd.crosstab(index=data2['TravelInsurance'],columns=data['ChronicDiseases'])\n",
        "DF2.rename(columns={0:'No CD', 1:'CD'}, inplace=True)\n",
        "DF3=pd.crosstab(index=data2['TravelInsurance'],columns=data['FrequentFlyer'])\n",
        "DF3.rename(columns={'No':'Not FF', 'Yes':'FF'}, inplace=True)\n",
        "DF4=pd.crosstab(index=data2['TravelInsurance'],columns=data['Employment Type'])\n",
        "DF5=pd.crosstab(index=data2['TravelInsurance'],columns=data['EverTravelledAbroad'])\n",
        "DF5.rename(columns={'No':'Never TA', 'Yes':'Ever TA'}, inplace=True)"
      ],
      "metadata": {
        "id": "D2GN87Gib-6a",
        "colab": {
          "base_uri": "https://localhost:8080/"
        },
        "outputId": "50bad1a1-5d88-4efb-93c9-fe09337045f4"
      },
      "id": "D2GN87Gib-6a",
      "execution_count": null,
      "outputs": [
        {
          "output_type": "stream",
          "name": "stdout",
          "text": [
            "                       Age  AnnualIncome  FamilyMembers\n",
            "TravelInsurance                                        \n",
            "0                29.517619  8.212999e+05       4.657009\n",
            "1                29.888732  1.133239e+06       4.925352\n"
          ]
        }
      ]
    },
    {
      "cell_type": "code",
      "source": [
        "pd.concat([num,DF1,DF2,DF3,DF4,DF5],axis=1)"
      ],
      "metadata": {
        "id": "Mb5FK9Tjb__5",
        "colab": {
          "base_uri": "https://localhost:8080/",
          "height": 205
        },
        "outputId": "88bb8ce6-a4c0-4ef3-bb42-ef0e2ff5439c"
      },
      "id": "Mb5FK9Tjb__5",
      "execution_count": null,
      "outputs": [
        {
          "output_type": "execute_result",
          "data": {
            "text/plain": [
              "                       Age  AnnualIncome  FamilyMembers  Not Graduated  \\\n",
              "TravelInsurance                                                          \n",
              "0                29.517619  8.212999e+05       4.657009            196   \n",
              "1                29.888732  1.133239e+06       4.925352             99   \n",
              "\n",
              "                 Graduated  No CD   CD  Not FF   FF  Government Sector  \\\n",
              "TravelInsurance                                                          \n",
              "0                     1081    930  347    1099  178                430   \n",
              "1                      611    505  205     471  239                140   \n",
              "\n",
              "                 Private Sector/Self Employed  Never TA  Ever TA  \n",
              "TravelInsurance                                                   \n",
              "0                                         847      1195       82  \n",
              "1                                         570       412      298  "
            ],
            "text/html": [
              "\n",
              "  <div id=\"df-7c1e9fca-68cf-4dfd-a395-8e2bfa9d6a94\">\n",
              "    <div class=\"colab-df-container\">\n",
              "      <div>\n",
              "<style scoped>\n",
              "    .dataframe tbody tr th:only-of-type {\n",
              "        vertical-align: middle;\n",
              "    }\n",
              "\n",
              "    .dataframe tbody tr th {\n",
              "        vertical-align: top;\n",
              "    }\n",
              "\n",
              "    .dataframe thead th {\n",
              "        text-align: right;\n",
              "    }\n",
              "</style>\n",
              "<table border=\"1\" class=\"dataframe\">\n",
              "  <thead>\n",
              "    <tr style=\"text-align: right;\">\n",
              "      <th></th>\n",
              "      <th>Age</th>\n",
              "      <th>AnnualIncome</th>\n",
              "      <th>FamilyMembers</th>\n",
              "      <th>Not Graduated</th>\n",
              "      <th>Graduated</th>\n",
              "      <th>No CD</th>\n",
              "      <th>CD</th>\n",
              "      <th>Not FF</th>\n",
              "      <th>FF</th>\n",
              "      <th>Government Sector</th>\n",
              "      <th>Private Sector/Self Employed</th>\n",
              "      <th>Never TA</th>\n",
              "      <th>Ever TA</th>\n",
              "    </tr>\n",
              "    <tr>\n",
              "      <th>TravelInsurance</th>\n",
              "      <th></th>\n",
              "      <th></th>\n",
              "      <th></th>\n",
              "      <th></th>\n",
              "      <th></th>\n",
              "      <th></th>\n",
              "      <th></th>\n",
              "      <th></th>\n",
              "      <th></th>\n",
              "      <th></th>\n",
              "      <th></th>\n",
              "      <th></th>\n",
              "      <th></th>\n",
              "    </tr>\n",
              "  </thead>\n",
              "  <tbody>\n",
              "    <tr>\n",
              "      <th>0</th>\n",
              "      <td>29.517619</td>\n",
              "      <td>8.212999e+05</td>\n",
              "      <td>4.657009</td>\n",
              "      <td>196</td>\n",
              "      <td>1081</td>\n",
              "      <td>930</td>\n",
              "      <td>347</td>\n",
              "      <td>1099</td>\n",
              "      <td>178</td>\n",
              "      <td>430</td>\n",
              "      <td>847</td>\n",
              "      <td>1195</td>\n",
              "      <td>82</td>\n",
              "    </tr>\n",
              "    <tr>\n",
              "      <th>1</th>\n",
              "      <td>29.888732</td>\n",
              "      <td>1.133239e+06</td>\n",
              "      <td>4.925352</td>\n",
              "      <td>99</td>\n",
              "      <td>611</td>\n",
              "      <td>505</td>\n",
              "      <td>205</td>\n",
              "      <td>471</td>\n",
              "      <td>239</td>\n",
              "      <td>140</td>\n",
              "      <td>570</td>\n",
              "      <td>412</td>\n",
              "      <td>298</td>\n",
              "    </tr>\n",
              "  </tbody>\n",
              "</table>\n",
              "</div>\n",
              "      <button class=\"colab-df-convert\" onclick=\"convertToInteractive('df-7c1e9fca-68cf-4dfd-a395-8e2bfa9d6a94')\"\n",
              "              title=\"Convert this dataframe to an interactive table.\"\n",
              "              style=\"display:none;\">\n",
              "        \n",
              "  <svg xmlns=\"http://www.w3.org/2000/svg\" height=\"24px\"viewBox=\"0 0 24 24\"\n",
              "       width=\"24px\">\n",
              "    <path d=\"M0 0h24v24H0V0z\" fill=\"none\"/>\n",
              "    <path d=\"M18.56 5.44l.94 2.06.94-2.06 2.06-.94-2.06-.94-.94-2.06-.94 2.06-2.06.94zm-11 1L8.5 8.5l.94-2.06 2.06-.94-2.06-.94L8.5 2.5l-.94 2.06-2.06.94zm10 10l.94 2.06.94-2.06 2.06-.94-2.06-.94-.94-2.06-.94 2.06-2.06.94z\"/><path d=\"M17.41 7.96l-1.37-1.37c-.4-.4-.92-.59-1.43-.59-.52 0-1.04.2-1.43.59L10.3 9.45l-7.72 7.72c-.78.78-.78 2.05 0 2.83L4 21.41c.39.39.9.59 1.41.59.51 0 1.02-.2 1.41-.59l7.78-7.78 2.81-2.81c.8-.78.8-2.07 0-2.86zM5.41 20L4 18.59l7.72-7.72 1.47 1.35L5.41 20z\"/>\n",
              "  </svg>\n",
              "      </button>\n",
              "      \n",
              "  <style>\n",
              "    .colab-df-container {\n",
              "      display:flex;\n",
              "      flex-wrap:wrap;\n",
              "      gap: 12px;\n",
              "    }\n",
              "\n",
              "    .colab-df-convert {\n",
              "      background-color: #E8F0FE;\n",
              "      border: none;\n",
              "      border-radius: 50%;\n",
              "      cursor: pointer;\n",
              "      display: none;\n",
              "      fill: #1967D2;\n",
              "      height: 32px;\n",
              "      padding: 0 0 0 0;\n",
              "      width: 32px;\n",
              "    }\n",
              "\n",
              "    .colab-df-convert:hover {\n",
              "      background-color: #E2EBFA;\n",
              "      box-shadow: 0px 1px 2px rgba(60, 64, 67, 0.3), 0px 1px 3px 1px rgba(60, 64, 67, 0.15);\n",
              "      fill: #174EA6;\n",
              "    }\n",
              "\n",
              "    [theme=dark] .colab-df-convert {\n",
              "      background-color: #3B4455;\n",
              "      fill: #D2E3FC;\n",
              "    }\n",
              "\n",
              "    [theme=dark] .colab-df-convert:hover {\n",
              "      background-color: #434B5C;\n",
              "      box-shadow: 0px 1px 3px 1px rgba(0, 0, 0, 0.15);\n",
              "      filter: drop-shadow(0px 1px 2px rgba(0, 0, 0, 0.3));\n",
              "      fill: #FFFFFF;\n",
              "    }\n",
              "  </style>\n",
              "\n",
              "      <script>\n",
              "        const buttonEl =\n",
              "          document.querySelector('#df-7c1e9fca-68cf-4dfd-a395-8e2bfa9d6a94 button.colab-df-convert');\n",
              "        buttonEl.style.display =\n",
              "          google.colab.kernel.accessAllowed ? 'block' : 'none';\n",
              "\n",
              "        async function convertToInteractive(key) {\n",
              "          const element = document.querySelector('#df-7c1e9fca-68cf-4dfd-a395-8e2bfa9d6a94');\n",
              "          const dataTable =\n",
              "            await google.colab.kernel.invokeFunction('convertToInteractive',\n",
              "                                                     [key], {});\n",
              "          if (!dataTable) return;\n",
              "\n",
              "          const docLinkHtml = 'Like what you see? Visit the ' +\n",
              "            '<a target=\"_blank\" href=https://colab.research.google.com/notebooks/data_table.ipynb>data table notebook</a>'\n",
              "            + ' to learn more about interactive tables.';\n",
              "          element.innerHTML = '';\n",
              "          dataTable['output_type'] = 'display_data';\n",
              "          await google.colab.output.renderOutput(dataTable, element);\n",
              "          const docLink = document.createElement('div');\n",
              "          docLink.innerHTML = docLinkHtml;\n",
              "          element.appendChild(docLink);\n",
              "        }\n",
              "      </script>\n",
              "    </div>\n",
              "  </div>\n",
              "  "
            ]
          },
          "metadata": {},
          "execution_count": 33
        }
      ]
    },
    {
      "cell_type": "markdown",
      "source": [
        "## Checking Data Correlation"
      ],
      "metadata": {
        "id": "LQ1eZRwimty_"
      },
      "id": "LQ1eZRwimty_"
    },
    {
      "cell_type": "code",
      "source": [
        "data2.info()"
      ],
      "metadata": {
        "id": "P3h_FMuBU5Wu",
        "colab": {
          "base_uri": "https://localhost:8080/"
        },
        "outputId": "bff4bd53-7dc0-4764-fc6e-08bbe1c9c880"
      },
      "id": "P3h_FMuBU5Wu",
      "execution_count": null,
      "outputs": [
        {
          "output_type": "stream",
          "name": "stdout",
          "text": [
            "<class 'pandas.core.frame.DataFrame'>\n",
            "RangeIndex: 1987 entries, 0 to 1986\n",
            "Data columns (total 9 columns):\n",
            " #   Column               Non-Null Count  Dtype   \n",
            "---  ------               --------------  -----   \n",
            " 0   Age                  1987 non-null   int64   \n",
            " 1   EmploymentType       1987 non-null   category\n",
            " 2   GraduateOrNot        1987 non-null   category\n",
            " 3   AnnualIncome         1987 non-null   int64   \n",
            " 4   FamilyMembers        1987 non-null   int64   \n",
            " 5   ChronicDiseases      1987 non-null   category\n",
            " 6   FrequentFlyer        1987 non-null   category\n",
            " 7   EverTravelledAbroad  1987 non-null   category\n",
            " 8   TravelInsurance      1987 non-null   category\n",
            "dtypes: category(6), int64(3)\n",
            "memory usage: 59.1 KB\n"
          ]
        }
      ]
    },
    {
      "cell_type": "code",
      "source": [
        "data.info()"
      ],
      "metadata": {
        "id": "xDP3GbLyU5Ri",
        "colab": {
          "base_uri": "https://localhost:8080/"
        },
        "outputId": "ff12d692-c3e5-4dce-f3fa-fcd76cc81f4e"
      },
      "id": "xDP3GbLyU5Ri",
      "execution_count": null,
      "outputs": [
        {
          "output_type": "stream",
          "name": "stdout",
          "text": [
            "<class 'pandas.core.frame.DataFrame'>\n",
            "RangeIndex: 1987 entries, 0 to 1986\n",
            "Data columns (total 10 columns):\n",
            " #   Column               Non-Null Count  Dtype \n",
            "---  ------               --------------  ----- \n",
            " 0   Unnamed: 0           1987 non-null   int64 \n",
            " 1   Age                  1987 non-null   int64 \n",
            " 2   Employment Type      1987 non-null   object\n",
            " 3   GraduateOrNot        1987 non-null   object\n",
            " 4   AnnualIncome         1987 non-null   int64 \n",
            " 5   FamilyMembers        1987 non-null   int64 \n",
            " 6   ChronicDiseases      1987 non-null   int64 \n",
            " 7   FrequentFlyer        1987 non-null   object\n",
            " 8   EverTravelledAbroad  1987 non-null   object\n",
            " 9   TravelInsurance      1987 non-null   int64 \n",
            "dtypes: int64(6), object(4)\n",
            "memory usage: 155.4+ KB\n"
          ]
        }
      ]
    },
    {
      "cell_type": "code",
      "source": [
        "dfhm = data2.copy()\n",
        "for col in ['Age','EmploymentType','GraduateOrNot', 'AnnualIncome','FamilyMembers','ChronicDiseases','FrequentFlyer','EverTravelledAbroad','TravelInsurance']:\n",
        "    dfhm[col] = dfhm[col].astype('int64')\n",
        "dfhm.info()"
      ],
      "metadata": {
        "id": "sE91UH3qYZtO",
        "colab": {
          "base_uri": "https://localhost:8080/"
        },
        "outputId": "c870bdd0-ee44-4db4-d904-bd41e417f171"
      },
      "id": "sE91UH3qYZtO",
      "execution_count": null,
      "outputs": [
        {
          "output_type": "stream",
          "name": "stdout",
          "text": [
            "<class 'pandas.core.frame.DataFrame'>\n",
            "RangeIndex: 1987 entries, 0 to 1986\n",
            "Data columns (total 9 columns):\n",
            " #   Column               Non-Null Count  Dtype\n",
            "---  ------               --------------  -----\n",
            " 0   Age                  1987 non-null   int64\n",
            " 1   EmploymentType       1987 non-null   int64\n",
            " 2   GraduateOrNot        1987 non-null   int64\n",
            " 3   AnnualIncome         1987 non-null   int64\n",
            " 4   FamilyMembers        1987 non-null   int64\n",
            " 5   ChronicDiseases      1987 non-null   int64\n",
            " 6   FrequentFlyer        1987 non-null   int64\n",
            " 7   EverTravelledAbroad  1987 non-null   int64\n",
            " 8   TravelInsurance      1987 non-null   int64\n",
            "dtypes: int64(9)\n",
            "memory usage: 139.8 KB\n"
          ]
        }
      ]
    },
    {
      "cell_type": "code",
      "source": [
        "#pake data yg tipenya integer semua\n",
        "plt.figure(figsize=(8,6))\n",
        "sns.heatmap(dfhm.corr(),annot=True,cmap=\"coolwarm\")\n",
        "plt.show()"
      ],
      "metadata": {
        "id": "6kcd1rwlmzai",
        "colab": {
          "base_uri": "https://localhost:8080/",
          "height": 560
        },
        "outputId": "7e6b5582-3888-4f02-cbed-c873d3633592"
      },
      "id": "6kcd1rwlmzai",
      "execution_count": null,
      "outputs": [
        {
          "output_type": "display_data",
          "data": {
            "text/plain": [
              "<Figure size 640x480 with 2 Axes>"
            ],
            "image/png": "[encoded data removed]"
          },
          "metadata": {}
        }
      ]
    },
    {
      "cell_type": "code",
      "source": [
        "data_drop=dfhm.drop(['Age','GraduateOrNot','FamilyMembers','ChronicDiseases'], axis=1)\n",
        "plt.figure(figsize=(8,6))\n",
        "sns.heatmap(data_drop.corr(),annot=True,cmap=\"coolwarm\")\n",
        "plt.show()"
      ],
      "metadata": {
        "id": "80hwBDyZd0xU",
        "colab": {
          "base_uri": "https://localhost:8080/",
          "height": 560
        },
        "outputId": "06502084-62dd-4a60-e0a0-fc79d578cf61"
      },
      "id": "80hwBDyZd0xU",
      "execution_count": null,
      "outputs": [
        {
          "output_type": "display_data",
          "data": {
            "text/plain": [
              "<Figure size 640x480 with 2 Axes>"
            ],
            "image/png": "[encoded data removed]"
          },
          "metadata": {}
        }
      ]
    },
    {
      "cell_type": "code",
      "source": [
        "X = data_drop.drop(\"TravelInsurance\", axis=1)\n",
        "X.head(5)"
      ],
      "metadata": {
        "id": "Ctm1_M5Mn9Dp",
        "colab": {
          "base_uri": "https://localhost:8080/",
          "height": 206
        },
        "outputId": "a2376f78-0939-4247-b556-89210d20e359"
      },
      "id": "Ctm1_M5Mn9Dp",
      "execution_count": null,
      "outputs": [
        {
          "output_type": "execute_result",
          "data": {
            "text/plain": [
              "   EmploymentType  AnnualIncome  FrequentFlyer  EverTravelledAbroad\n",
              "0               1        400000              0                    0\n",
              "1               0       1250000              0                    0\n",
              "2               0        500000              0                    0\n",
              "3               0        700000              0                    0\n",
              "4               0        700000              1                    0"
            ],
            "text/html": [
              "\n",
              "  <div id=\"df-fe1e8472-cb34-4ed3-8995-4767442d126e\">\n",
              "    <div class=\"colab-df-container\">\n",
              "      <div>\n",
              "<style scoped>\n",
              "    .dataframe tbody tr th:only-of-type {\n",
              "        vertical-align: middle;\n",
              "    }\n",
              "\n",
              "    .dataframe tbody tr th {\n",
              "        vertical-align: top;\n",
              "    }\n",
              "\n",
              "    .dataframe thead th {\n",
              "        text-align: right;\n",
              "    }\n",
              "</style>\n",
              "<table border=\"1\" class=\"dataframe\">\n",
              "  <thead>\n",
              "    <tr style=\"text-align: right;\">\n",
              "      <th></th>\n",
              "      <th>EmploymentType</th>\n",
              "      <th>AnnualIncome</th>\n",
              "      <th>FrequentFlyer</th>\n",
              "      <th>EverTravelledAbroad</th>\n",
              "    </tr>\n",
              "  </thead>\n",
              "  <tbody>\n",
              "    <tr>\n",
              "      <th>0</th>\n",
              "      <td>1</td>\n",
              "      <td>400000</td>\n",
              "      <td>0</td>\n",
              "      <td>0</td>\n",
              "    </tr>\n",
              "    <tr>\n",
              "      <th>1</th>\n",
              "      <td>0</td>\n",
              "      <td>1250000</td>\n",
              "      <td>0</td>\n",
              "      <td>0</td>\n",
              "    </tr>\n",
              "    <tr>\n",
              "      <th>2</th>\n",
              "      <td>0</td>\n",
              "      <td>500000</td>\n",
              "      <td>0</td>\n",
              "      <td>0</td>\n",
              "    </tr>\n",
              "    <tr>\n",
              "      <th>3</th>\n",
              "      <td>0</td>\n",
              "      <td>700000</td>\n",
              "      <td>0</td>\n",
              "      <td>0</td>\n",
              "    </tr>\n",
              "    <tr>\n",
              "      <th>4</th>\n",
              "      <td>0</td>\n",
              "      <td>700000</td>\n",
              "      <td>1</td>\n",
              "      <td>0</td>\n",
              "    </tr>\n",
              "  </tbody>\n",
              "</table>\n",
              "</div>\n",
              "      <button class=\"colab-df-convert\" onclick=\"convertToInteractive('df-fe1e8472-cb34-4ed3-8995-4767442d126e')\"\n",
              "              title=\"Convert this dataframe to an interactive table.\"\n",
              "              style=\"display:none;\">\n",
              "        \n",
              "  <svg xmlns=\"http://www.w3.org/2000/svg\" height=\"24px\"viewBox=\"0 0 24 24\"\n",
              "       width=\"24px\">\n",
              "    <path d=\"M0 0h24v24H0V0z\" fill=\"none\"/>\n",
              "    <path d=\"M18.56 5.44l.94 2.06.94-2.06 2.06-.94-2.06-.94-.94-2.06-.94 2.06-2.06.94zm-11 1L8.5 8.5l.94-2.06 2.06-.94-2.06-.94L8.5 2.5l-.94 2.06-2.06.94zm10 10l.94 2.06.94-2.06 2.06-.94-2.06-.94-.94-2.06-.94 2.06-2.06.94z\"/><path d=\"M17.41 7.96l-1.37-1.37c-.4-.4-.92-.59-1.43-.59-.52 0-1.04.2-1.43.59L10.3 9.45l-7.72 7.72c-.78.78-.78 2.05 0 2.83L4 21.41c.39.39.9.59 1.41.59.51 0 1.02-.2 1.41-.59l7.78-7.78 2.81-2.81c.8-.78.8-2.07 0-2.86zM5.41 20L4 18.59l7.72-7.72 1.47 1.35L5.41 20z\"/>\n",
              "  </svg>\n",
              "      </button>\n",
              "      \n",
              "  <style>\n",
              "    .colab-df-container {\n",
              "      display:flex;\n",
              "      flex-wrap:wrap;\n",
              "      gap: 12px;\n",
              "    }\n",
              "\n",
              "    .colab-df-convert {\n",
              "      background-color: #E8F0FE;\n",
              "      border: none;\n",
              "      border-radius: 50%;\n",
              "      cursor: pointer;\n",
              "      display: none;\n",
              "      fill: #1967D2;\n",
              "      height: 32px;\n",
              "      padding: 0 0 0 0;\n",
              "      width: 32px;\n",
              "    }\n",
              "\n",
              "    .colab-df-convert:hover {\n",
              "      background-color: #E2EBFA;\n",
              "      box-shadow: 0px 1px 2px rgba(60, 64, 67, 0.3), 0px 1px 3px 1px rgba(60, 64, 67, 0.15);\n",
              "      fill: #174EA6;\n",
              "    }\n",
              "\n",
              "    [theme=dark] .colab-df-convert {\n",
              "      background-color: #3B4455;\n",
              "      fill: #D2E3FC;\n",
              "    }\n",
              "\n",
              "    [theme=dark] .colab-df-convert:hover {\n",
              "      background-color: #434B5C;\n",
              "      box-shadow: 0px 1px 3px 1px rgba(0, 0, 0, 0.15);\n",
              "      filter: drop-shadow(0px 1px 2px rgba(0, 0, 0, 0.3));\n",
              "      fill: #FFFFFF;\n",
              "    }\n",
              "  </style>\n",
              "\n",
              "      <script>\n",
              "        const buttonEl =\n",
              "          document.querySelector('#df-fe1e8472-cb34-4ed3-8995-4767442d126e button.colab-df-convert');\n",
              "        buttonEl.style.display =\n",
              "          google.colab.kernel.accessAllowed ? 'block' : 'none';\n",
              "\n",
              "        async function convertToInteractive(key) {\n",
              "          const element = document.querySelector('#df-fe1e8472-cb34-4ed3-8995-4767442d126e');\n",
              "          const dataTable =\n",
              "            await google.colab.kernel.invokeFunction('convertToInteractive',\n",
              "                                                     [key], {});\n",
              "          if (!dataTable) return;\n",
              "\n",
              "          const docLinkHtml = 'Like what you see? Visit the ' +\n",
              "            '<a target=\"_blank\" href=https://colab.research.google.com/notebooks/data_table.ipynb>data table notebook</a>'\n",
              "            + ' to learn more about interactive tables.';\n",
              "          element.innerHTML = '';\n",
              "          dataTable['output_type'] = 'display_data';\n",
              "          await google.colab.output.renderOutput(dataTable, element);\n",
              "          const docLink = document.createElement('div');\n",
              "          docLink.innerHTML = docLinkHtml;\n",
              "          element.appendChild(docLink);\n",
              "        }\n",
              "      </script>\n",
              "    </div>\n",
              "  </div>\n",
              "  "
            ]
          },
          "metadata": {},
          "execution_count": 39
        }
      ]
    },
    {
      "cell_type": "code",
      "source": [
        "X.shape"
      ],
      "metadata": {
        "id": "kCsXfWvIAZLR",
        "colab": {
          "base_uri": "https://localhost:8080/"
        },
        "outputId": "a13ac3aa-9a3a-4ee8-d4ba-bcc1d89040f0"
      },
      "id": "kCsXfWvIAZLR",
      "execution_count": null,
      "outputs": [
        {
          "output_type": "execute_result",
          "data": {
            "text/plain": [
              "(1987, 4)"
            ]
          },
          "metadata": {},
          "execution_count": 40
        }
      ]
    },
    {
      "cell_type": "code",
      "source": [
        "y = data_drop['TravelInsurance']\n",
        "y.head(5)"
      ],
      "metadata": {
        "id": "ePeTYPOqArlt",
        "colab": {
          "base_uri": "https://localhost:8080/"
        },
        "outputId": "a8023c84-6eaa-4819-fb08-32f555e6bb4d"
      },
      "id": "ePeTYPOqArlt",
      "execution_count": null,
      "outputs": [
        {
          "output_type": "execute_result",
          "data": {
            "text/plain": [
              "0    0\n",
              "1    0\n",
              "2    1\n",
              "3    0\n",
              "4    0\n",
              "Name: TravelInsurance, dtype: int64"
            ]
          },
          "metadata": {},
          "execution_count": 41
        }
      ]
    },
    {
      "cell_type": "code",
      "source": [
        "X_train, X_test, y_train, y_test = train_test_split(X,y,test_size=0.2, random_state=42)\n",
        "print(X_train.shape, len(y_train))\n",
        "print(X_test.shape, len(y_test))"
      ],
      "metadata": {
        "id": "LLou3n3JojZp",
        "colab": {
          "base_uri": "https://localhost:8080/"
        },
        "outputId": "5ebfda64-1d26-499b-bda1-3d552e0bd714"
      },
      "id": "LLou3n3JojZp",
      "execution_count": null,
      "outputs": [
        {
          "output_type": "stream",
          "name": "stdout",
          "text": [
            "(1589, 4) 1589\n",
            "(398, 4) 398\n"
          ]
        }
      ]
    },
    {
      "cell_type": "code",
      "source": [
        "y_train.describe()"
      ],
      "metadata": {
        "id": "1PhJydJefZ4y",
        "colab": {
          "base_uri": "https://localhost:8080/"
        },
        "outputId": "fb957ecb-7a1b-410e-827c-251842844310"
      },
      "id": "1PhJydJefZ4y",
      "execution_count": null,
      "outputs": [
        {
          "output_type": "execute_result",
          "data": {
            "text/plain": [
              "count    1589.000000\n",
              "mean        0.358087\n",
              "std         0.479589\n",
              "min         0.000000\n",
              "25%         0.000000\n",
              "50%         0.000000\n",
              "75%         1.000000\n",
              "max         1.000000\n",
              "Name: TravelInsurance, dtype: float64"
            ]
          },
          "metadata": {},
          "execution_count": 43
        }
      ]
    },
    {
      "cell_type": "code",
      "source": [
        "!pip install pingouin"
      ],
      "metadata": {
        "colab": {
          "base_uri": "https://localhost:8080/"
        },
        "id": "V619uRycgpzi",
        "outputId": "3ded2e3d-ee53-492c-c9ee-2ea1bd6fd64c"
      },
      "id": "V619uRycgpzi",
      "execution_count": null,
      "outputs": [
        {
          "output_type": "stream",
          "name": "stdout",
          "text": [
            "Requirement already satisfied: pingouin in /usr/local/lib/python3.7/dist-packages (0.5.1)\n",
            "Requirement already satisfied: pandas>=1.0 in /usr/local/lib/python3.7/dist-packages (from pingouin) (1.3.5)\n",
            "Requirement already satisfied: scikit-learn in /usr/local/lib/python3.7/dist-packages (from pingouin) (1.0.2)\n",
            "Requirement already satisfied: seaborn>=0.11 in /usr/local/lib/python3.7/dist-packages (from pingouin) (0.11.2)\n",
            "Requirement already satisfied: outdated in /usr/local/lib/python3.7/dist-packages (from pingouin) (0.2.1)\n",
            "Requirement already satisfied: scipy>=1.7 in /usr/local/lib/python3.7/dist-packages (from pingouin) (1.7.3)\n",
            "Requirement already satisfied: tabulate in /usr/local/lib/python3.7/dist-packages (from pingouin) (0.8.9)\n",
            "Requirement already satisfied: numpy>=1.19 in /usr/local/lib/python3.7/dist-packages (from pingouin) (1.21.5)\n",
            "Requirement already satisfied: statsmodels>=0.13 in /usr/local/lib/python3.7/dist-packages (from pingouin) (0.13.2)\n",
            "Requirement already satisfied: pandas-flavor>=0.2.0 in /usr/local/lib/python3.7/dist-packages (from pingouin) (0.2.0)\n",
            "Requirement already satisfied: matplotlib>=3.0.2 in /usr/local/lib/python3.7/dist-packages (from pingouin) (3.2.2)\n",
            "Requirement already satisfied: python-dateutil>=2.1 in /usr/local/lib/python3.7/dist-packages (from matplotlib>=3.0.2->pingouin) (2.8.2)\n",
            "Requirement already satisfied: pyparsing!=2.0.4,!=2.1.2,!=2.1.6,>=2.0.1 in /usr/local/lib/python3.7/dist-packages (from matplotlib>=3.0.2->pingouin) (3.0.7)\n",
            "Requirement already satisfied: kiwisolver>=1.0.1 in /usr/local/lib/python3.7/dist-packages (from matplotlib>=3.0.2->pingouin) (1.4.0)\n",
            "Requirement already satisfied: cycler>=0.10 in /usr/local/lib/python3.7/dist-packages (from matplotlib>=3.0.2->pingouin) (0.11.0)\n",
            "Requirement already satisfied: typing-extensions in /usr/local/lib/python3.7/dist-packages (from kiwisolver>=1.0.1->matplotlib>=3.0.2->pingouin) (3.10.0.2)\n",
            "Requirement already satisfied: pytz>=2017.3 in /usr/local/lib/python3.7/dist-packages (from pandas>=1.0->pingouin) (2018.9)\n",
            "Requirement already satisfied: xarray in /usr/local/lib/python3.7/dist-packages (from pandas-flavor>=0.2.0->pingouin) (0.18.2)\n",
            "Requirement already satisfied: six>=1.5 in /usr/local/lib/python3.7/dist-packages (from python-dateutil>=2.1->matplotlib>=3.0.2->pingouin) (1.15.0)\n",
            "Requirement already satisfied: packaging>=21.3 in /usr/local/lib/python3.7/dist-packages (from statsmodels>=0.13->pingouin) (21.3)\n",
            "Requirement already satisfied: patsy>=0.5.2 in /usr/local/lib/python3.7/dist-packages (from statsmodels>=0.13->pingouin) (0.5.2)\n",
            "Requirement already satisfied: littleutils in /usr/local/lib/python3.7/dist-packages (from outdated->pingouin) (0.2.2)\n",
            "Requirement already satisfied: requests in /usr/local/lib/python3.7/dist-packages (from outdated->pingouin) (2.23.0)\n",
            "Requirement already satisfied: certifi>=2017.4.17 in /usr/local/lib/python3.7/dist-packages (from requests->outdated->pingouin) (2021.10.8)\n",
            "Requirement already satisfied: idna<3,>=2.5 in /usr/local/lib/python3.7/dist-packages (from requests->outdated->pingouin) (2.10)\n",
            "Requirement already satisfied: chardet<4,>=3.0.2 in /usr/local/lib/python3.7/dist-packages (from requests->outdated->pingouin) (3.0.4)\n",
            "Requirement already satisfied: urllib3!=1.25.0,!=1.25.1,<1.26,>=1.21.1 in /usr/local/lib/python3.7/dist-packages (from requests->outdated->pingouin) (1.24.3)\n",
            "Requirement already satisfied: threadpoolctl>=2.0.0 in /usr/local/lib/python3.7/dist-packages (from scikit-learn->pingouin) (3.1.0)\n",
            "Requirement already satisfied: joblib>=0.11 in /usr/local/lib/python3.7/dist-packages (from scikit-learn->pingouin) (1.1.0)\n",
            "Requirement already satisfied: setuptools>=40.4 in /usr/local/lib/python3.7/dist-packages (from xarray->pandas-flavor>=0.2.0->pingouin) (57.4.0)\n"
          ]
        }
      ]
    },
    {
      "cell_type": "code",
      "source": [
        "#setelah drop data yg gak dipake (dari heatmap)\n",
        "#import pingouin as pg\n",
        "from pingouin import multivariate_normality\n",
        "#perform the Henze-Zirkler Multivariate Normality Test\n",
        "multivariate_normality(data_drop, alpha=.05)"
      ],
      "metadata": {
        "colab": {
          "base_uri": "https://localhost:8080/",
          "height": 519
        },
        "id": "-zhX56-Wgwis",
        "outputId": "c5bb7f6f-de0f-42d1-f2a5-765f2b0d6620"
      },
      "id": "-zhX56-Wgwis",
      "execution_count": null,
      "outputs": [
        {
          "output_type": "error",
          "ename": "ImportError",
          "evalue": "ignored",
          "traceback": [
            "\u001b[0;31m---------------------------------------------------------------------------\u001b[0m",
            "\u001b[0;31mImportError\u001b[0m                               Traceback (most recent call last)",
            "\u001b[0;32m<ipython-input-49-51bda0dd66ba>\u001b[0m in \u001b[0;36m<module>\u001b[0;34m()\u001b[0m\n\u001b[1;32m      1\u001b[0m \u001b[0;31m#setelah drop data yg gak dipake (dari heatmap)\u001b[0m\u001b[0;34m\u001b[0m\u001b[0;34m\u001b[0m\u001b[0;34m\u001b[0m\u001b[0m\n\u001b[1;32m      2\u001b[0m \u001b[0;31m#import pingouin as pg\u001b[0m\u001b[0;34m\u001b[0m\u001b[0;34m\u001b[0m\u001b[0;34m\u001b[0m\u001b[0m\n\u001b[0;32m----> 3\u001b[0;31m \u001b[0;32mfrom\u001b[0m \u001b[0mpingouin\u001b[0m \u001b[0;32mimport\u001b[0m \u001b[0mmultivariate_normality\u001b[0m\u001b[0;34m\u001b[0m\u001b[0;34m\u001b[0m\u001b[0m\n\u001b[0m\u001b[1;32m      4\u001b[0m \u001b[0;31m#perform the Henze-Zirkler Multivariate Normality Test\u001b[0m\u001b[0;34m\u001b[0m\u001b[0;34m\u001b[0m\u001b[0;34m\u001b[0m\u001b[0m\n\u001b[1;32m      5\u001b[0m \u001b[0mmultivariate_normality\u001b[0m\u001b[0;34m(\u001b[0m\u001b[0mdata_drop\u001b[0m\u001b[0;34m,\u001b[0m \u001b[0malpha\u001b[0m\u001b[0;34m=\u001b[0m\u001b[0;36m.05\u001b[0m\u001b[0;34m)\u001b[0m\u001b[0;34m\u001b[0m\u001b[0;34m\u001b[0m\u001b[0m\n",
            "\u001b[0;32m/usr/local/lib/python3.7/dist-packages/pingouin/__init__.py\u001b[0m in \u001b[0;36m<module>\u001b[0;34m()\u001b[0m\n\u001b[1;32m     12\u001b[0m \u001b[0;32mfrom\u001b[0m \u001b[0;34m.\u001b[0m\u001b[0mcorrelation\u001b[0m \u001b[0;32mimport\u001b[0m \u001b[0;34m*\u001b[0m\u001b[0;34m\u001b[0m\u001b[0;34m\u001b[0m\u001b[0m\n\u001b[1;32m     13\u001b[0m \u001b[0;32mfrom\u001b[0m \u001b[0;34m.\u001b[0m\u001b[0mcircular\u001b[0m \u001b[0;32mimport\u001b[0m \u001b[0;34m*\u001b[0m\u001b[0;34m\u001b[0m\u001b[0;34m\u001b[0m\u001b[0m\n\u001b[0;32m---> 14\u001b[0;31m \u001b[0;32mfrom\u001b[0m \u001b[0;34m.\u001b[0m\u001b[0mpairwise\u001b[0m \u001b[0;32mimport\u001b[0m \u001b[0;34m*\u001b[0m\u001b[0;34m\u001b[0m\u001b[0;34m\u001b[0m\u001b[0m\n\u001b[0m\u001b[1;32m     15\u001b[0m \u001b[0;32mfrom\u001b[0m \u001b[0;34m.\u001b[0m\u001b[0mpower\u001b[0m \u001b[0;32mimport\u001b[0m \u001b[0;34m*\u001b[0m\u001b[0;34m\u001b[0m\u001b[0;34m\u001b[0m\u001b[0m\n\u001b[1;32m     16\u001b[0m \u001b[0;32mfrom\u001b[0m \u001b[0;34m.\u001b[0m\u001b[0mreliability\u001b[0m \u001b[0;32mimport\u001b[0m \u001b[0;34m*\u001b[0m\u001b[0;34m\u001b[0m\u001b[0;34m\u001b[0m\u001b[0m\n",
            "\u001b[0;32m/usr/local/lib/python3.7/dist-packages/pingouin/pairwise.py\u001b[0m in \u001b[0;36m<module>\u001b[0;34m()\u001b[0m\n\u001b[1;32m     10\u001b[0m \u001b[0;32mfrom\u001b[0m \u001b[0mpingouin\u001b[0m\u001b[0;34m.\u001b[0m\u001b[0meffsize\u001b[0m \u001b[0;32mimport\u001b[0m \u001b[0mcompute_effsize\u001b[0m\u001b[0;34m,\u001b[0m \u001b[0mconvert_effsize\u001b[0m\u001b[0;34m\u001b[0m\u001b[0;34m\u001b[0m\u001b[0m\n\u001b[1;32m     11\u001b[0m \u001b[0;32mfrom\u001b[0m \u001b[0mpingouin\u001b[0m\u001b[0;34m.\u001b[0m\u001b[0mutils\u001b[0m \u001b[0;32mimport\u001b[0m \u001b[0;34m(\u001b[0m\u001b[0m_check_dataframe\u001b[0m\u001b[0;34m,\u001b[0m \u001b[0m_flatten_list\u001b[0m\u001b[0;34m,\u001b[0m \u001b[0m_postprocess_dataframe\u001b[0m\u001b[0;34m)\u001b[0m\u001b[0;34m\u001b[0m\u001b[0;34m\u001b[0m\u001b[0m\n\u001b[0;32m---> 12\u001b[0;31m \u001b[0;32mfrom\u001b[0m \u001b[0mscipy\u001b[0m\u001b[0;34m.\u001b[0m\u001b[0mstats\u001b[0m \u001b[0;32mimport\u001b[0m \u001b[0mstudentized_range\u001b[0m\u001b[0;34m\u001b[0m\u001b[0;34m\u001b[0m\u001b[0m\n\u001b[0m\u001b[1;32m     13\u001b[0m \u001b[0;34m\u001b[0m\u001b[0m\n\u001b[1;32m     14\u001b[0m __all__ = [\"pairwise_ttests\", \"pairwise_tukey\", \"pairwise_gameshowell\",\n",
            "\u001b[0;31mImportError\u001b[0m: cannot import name 'studentized_range' from 'scipy.stats' (/usr/local/lib/python3.7/dist-packages/scipy/stats/__init__.py)",
            "",
            "\u001b[0;31m---------------------------------------------------------------------------\u001b[0;32m\nNOTE: If your import is failing due to a missing package, you can\nmanually install dependencies using either !pip or !apt.\n\nTo view examples of installing some common dependencies, click the\n\"Open Examples\" button below.\n\u001b[0;31m---------------------------------------------------------------------------\u001b[0m\n"
          ],
          "errorDetails": {
            "actions": [
              {
                "action": "open_url",
                "actionText": "Open Examples",
                "url": "/notebooks/snippets/importing_libraries.ipynb"
              }
            ]
          }
        }
      ]
    },
    {
      "cell_type": "markdown",
      "source": [
        "# Model Building"
      ],
      "metadata": {
        "id": "jr9BEytIqcyd"
      },
      "id": "jr9BEytIqcyd"
    },
    {
      "cell_type": "markdown",
      "source": [
        "## 1. Decision Tree with Entropy"
      ],
      "metadata": {
        "id": "ixPCndxnq4y8"
      },
      "id": "ixPCndxnq4y8"
    },
    {
      "cell_type": "code",
      "execution_count": null,
      "id": "1657f49d",
      "metadata": {
        "id": "1657f49d"
      },
      "outputs": [],
      "source": [
        "dtree=DecisionTreeClassifier(criterion='entropy', max_depth=5,random_state=0, min_samples_leaf=10, min_samples_split=10)"
      ]
    },
    {
      "cell_type": "code",
      "source": [
        "dtree.fit(X_train,y_train)"
      ],
      "metadata": {
        "id": "oX25LCAjqtrX",
        "colab": {
          "base_uri": "https://localhost:8080/"
        },
        "outputId": "a3c07c85-5092-4030-c8d3-abc7829af723"
      },
      "id": "oX25LCAjqtrX",
      "execution_count": null,
      "outputs": [
        {
          "output_type": "execute_result",
          "data": {
            "text/plain": [
              "DecisionTreeClassifier(criterion='entropy', max_depth=5, min_samples_leaf=10,\n",
              "                       min_samples_split=10, random_state=0)"
            ]
          },
          "metadata": {},
          "execution_count": 78
        }
      ]
    },
    {
      "cell_type": "code",
      "source": [
        "y_pred_entropy=dtree.predict(X_test)"
      ],
      "metadata": {
        "id": "OwWLc7qhqwyb"
      },
      "id": "OwWLc7qhqwyb",
      "execution_count": null,
      "outputs": []
    },
    {
      "cell_type": "code",
      "source": [
        "Score_entropy=accuracy_score(y_test,y_pred_entropy)\n",
        "#print(\"Accuracy:\", round(Score_entropy*100,2))\n",
        "print('Accuracy:', Score_entropy*100)"
      ],
      "metadata": {
        "id": "Z5o_SWn9qzwg",
        "colab": {
          "base_uri": "https://localhost:8080/"
        },
        "outputId": "228794d0-59be-45f1-a215-d6a33c40553a"
      },
      "id": "Z5o_SWn9qzwg",
      "execution_count": null,
      "outputs": [
        {
          "output_type": "stream",
          "name": "stdout",
          "text": [
            "Accuracy: 80.15075376884423\n"
          ]
        }
      ]
    },
    {
      "cell_type": "code",
      "source": [
        "print(metrics.confusion_matrix(y_test,y_pred_entropy,labels = [1,0]))\n",
        "print('-----------------------------------------')\n",
        "tp, fn, fp, tn = confusion_matrix(y_test,y_pred_entropy,labels=[1,0]).ravel()\n",
        "print('TP:', tp)\n",
        "print('FN:', fn)\n",
        "print('FP:', fp)\n",
        "print('TN:', tn)"
      ],
      "metadata": {
        "id": "hzM1w3rixs_-",
        "colab": {
          "base_uri": "https://localhost:8080/"
        },
        "outputId": "2824a744-4e14-4b36-d0d8-4ff4fad070e3"
      },
      "id": "hzM1w3rixs_-",
      "execution_count": null,
      "outputs": [
        {
          "output_type": "stream",
          "name": "stdout",
          "text": [
            "[[ 63  78]\n",
            " [  1 256]]\n",
            "-----------------------------------------\n",
            "TP: 63\n",
            "FN: 78\n",
            "FP: 1\n",
            "TN: 256\n"
          ]
        }
      ]
    },
    {
      "cell_type": "code",
      "source": [
        "print(classification_report(y_test, y_pred_entropy))"
      ],
      "metadata": {
        "id": "4ifisZeUv__6",
        "colab": {
          "base_uri": "https://localhost:8080/"
        },
        "outputId": "3a786a17-012b-4d32-d6bc-58d74fd17e34"
      },
      "id": "4ifisZeUv__6",
      "execution_count": null,
      "outputs": [
        {
          "output_type": "stream",
          "name": "stdout",
          "text": [
            "              precision    recall  f1-score   support\n",
            "\n",
            "           0       0.77      1.00      0.87       257\n",
            "           1       0.98      0.45      0.61       141\n",
            "\n",
            "    accuracy                           0.80       398\n",
            "   macro avg       0.88      0.72      0.74       398\n",
            "weighted avg       0.84      0.80      0.78       398\n",
            "\n"
          ]
        }
      ]
    },
    {
      "cell_type": "code",
      "source": [
        "treshold = (tp/(tp+fn))-(((fp-tn)/(fn-tp))*(1-(tn/(tn+fp))))\n",
        "print(treshold)"
      ],
      "metadata": {
        "id": "VkmycINdpNKw",
        "colab": {
          "base_uri": "https://localhost:8080/"
        },
        "outputId": "be346370-fe5f-44a2-8529-a736b70b66c6"
      },
      "id": "VkmycINdpNKw",
      "execution_count": null,
      "outputs": [
        {
          "output_type": "stream",
          "name": "stdout",
          "text": [
            "0.5129563705604766\n"
          ]
        }
      ]
    },
    {
      "cell_type": "code",
      "source": [
        "import graphviz\n",
        "from sklearn import tree\n",
        "\n",
        "\n",
        "#model = DecisionTreeClassifier()\n",
        "#model.fit(X, y)\n",
        "dot_data = tree.export_graphviz(dtree,\n",
        "                  feature_names=X_train.columns,\n",
        "                  class_names='TravelInsurance',\n",
        "                  filled=True, rounded=True,\n",
        "                  special_characters=True,\n",
        "                   out_file=None,\n",
        "                           )\n",
        "graph = graphviz.Source(dot_data)\n",
        "graph"
      ],
      "metadata": {
        "id": "Tml41sM8AAkX",
        "colab": {
          "base_uri": "https://localhost:8080/",
          "height": 936
        },
        "outputId": "94833b31-241f-47ba-802f-21fb23e1f9a6"
      },
      "id": "Tml41sM8AAkX",
      "execution_count": null,
      "outputs": [
        {
          "output_type": "execute_result",
          "data": {
            "text/plain": [
              "<graphviz.files.Source at 0x7f9f83f88210>"
            ],
            "image/svg+xml": "<?xml version=\"1.0\" encoding=\"UTF-8\" standalone=\"no\"?>\n<!DOCTYPE svg PUBLIC \"-//W3C//DTD SVG 1.1//EN\"\n \"http://www.w3.org/Graphics/SVG/1.1/DTD/svg11.dtd\">\n<!-- Generated by graphviz version 2.40.1 (20161225.0304)\n -->\n<!-- Title: Tree Pages: 1 -->\n<svg width=\"1540pt\" height=\"671pt\"\n viewBox=\"0.00 0.00 1540.00 671.00\" xmlns=\"http://www.w3.org/2000/svg\" xmlns:xlink=\"http://www.w3.org/1999/xlink\">\n<g id=\"graph0\" class=\"graph\" transform=\"scale(1 1) rotate(0) translate(4 667)\">\n<title>Tree</title>\n<polygon fill=\"#ffffff\" stroke=\"transparent\" points=\"-4,4 -4,-667 1536,-667 1536,4 -4,4\"/>\n<!-- 0 -->\n<g id=\"node1\" class=\"node\">\n<title>0</title>\n<path fill=\"#f4c7a7\" stroke=\"#000000\" d=\"M924.5,-663C924.5,-663 753.5,-663 753.5,-663 747.5,-663 741.5,-657 741.5,-651 741.5,-651 741.5,-592 741.5,-592 741.5,-586 747.5,-580 753.5,-580 753.5,-580 924.5,-580 924.5,-580 930.5,-580 936.5,-586 936.5,-592 936.5,-592 936.5,-651 936.5,-651 936.5,-657 930.5,-663 924.5,-663\"/>\n<text text-anchor=\"start\" x=\"749.5\" y=\"-647.8\" font-family=\"Helvetica,sans-Serif\" font-size=\"14.00\" fill=\"#000000\">AnnualIncome ≤ 1325000.0</text>\n<text text-anchor=\"start\" x=\"788\" y=\"-632.8\" font-family=\"Helvetica,sans-Serif\" font-size=\"14.00\" fill=\"#000000\">entropy = 0.941</text>\n<text text-anchor=\"start\" x=\"787\" y=\"-617.8\" font-family=\"Helvetica,sans-Serif\" font-size=\"14.00\" fill=\"#000000\">samples = 1589</text>\n<text text-anchor=\"start\" x=\"777\" y=\"-602.8\" font-family=\"Helvetica,sans-Serif\" font-size=\"14.00\" fill=\"#000000\">value = [1020, 569]</text>\n<text text-anchor=\"start\" x=\"809.5\" y=\"-587.8\" font-family=\"Helvetica,sans-Serif\" font-size=\"14.00\" fill=\"#000000\">class = T</text>\n</g>\n<!-- 1 -->\n<g id=\"node2\" class=\"node\">\n<title>1</title>\n<path fill=\"#eda978\" stroke=\"#000000\" d=\"M668.5,-544C668.5,-544 505.5,-544 505.5,-544 499.5,-544 493.5,-538 493.5,-532 493.5,-532 493.5,-473 493.5,-473 493.5,-467 499.5,-461 505.5,-461 505.5,-461 668.5,-461 668.5,-461 674.5,-461 680.5,-467 680.5,-473 680.5,-473 680.5,-532 680.5,-532 680.5,-538 674.5,-544 668.5,-544\"/>\n<text text-anchor=\"start\" x=\"501.5\" y=\"-528.8\" font-family=\"Helvetica,sans-Serif\" font-size=\"14.00\" fill=\"#000000\">AnnualIncome ≤ 375000.0</text>\n<text text-anchor=\"start\" x=\"536\" y=\"-513.8\" font-family=\"Helvetica,sans-Serif\" font-size=\"14.00\" fill=\"#000000\">entropy = 0.796</text>\n<text text-anchor=\"start\" x=\"535\" y=\"-498.8\" font-family=\"Helvetica,sans-Serif\" font-size=\"14.00\" fill=\"#000000\">samples = 1306</text>\n<text text-anchor=\"start\" x=\"529\" y=\"-483.8\" font-family=\"Helvetica,sans-Serif\" font-size=\"14.00\" fill=\"#000000\">value = [992, 314]</text>\n<text text-anchor=\"start\" x=\"557.5\" y=\"-468.8\" font-family=\"Helvetica,sans-Serif\" font-size=\"14.00\" fill=\"#000000\">class = T</text>\n</g>\n<!-- 0&#45;&gt;1 -->\n<g id=\"edge1\" class=\"edge\">\n<title>0&#45;&gt;1</title>\n<path fill=\"none\" stroke=\"#000000\" d=\"M750.8626,-579.8796C729.3776,-569.7339 706.2733,-558.8235 684.3854,-548.4876\"/>\n<polygon fill=\"#000000\" stroke=\"#000000\" points=\"685.6246,-545.2022 675.0876,-544.0969 682.6356,-551.5319 685.6246,-545.2022\"/>\n<text text-anchor=\"middle\" x=\"683.5241\" y=\"-563.9304\" font-family=\"Helvetica,sans-Serif\" font-size=\"14.00\" fill=\"#000000\">True</text>\n</g>\n<!-- 16 -->\n<g id=\"node17\" class=\"node\">\n<title>16</title>\n<path fill=\"#4fa8e8\" stroke=\"#000000\" d=\"M1137.5,-544C1137.5,-544 966.5,-544 966.5,-544 960.5,-544 954.5,-538 954.5,-532 954.5,-532 954.5,-473 954.5,-473 954.5,-467 960.5,-461 966.5,-461 966.5,-461 1137.5,-461 1137.5,-461 1143.5,-461 1149.5,-467 1149.5,-473 1149.5,-473 1149.5,-532 1149.5,-532 1149.5,-538 1143.5,-544 1137.5,-544\"/>\n<text text-anchor=\"start\" x=\"962.5\" y=\"-528.8\" font-family=\"Helvetica,sans-Serif\" font-size=\"14.00\" fill=\"#000000\">AnnualIncome ≤ 1725000.0</text>\n<text text-anchor=\"start\" x=\"1001\" y=\"-513.8\" font-family=\"Helvetica,sans-Serif\" font-size=\"14.00\" fill=\"#000000\">entropy = 0.466</text>\n<text text-anchor=\"start\" x=\"1004\" y=\"-498.8\" font-family=\"Helvetica,sans-Serif\" font-size=\"14.00\" fill=\"#000000\">samples = 283</text>\n<text text-anchor=\"start\" x=\"998\" y=\"-483.8\" font-family=\"Helvetica,sans-Serif\" font-size=\"14.00\" fill=\"#000000\">value = [28, 255]</text>\n<text text-anchor=\"start\" x=\"1024.5\" y=\"-468.8\" font-family=\"Helvetica,sans-Serif\" font-size=\"14.00\" fill=\"#000000\">class = r</text>\n</g>\n<!-- 0&#45;&gt;16 -->\n<g id=\"edge16\" class=\"edge\">\n<title>0&#45;&gt;16</title>\n<path fill=\"none\" stroke=\"#000000\" d=\"M913.4971,-579.8796C931.3328,-569.915 950.4886,-559.2129 968.6941,-549.0418\"/>\n<polygon fill=\"#000000\" stroke=\"#000000\" points=\"970.5221,-552.0298 977.545,-544.0969 967.108,-545.9188 970.5221,-552.0298\"/>\n<text text-anchor=\"middle\" x=\"970.7344\" y=\"-564.4514\" font-family=\"Helvetica,sans-Serif\" font-size=\"14.00\" fill=\"#000000\">False</text>\n</g>\n<!-- 2 -->\n<g id=\"node3\" class=\"node\">\n<title>2</title>\n<path fill=\"#e78845\" stroke=\"#000000\" d=\"M300.5,-425C300.5,-425 137.5,-425 137.5,-425 131.5,-425 125.5,-419 125.5,-413 125.5,-413 125.5,-354 125.5,-354 125.5,-348 131.5,-342 137.5,-342 137.5,-342 300.5,-342 300.5,-342 306.5,-342 312.5,-348 312.5,-354 312.5,-354 312.5,-413 312.5,-413 312.5,-419 306.5,-425 300.5,-425\"/>\n<text text-anchor=\"start\" x=\"133.5\" y=\"-409.8\" font-family=\"Helvetica,sans-Serif\" font-size=\"14.00\" fill=\"#000000\">AnnualIncome ≤ 325000.0</text>\n<text text-anchor=\"start\" x=\"172\" y=\"-394.8\" font-family=\"Helvetica,sans-Serif\" font-size=\"14.00\" fill=\"#000000\">entropy = 0.31</text>\n<text text-anchor=\"start\" x=\"171\" y=\"-379.8\" font-family=\"Helvetica,sans-Serif\" font-size=\"14.00\" fill=\"#000000\">samples = 108</text>\n<text text-anchor=\"start\" x=\"169\" y=\"-364.8\" font-family=\"Helvetica,sans-Serif\" font-size=\"14.00\" fill=\"#000000\">value = [102, 6]</text>\n<text text-anchor=\"start\" x=\"189.5\" y=\"-349.8\" font-family=\"Helvetica,sans-Serif\" font-size=\"14.00\" fill=\"#000000\">class = T</text>\n</g>\n<!-- 1&#45;&gt;2 -->\n<g id=\"edge2\" class=\"edge\">\n<title>1&#45;&gt;2</title>\n<path fill=\"none\" stroke=\"#000000\" d=\"M493.1859,-472.1634C440.9555,-455.2736 375.8445,-434.2187 322.18,-416.8653\"/>\n<polygon fill=\"#000000\" stroke=\"#000000\" points=\"323.2346,-413.5279 312.6428,-413.7812 321.0808,-420.1883 323.2346,-413.5279\"/>\n</g>\n<!-- 7 -->\n<g id=\"node8\" class=\"node\">\n<title>7</title>\n<path fill=\"#eead7e\" stroke=\"#000000\" d=\"M672.5,-425C672.5,-425 501.5,-425 501.5,-425 495.5,-425 489.5,-419 489.5,-413 489.5,-413 489.5,-354 489.5,-354 489.5,-348 495.5,-342 501.5,-342 501.5,-342 672.5,-342 672.5,-342 678.5,-342 684.5,-348 684.5,-354 684.5,-354 684.5,-413 684.5,-413 684.5,-419 678.5,-425 672.5,-425\"/>\n<text text-anchor=\"start\" x=\"497.5\" y=\"-409.8\" font-family=\"Helvetica,sans-Serif\" font-size=\"14.00\" fill=\"#000000\">AnnualIncome ≤ 1275000.0</text>\n<text text-anchor=\"start\" x=\"536\" y=\"-394.8\" font-family=\"Helvetica,sans-Serif\" font-size=\"14.00\" fill=\"#000000\">entropy = 0.822</text>\n<text text-anchor=\"start\" x=\"535\" y=\"-379.8\" font-family=\"Helvetica,sans-Serif\" font-size=\"14.00\" fill=\"#000000\">samples = 1198</text>\n<text text-anchor=\"start\" x=\"529\" y=\"-364.8\" font-family=\"Helvetica,sans-Serif\" font-size=\"14.00\" fill=\"#000000\">value = [890, 308]</text>\n<text text-anchor=\"start\" x=\"557.5\" y=\"-349.8\" font-family=\"Helvetica,sans-Serif\" font-size=\"14.00\" fill=\"#000000\">class = T</text>\n</g>\n<!-- 1&#45;&gt;7 -->\n<g id=\"edge7\" class=\"edge\">\n<title>1&#45;&gt;7</title>\n<path fill=\"none\" stroke=\"#000000\" d=\"M587,-460.8796C587,-452.6838 587,-443.9891 587,-435.5013\"/>\n<polygon fill=\"#000000\" stroke=\"#000000\" points=\"590.5001,-435.298 587,-425.2981 583.5001,-435.2981 590.5001,-435.298\"/>\n</g>\n<!-- 3 -->\n<g id=\"node4\" class=\"node\">\n<title>3</title>\n<path fill=\"#e78946\" stroke=\"#000000\" d=\"M106,-298.5C106,-298.5 12,-298.5 12,-298.5 6,-298.5 0,-292.5 0,-286.5 0,-286.5 0,-242.5 0,-242.5 0,-236.5 6,-230.5 12,-230.5 12,-230.5 106,-230.5 106,-230.5 112,-230.5 118,-236.5 118,-242.5 118,-242.5 118,-286.5 118,-286.5 118,-292.5 112,-298.5 106,-298.5\"/>\n<text text-anchor=\"start\" x=\"8\" y=\"-283.3\" font-family=\"Helvetica,sans-Serif\" font-size=\"14.00\" fill=\"#000000\">entropy = 0.337</text>\n<text text-anchor=\"start\" x=\"15\" y=\"-268.3\" font-family=\"Helvetica,sans-Serif\" font-size=\"14.00\" fill=\"#000000\">samples = 64</text>\n<text text-anchor=\"start\" x=\"13.5\" y=\"-253.3\" font-family=\"Helvetica,sans-Serif\" font-size=\"14.00\" fill=\"#000000\">value = [60, 4]</text>\n<text text-anchor=\"start\" x=\"29.5\" y=\"-238.3\" font-family=\"Helvetica,sans-Serif\" font-size=\"14.00\" fill=\"#000000\">class = T</text>\n</g>\n<!-- 2&#45;&gt;3 -->\n<g id=\"edge3\" class=\"edge\">\n<title>2&#45;&gt;3</title>\n<path fill=\"none\" stroke=\"#000000\" d=\"M163.0398,-341.8796C146.8478,-329.8368 129.2073,-316.7167 113.1292,-304.7586\"/>\n<polygon fill=\"#000000\" stroke=\"#000000\" points=\"114.9925,-301.7825 104.8797,-298.623 110.815,-307.3993 114.9925,-301.7825\"/>\n</g>\n<!-- 4 -->\n<g id=\"node5\" class=\"node\">\n<title>4</title>\n<path fill=\"#e68742\" stroke=\"#000000\" d=\"M289.5,-306C289.5,-306 148.5,-306 148.5,-306 142.5,-306 136.5,-300 136.5,-294 136.5,-294 136.5,-235 136.5,-235 136.5,-229 142.5,-223 148.5,-223 148.5,-223 289.5,-223 289.5,-223 295.5,-223 301.5,-229 301.5,-235 301.5,-235 301.5,-294 301.5,-294 301.5,-300 295.5,-306 289.5,-306\"/>\n<text text-anchor=\"start\" x=\"144.5\" y=\"-290.8\" font-family=\"Helvetica,sans-Serif\" font-size=\"14.00\" fill=\"#000000\">EmploymentType ≤ 0.5</text>\n<text text-anchor=\"start\" x=\"168\" y=\"-275.8\" font-family=\"Helvetica,sans-Serif\" font-size=\"14.00\" fill=\"#000000\">entropy = 0.267</text>\n<text text-anchor=\"start\" x=\"175\" y=\"-260.8\" font-family=\"Helvetica,sans-Serif\" font-size=\"14.00\" fill=\"#000000\">samples = 44</text>\n<text text-anchor=\"start\" x=\"173.5\" y=\"-245.8\" font-family=\"Helvetica,sans-Serif\" font-size=\"14.00\" fill=\"#000000\">value = [42, 2]</text>\n<text text-anchor=\"start\" x=\"189.5\" y=\"-230.8\" font-family=\"Helvetica,sans-Serif\" font-size=\"14.00\" fill=\"#000000\">class = T</text>\n</g>\n<!-- 2&#45;&gt;4 -->\n<g id=\"edge4\" class=\"edge\">\n<title>2&#45;&gt;4</title>\n<path fill=\"none\" stroke=\"#000000\" d=\"M219,-341.8796C219,-333.6838 219,-324.9891 219,-316.5013\"/>\n<polygon fill=\"#000000\" stroke=\"#000000\" points=\"222.5001,-316.298 219,-306.2981 215.5001,-316.2981 222.5001,-316.298\"/>\n</g>\n<!-- 5 -->\n<g id=\"node6\" class=\"node\">\n<title>5</title>\n<path fill=\"#e78945\" stroke=\"#000000\" d=\"M130,-179.5C130,-179.5 36,-179.5 36,-179.5 30,-179.5 24,-173.5 24,-167.5 24,-167.5 24,-123.5 24,-123.5 24,-117.5 30,-111.5 36,-111.5 36,-111.5 130,-111.5 130,-111.5 136,-111.5 142,-117.5 142,-123.5 142,-123.5 142,-167.5 142,-167.5 142,-173.5 136,-179.5 130,-179.5\"/>\n<text text-anchor=\"start\" x=\"32\" y=\"-164.3\" font-family=\"Helvetica,sans-Serif\" font-size=\"14.00\" fill=\"#000000\">entropy = 0.323</text>\n<text text-anchor=\"start\" x=\"39\" y=\"-149.3\" font-family=\"Helvetica,sans-Serif\" font-size=\"14.00\" fill=\"#000000\">samples = 17</text>\n<text text-anchor=\"start\" x=\"37.5\" y=\"-134.3\" font-family=\"Helvetica,sans-Serif\" font-size=\"14.00\" fill=\"#000000\">value = [16, 1]</text>\n<text text-anchor=\"start\" x=\"53.5\" y=\"-119.3\" font-family=\"Helvetica,sans-Serif\" font-size=\"14.00\" fill=\"#000000\">class = T</text>\n</g>\n<!-- 4&#45;&gt;5 -->\n<g id=\"edge5\" class=\"edge\">\n<title>4&#45;&gt;5</title>\n<path fill=\"none\" stroke=\"#000000\" d=\"M171.4338,-222.8796C157.9872,-211.1138 143.3653,-198.3197 129.9549,-186.5855\"/>\n<polygon fill=\"#000000\" stroke=\"#000000\" points=\"132.0476,-183.766 122.2171,-179.8149 127.4381,-189.034 132.0476,-183.766\"/>\n</g>\n<!-- 6 -->\n<g id=\"node7\" class=\"node\">\n<title>6</title>\n<path fill=\"#e68641\" stroke=\"#000000\" d=\"M266,-179.5C266,-179.5 172,-179.5 172,-179.5 166,-179.5 160,-173.5 160,-167.5 160,-167.5 160,-123.5 160,-123.5 160,-117.5 166,-111.5 172,-111.5 172,-111.5 266,-111.5 266,-111.5 272,-111.5 278,-117.5 278,-123.5 278,-123.5 278,-167.5 278,-167.5 278,-173.5 272,-179.5 266,-179.5\"/>\n<text text-anchor=\"start\" x=\"168\" y=\"-164.3\" font-family=\"Helvetica,sans-Serif\" font-size=\"14.00\" fill=\"#000000\">entropy = 0.229</text>\n<text text-anchor=\"start\" x=\"175\" y=\"-149.3\" font-family=\"Helvetica,sans-Serif\" font-size=\"14.00\" fill=\"#000000\">samples = 27</text>\n<text text-anchor=\"start\" x=\"173.5\" y=\"-134.3\" font-family=\"Helvetica,sans-Serif\" font-size=\"14.00\" fill=\"#000000\">value = [26, 1]</text>\n<text text-anchor=\"start\" x=\"189.5\" y=\"-119.3\" font-family=\"Helvetica,sans-Serif\" font-size=\"14.00\" fill=\"#000000\">class = T</text>\n</g>\n<!-- 4&#45;&gt;6 -->\n<g id=\"edge6\" class=\"edge\">\n<title>4&#45;&gt;6</title>\n<path fill=\"none\" stroke=\"#000000\" d=\"M219,-222.8796C219,-212.2134 219,-200.7021 219,-189.9015\"/>\n<polygon fill=\"#000000\" stroke=\"#000000\" points=\"222.5001,-189.8149 219,-179.8149 215.5001,-189.815 222.5001,-189.8149\"/>\n</g>\n<!-- 8 -->\n<g id=\"node9\" class=\"node\">\n<title>8</title>\n<path fill=\"#eeab7b\" stroke=\"#000000\" d=\"M571.5,-306C571.5,-306 408.5,-306 408.5,-306 402.5,-306 396.5,-300 396.5,-294 396.5,-294 396.5,-235 396.5,-235 396.5,-229 402.5,-223 408.5,-223 408.5,-223 571.5,-223 571.5,-223 577.5,-223 583.5,-229 583.5,-235 583.5,-235 583.5,-294 583.5,-294 583.5,-300 577.5,-306 571.5,-306\"/>\n<text text-anchor=\"start\" x=\"404.5\" y=\"-290.8\" font-family=\"Helvetica,sans-Serif\" font-size=\"14.00\" fill=\"#000000\">AnnualIncome ≤ 425000.0</text>\n<text text-anchor=\"start\" x=\"439\" y=\"-275.8\" font-family=\"Helvetica,sans-Serif\" font-size=\"14.00\" fill=\"#000000\">entropy = 0.812</text>\n<text text-anchor=\"start\" x=\"438\" y=\"-260.8\" font-family=\"Helvetica,sans-Serif\" font-size=\"14.00\" fill=\"#000000\">samples = 1127</text>\n<text text-anchor=\"start\" x=\"432\" y=\"-245.8\" font-family=\"Helvetica,sans-Serif\" font-size=\"14.00\" fill=\"#000000\">value = [845, 282]</text>\n<text text-anchor=\"start\" x=\"460.5\" y=\"-230.8\" font-family=\"Helvetica,sans-Serif\" font-size=\"14.00\" fill=\"#000000\">class = T</text>\n</g>\n<!-- 7&#45;&gt;8 -->\n<g id=\"edge8\" class=\"edge\">\n<title>7&#45;&gt;8</title>\n<path fill=\"none\" stroke=\"#000000\" d=\"M553.0741,-341.8796C545.8062,-332.9633 538.057,-323.4565 530.5672,-314.268\"/>\n<polygon fill=\"#000000\" stroke=\"#000000\" points=\"533.1018,-311.8379 524.0707,-306.2981 527.676,-316.2606 533.1018,-311.8379\"/>\n</g>\n<!-- 13 -->\n<g id=\"node14\" class=\"node\">\n<title>13</title>\n<path fill=\"#f4caab\" stroke=\"#000000\" d=\"M754.5,-306C754.5,-306 613.5,-306 613.5,-306 607.5,-306 601.5,-300 601.5,-294 601.5,-294 601.5,-235 601.5,-235 601.5,-229 607.5,-223 613.5,-223 613.5,-223 754.5,-223 754.5,-223 760.5,-223 766.5,-229 766.5,-235 766.5,-235 766.5,-294 766.5,-294 766.5,-300 760.5,-306 754.5,-306\"/>\n<text text-anchor=\"start\" x=\"609.5\" y=\"-290.8\" font-family=\"Helvetica,sans-Serif\" font-size=\"14.00\" fill=\"#000000\">EmploymentType ≤ 0.5</text>\n<text text-anchor=\"start\" x=\"633\" y=\"-275.8\" font-family=\"Helvetica,sans-Serif\" font-size=\"14.00\" fill=\"#000000\">entropy = 0.948</text>\n<text text-anchor=\"start\" x=\"640\" y=\"-260.8\" font-family=\"Helvetica,sans-Serif\" font-size=\"14.00\" fill=\"#000000\">samples = 71</text>\n<text text-anchor=\"start\" x=\"634\" y=\"-245.8\" font-family=\"Helvetica,sans-Serif\" font-size=\"14.00\" fill=\"#000000\">value = [45, 26]</text>\n<text text-anchor=\"start\" x=\"654.5\" y=\"-230.8\" font-family=\"Helvetica,sans-Serif\" font-size=\"14.00\" fill=\"#000000\">class = T</text>\n</g>\n<!-- 7&#45;&gt;13 -->\n<g id=\"edge13\" class=\"edge\">\n<title>7&#45;&gt;13</title>\n<path fill=\"none\" stroke=\"#000000\" d=\"M620.9259,-341.8796C628.1938,-332.9633 635.943,-323.4565 643.4328,-314.268\"/>\n<polygon fill=\"#000000\" stroke=\"#000000\" points=\"646.324,-316.2606 649.9293,-306.2981 640.8982,-311.8379 646.324,-316.2606\"/>\n</g>\n<!-- 9 -->\n<g id=\"node10\" class=\"node\">\n<title>9</title>\n<path fill=\"#ea9a61\" stroke=\"#000000\" d=\"M394,-179.5C394,-179.5 308,-179.5 308,-179.5 302,-179.5 296,-173.5 296,-167.5 296,-167.5 296,-123.5 296,-123.5 296,-117.5 302,-111.5 308,-111.5 308,-111.5 394,-111.5 394,-111.5 400,-111.5 406,-117.5 406,-123.5 406,-123.5 406,-167.5 406,-167.5 406,-173.5 400,-179.5 394,-179.5\"/>\n<text text-anchor=\"start\" x=\"304\" y=\"-164.3\" font-family=\"Helvetica,sans-Serif\" font-size=\"14.00\" fill=\"#000000\">entropy = 0.65</text>\n<text text-anchor=\"start\" x=\"307\" y=\"-149.3\" font-family=\"Helvetica,sans-Serif\" font-size=\"14.00\" fill=\"#000000\">samples = 54</text>\n<text text-anchor=\"start\" x=\"305.5\" y=\"-134.3\" font-family=\"Helvetica,sans-Serif\" font-size=\"14.00\" fill=\"#000000\">value = [45, 9]</text>\n<text text-anchor=\"start\" x=\"321.5\" y=\"-119.3\" font-family=\"Helvetica,sans-Serif\" font-size=\"14.00\" fill=\"#000000\">class = T</text>\n</g>\n<!-- 8&#45;&gt;9 -->\n<g id=\"edge9\" class=\"edge\">\n<title>8&#45;&gt;9</title>\n<path fill=\"none\" stroke=\"#000000\" d=\"M441.3845,-222.8796C427.6413,-211.1138 412.6969,-198.3197 398.9907,-186.5855\"/>\n<polygon fill=\"#000000\" stroke=\"#000000\" points=\"400.9548,-183.6596 391.0822,-179.8149 396.4024,-188.9771 400.9548,-183.6596\"/>\n</g>\n<!-- 10 -->\n<g id=\"node11\" class=\"node\">\n<title>10</title>\n<path fill=\"#eeac7d\" stroke=\"#000000\" d=\"M577.5,-187C577.5,-187 436.5,-187 436.5,-187 430.5,-187 424.5,-181 424.5,-175 424.5,-175 424.5,-116 424.5,-116 424.5,-110 430.5,-104 436.5,-104 436.5,-104 577.5,-104 577.5,-104 583.5,-104 589.5,-110 589.5,-116 589.5,-116 589.5,-175 589.5,-175 589.5,-181 583.5,-187 577.5,-187\"/>\n<text text-anchor=\"start\" x=\"432.5\" y=\"-171.8\" font-family=\"Helvetica,sans-Serif\" font-size=\"14.00\" fill=\"#000000\">EmploymentType ≤ 0.5</text>\n<text text-anchor=\"start\" x=\"456\" y=\"-156.8\" font-family=\"Helvetica,sans-Serif\" font-size=\"14.00\" fill=\"#000000\">entropy = 0.818</text>\n<text text-anchor=\"start\" x=\"455\" y=\"-141.8\" font-family=\"Helvetica,sans-Serif\" font-size=\"14.00\" fill=\"#000000\">samples = 1073</text>\n<text text-anchor=\"start\" x=\"449\" y=\"-126.8\" font-family=\"Helvetica,sans-Serif\" font-size=\"14.00\" fill=\"#000000\">value = [800, 273]</text>\n<text text-anchor=\"start\" x=\"477.5\" y=\"-111.8\" font-family=\"Helvetica,sans-Serif\" font-size=\"14.00\" fill=\"#000000\">class = T</text>\n</g>\n<!-- 8&#45;&gt;10 -->\n<g id=\"edge10\" class=\"edge\">\n<title>8&#45;&gt;10</title>\n<path fill=\"none\" stroke=\"#000000\" d=\"M495.9458,-222.8796C497.1295,-214.5938 498.386,-205.798 499.6112,-197.2216\"/>\n<polygon fill=\"#000000\" stroke=\"#000000\" points=\"503.0794,-197.6926 501.0288,-187.2981 496.1497,-196.7026 503.0794,-197.6926\"/>\n</g>\n<!-- 11 -->\n<g id=\"node12\" class=\"node\">\n<title>11</title>\n<path fill=\"#edaa79\" stroke=\"#000000\" d=\"M488,-68C488,-68 380,-68 380,-68 374,-68 368,-62 368,-56 368,-56 368,-12 368,-12 368,-6 374,0 380,0 380,0 488,0 488,0 494,0 500,-6 500,-12 500,-12 500,-56 500,-56 500,-62 494,-68 488,-68\"/>\n<text text-anchor=\"start\" x=\"383\" y=\"-52.8\" font-family=\"Helvetica,sans-Serif\" font-size=\"14.00\" fill=\"#000000\">entropy = 0.801</text>\n<text text-anchor=\"start\" x=\"386\" y=\"-37.8\" font-family=\"Helvetica,sans-Serif\" font-size=\"14.00\" fill=\"#000000\">samples = 817</text>\n<text text-anchor=\"start\" x=\"376\" y=\"-22.8\" font-family=\"Helvetica,sans-Serif\" font-size=\"14.00\" fill=\"#000000\">value = [618, 199]</text>\n<text text-anchor=\"start\" x=\"404.5\" y=\"-7.8\" font-family=\"Helvetica,sans-Serif\" font-size=\"14.00\" fill=\"#000000\">class = T</text>\n</g>\n<!-- 10&#45;&gt;11 -->\n<g id=\"edge11\" class=\"edge\">\n<title>10&#45;&gt;11</title>\n<path fill=\"none\" stroke=\"#000000\" d=\"M479.8175,-103.9815C473.9808,-95.0666 467.8034,-85.6313 461.9386,-76.6734\"/>\n<polygon fill=\"#000000\" stroke=\"#000000\" points=\"464.8386,-74.7129 456.4327,-68.2637 458.9821,-78.5472 464.8386,-74.7129\"/>\n</g>\n<!-- 12 -->\n<g id=\"node13\" class=\"node\">\n<title>12</title>\n<path fill=\"#f0b48a\" stroke=\"#000000\" d=\"M630,-68C630,-68 530,-68 530,-68 524,-68 518,-62 518,-56 518,-56 518,-12 518,-12 518,-6 524,0 530,0 530,0 630,0 630,0 636,0 642,-6 642,-12 642,-12 642,-56 642,-56 642,-62 636,-68 630,-68\"/>\n<text text-anchor=\"start\" x=\"529\" y=\"-52.8\" font-family=\"Helvetica,sans-Serif\" font-size=\"14.00\" fill=\"#000000\">entropy = 0.868</text>\n<text text-anchor=\"start\" x=\"532\" y=\"-37.8\" font-family=\"Helvetica,sans-Serif\" font-size=\"14.00\" fill=\"#000000\">samples = 256</text>\n<text text-anchor=\"start\" x=\"526\" y=\"-22.8\" font-family=\"Helvetica,sans-Serif\" font-size=\"14.00\" fill=\"#000000\">value = [182, 74]</text>\n<text text-anchor=\"start\" x=\"550.5\" y=\"-7.8\" font-family=\"Helvetica,sans-Serif\" font-size=\"14.00\" fill=\"#000000\">class = T</text>\n</g>\n<!-- 10&#45;&gt;12 -->\n<g id=\"edge12\" class=\"edge\">\n<title>10&#45;&gt;12</title>\n<path fill=\"none\" stroke=\"#000000\" d=\"M534.1825,-103.9815C540.0192,-95.0666 546.1966,-85.6313 552.0614,-76.6734\"/>\n<polygon fill=\"#000000\" stroke=\"#000000\" points=\"555.0179,-78.5472 557.5673,-68.2637 549.1614,-74.7129 555.0179,-78.5472\"/>\n</g>\n<!-- 14 -->\n<g id=\"node15\" class=\"node\">\n<title>14</title>\n<path fill=\"#f2c29f\" stroke=\"#000000\" d=\"M714,-179.5C714,-179.5 620,-179.5 620,-179.5 614,-179.5 608,-173.5 608,-167.5 608,-167.5 608,-123.5 608,-123.5 608,-117.5 614,-111.5 620,-111.5 620,-111.5 714,-111.5 714,-111.5 720,-111.5 726,-117.5 726,-123.5 726,-123.5 726,-167.5 726,-167.5 726,-173.5 720,-179.5 714,-179.5\"/>\n<text text-anchor=\"start\" x=\"616\" y=\"-164.3\" font-family=\"Helvetica,sans-Serif\" font-size=\"14.00\" fill=\"#000000\">entropy = 0.926</text>\n<text text-anchor=\"start\" x=\"623\" y=\"-149.3\" font-family=\"Helvetica,sans-Serif\" font-size=\"14.00\" fill=\"#000000\">samples = 44</text>\n<text text-anchor=\"start\" x=\"617\" y=\"-134.3\" font-family=\"Helvetica,sans-Serif\" font-size=\"14.00\" fill=\"#000000\">value = [29, 15]</text>\n<text text-anchor=\"start\" x=\"637.5\" y=\"-119.3\" font-family=\"Helvetica,sans-Serif\" font-size=\"14.00\" fill=\"#000000\">class = T</text>\n</g>\n<!-- 13&#45;&gt;14 -->\n<g id=\"edge14\" class=\"edge\">\n<title>13&#45;&gt;14</title>\n<path fill=\"none\" stroke=\"#000000\" d=\"M678.0542,-222.8796C676.5305,-212.2134 674.886,-200.7021 673.3431,-189.9015\"/>\n<polygon fill=\"#000000\" stroke=\"#000000\" points=\"676.7813,-189.2194 671.9021,-179.8149 669.8516,-190.2094 676.7813,-189.2194\"/>\n</g>\n<!-- 15 -->\n<g id=\"node16\" class=\"node\">\n<title>15</title>\n<path fill=\"#f7d8c1\" stroke=\"#000000\" d=\"M850,-179.5C850,-179.5 756,-179.5 756,-179.5 750,-179.5 744,-173.5 744,-167.5 744,-167.5 744,-123.5 744,-123.5 744,-117.5 750,-111.5 756,-111.5 756,-111.5 850,-111.5 850,-111.5 856,-111.5 862,-117.5 862,-123.5 862,-123.5 862,-167.5 862,-167.5 862,-173.5 856,-179.5 850,-179.5\"/>\n<text text-anchor=\"start\" x=\"752\" y=\"-164.3\" font-family=\"Helvetica,sans-Serif\" font-size=\"14.00\" fill=\"#000000\">entropy = 0.975</text>\n<text text-anchor=\"start\" x=\"759\" y=\"-149.3\" font-family=\"Helvetica,sans-Serif\" font-size=\"14.00\" fill=\"#000000\">samples = 27</text>\n<text text-anchor=\"start\" x=\"753\" y=\"-134.3\" font-family=\"Helvetica,sans-Serif\" font-size=\"14.00\" fill=\"#000000\">value = [16, 11]</text>\n<text text-anchor=\"start\" x=\"773.5\" y=\"-119.3\" font-family=\"Helvetica,sans-Serif\" font-size=\"14.00\" fill=\"#000000\">class = T</text>\n</g>\n<!-- 13&#45;&gt;15 -->\n<g id=\"edge15\" class=\"edge\">\n<title>13&#45;&gt;15</title>\n<path fill=\"none\" stroke=\"#000000\" d=\"M725.6204,-222.8796C737.2763,-211.2237 749.9413,-198.5587 761.5852,-186.9148\"/>\n<polygon fill=\"#000000\" stroke=\"#000000\" points=\"764.0889,-189.3609 768.6851,-179.8149 759.1391,-184.4111 764.0889,-189.3609\"/>\n</g>\n<!-- 17 -->\n<g id=\"node18\" class=\"node\">\n<title>17</title>\n<path fill=\"#48a5e7\" stroke=\"#000000\" d=\"M1137.5,-425C1137.5,-425 966.5,-425 966.5,-425 960.5,-425 954.5,-419 954.5,-413 954.5,-413 954.5,-354 954.5,-354 954.5,-348 960.5,-342 966.5,-342 966.5,-342 1137.5,-342 1137.5,-342 1143.5,-342 1149.5,-348 1149.5,-354 1149.5,-354 1149.5,-413 1149.5,-413 1149.5,-419 1143.5,-425 1137.5,-425\"/>\n<text text-anchor=\"start\" x=\"962.5\" y=\"-409.8\" font-family=\"Helvetica,sans-Serif\" font-size=\"14.00\" fill=\"#000000\">AnnualIncome ≤ 1425000.0</text>\n<text text-anchor=\"start\" x=\"1001\" y=\"-394.8\" font-family=\"Helvetica,sans-Serif\" font-size=\"14.00\" fill=\"#000000\">entropy = 0.371</text>\n<text text-anchor=\"start\" x=\"1004\" y=\"-379.8\" font-family=\"Helvetica,sans-Serif\" font-size=\"14.00\" fill=\"#000000\">samples = 266</text>\n<text text-anchor=\"start\" x=\"998\" y=\"-364.8\" font-family=\"Helvetica,sans-Serif\" font-size=\"14.00\" fill=\"#000000\">value = [19, 247]</text>\n<text text-anchor=\"start\" x=\"1024.5\" y=\"-349.8\" font-family=\"Helvetica,sans-Serif\" font-size=\"14.00\" fill=\"#000000\">class = r</text>\n</g>\n<!-- 16&#45;&gt;17 -->\n<g id=\"edge17\" class=\"edge\">\n<title>16&#45;&gt;17</title>\n<path fill=\"none\" stroke=\"#000000\" d=\"M1052,-460.8796C1052,-452.6838 1052,-443.9891 1052,-435.5013\"/>\n<polygon fill=\"#000000\" stroke=\"#000000\" points=\"1055.5001,-435.298 1052,-425.2981 1048.5001,-435.2981 1055.5001,-435.298\"/>\n</g>\n<!-- 28 -->\n<g id=\"node29\" class=\"node\">\n<title>28</title>\n<path fill=\"#fcf1e9\" stroke=\"#000000\" d=\"M1274,-417.5C1274,-417.5 1180,-417.5 1180,-417.5 1174,-417.5 1168,-411.5 1168,-405.5 1168,-405.5 1168,-361.5 1168,-361.5 1168,-355.5 1174,-349.5 1180,-349.5 1180,-349.5 1274,-349.5 1274,-349.5 1280,-349.5 1286,-355.5 1286,-361.5 1286,-361.5 1286,-405.5 1286,-405.5 1286,-411.5 1280,-417.5 1274,-417.5\"/>\n<text text-anchor=\"start\" x=\"1176\" y=\"-402.3\" font-family=\"Helvetica,sans-Serif\" font-size=\"14.00\" fill=\"#000000\">entropy = 0.998</text>\n<text text-anchor=\"start\" x=\"1183\" y=\"-387.3\" font-family=\"Helvetica,sans-Serif\" font-size=\"14.00\" fill=\"#000000\">samples = 17</text>\n<text text-anchor=\"start\" x=\"1185.5\" y=\"-372.3\" font-family=\"Helvetica,sans-Serif\" font-size=\"14.00\" fill=\"#000000\">value = [9, 8]</text>\n<text text-anchor=\"start\" x=\"1197.5\" y=\"-357.3\" font-family=\"Helvetica,sans-Serif\" font-size=\"14.00\" fill=\"#000000\">class = T</text>\n</g>\n<!-- 16&#45;&gt;28 -->\n<g id=\"edge28\" class=\"edge\">\n<title>16&#45;&gt;28</title>\n<path fill=\"none\" stroke=\"#000000\" d=\"M1113.2065,-460.8796C1131.079,-448.7263 1150.5649,-435.4759 1168.2798,-423.4297\"/>\n<polygon fill=\"#000000\" stroke=\"#000000\" points=\"1170.5179,-426.1404 1176.8191,-417.623 1166.5817,-420.3519 1170.5179,-426.1404\"/>\n</g>\n<!-- 18 -->\n<g id=\"node19\" class=\"node\">\n<title>18</title>\n<path fill=\"#4da7e8\" stroke=\"#000000\" d=\"M1111.5,-306C1111.5,-306 992.5,-306 992.5,-306 986.5,-306 980.5,-300 980.5,-294 980.5,-294 980.5,-235 980.5,-235 980.5,-229 986.5,-223 992.5,-223 992.5,-223 1111.5,-223 1111.5,-223 1117.5,-223 1123.5,-229 1123.5,-235 1123.5,-235 1123.5,-294 1123.5,-294 1123.5,-300 1117.5,-306 1111.5,-306\"/>\n<text text-anchor=\"start\" x=\"988.5\" y=\"-290.8\" font-family=\"Helvetica,sans-Serif\" font-size=\"14.00\" fill=\"#000000\">FrequentFlyer ≤ 0.5</text>\n<text text-anchor=\"start\" x=\"1001\" y=\"-275.8\" font-family=\"Helvetica,sans-Serif\" font-size=\"14.00\" fill=\"#000000\">entropy = 0.444</text>\n<text text-anchor=\"start\" x=\"1004\" y=\"-260.8\" font-family=\"Helvetica,sans-Serif\" font-size=\"14.00\" fill=\"#000000\">samples = 141</text>\n<text text-anchor=\"start\" x=\"998\" y=\"-245.8\" font-family=\"Helvetica,sans-Serif\" font-size=\"14.00\" fill=\"#000000\">value = [13, 128]</text>\n<text text-anchor=\"start\" x=\"1024.5\" y=\"-230.8\" font-family=\"Helvetica,sans-Serif\" font-size=\"14.00\" fill=\"#000000\">class = r</text>\n</g>\n<!-- 17&#45;&gt;18 -->\n<g id=\"edge18\" class=\"edge\">\n<title>17&#45;&gt;18</title>\n<path fill=\"none\" stroke=\"#000000\" d=\"M1052,-341.8796C1052,-333.6838 1052,-324.9891 1052,-316.5013\"/>\n<polygon fill=\"#000000\" stroke=\"#000000\" points=\"1055.5001,-316.298 1052,-306.2981 1048.5001,-316.2981 1055.5001,-316.298\"/>\n</g>\n<!-- 23 -->\n<g id=\"node24\" class=\"node\">\n<title>23</title>\n<path fill=\"#43a2e6\" stroke=\"#000000\" d=\"M1398.5,-306C1398.5,-306 1227.5,-306 1227.5,-306 1221.5,-306 1215.5,-300 1215.5,-294 1215.5,-294 1215.5,-235 1215.5,-235 1215.5,-229 1221.5,-223 1227.5,-223 1227.5,-223 1398.5,-223 1398.5,-223 1404.5,-223 1410.5,-229 1410.5,-235 1410.5,-235 1410.5,-294 1410.5,-294 1410.5,-300 1404.5,-306 1398.5,-306\"/>\n<text text-anchor=\"start\" x=\"1223.5\" y=\"-290.8\" font-family=\"Helvetica,sans-Serif\" font-size=\"14.00\" fill=\"#000000\">AnnualIncome ≤ 1675000.0</text>\n<text text-anchor=\"start\" x=\"1262\" y=\"-275.8\" font-family=\"Helvetica,sans-Serif\" font-size=\"14.00\" fill=\"#000000\">entropy = 0.278</text>\n<text text-anchor=\"start\" x=\"1265\" y=\"-260.8\" font-family=\"Helvetica,sans-Serif\" font-size=\"14.00\" fill=\"#000000\">samples = 125</text>\n<text text-anchor=\"start\" x=\"1263\" y=\"-245.8\" font-family=\"Helvetica,sans-Serif\" font-size=\"14.00\" fill=\"#000000\">value = [6, 119]</text>\n<text text-anchor=\"start\" x=\"1285.5\" y=\"-230.8\" font-family=\"Helvetica,sans-Serif\" font-size=\"14.00\" fill=\"#000000\">class = r</text>\n</g>\n<!-- 17&#45;&gt;23 -->\n<g id=\"edge23\" class=\"edge\">\n<title>17&#45;&gt;23</title>\n<path fill=\"none\" stroke=\"#000000\" d=\"M1143.2851,-341.8796C1165.6369,-331.6886 1189.6806,-320.7261 1212.4401,-310.3492\"/>\n<polygon fill=\"#000000\" stroke=\"#000000\" points=\"1214.1195,-313.4301 1221.7664,-306.0969 1211.2155,-307.0609 1214.1195,-313.4301\"/>\n</g>\n<!-- 19 -->\n<g id=\"node20\" class=\"node\">\n<title>19</title>\n<path fill=\"#47a4e7\" stroke=\"#000000\" d=\"M1063.5,-187C1063.5,-187 892.5,-187 892.5,-187 886.5,-187 880.5,-181 880.5,-175 880.5,-175 880.5,-116 880.5,-116 880.5,-110 886.5,-104 892.5,-104 892.5,-104 1063.5,-104 1063.5,-104 1069.5,-104 1075.5,-110 1075.5,-116 1075.5,-116 1075.5,-175 1075.5,-175 1075.5,-181 1069.5,-187 1063.5,-187\"/>\n<text text-anchor=\"start\" x=\"888.5\" y=\"-171.8\" font-family=\"Helvetica,sans-Serif\" font-size=\"14.00\" fill=\"#000000\">AnnualIncome ≤ 1375000.0</text>\n<text text-anchor=\"start\" x=\"927\" y=\"-156.8\" font-family=\"Helvetica,sans-Serif\" font-size=\"14.00\" fill=\"#000000\">entropy = 0.351</text>\n<text text-anchor=\"start\" x=\"930\" y=\"-141.8\" font-family=\"Helvetica,sans-Serif\" font-size=\"14.00\" fill=\"#000000\">samples = 106</text>\n<text text-anchor=\"start\" x=\"932.5\" y=\"-126.8\" font-family=\"Helvetica,sans-Serif\" font-size=\"14.00\" fill=\"#000000\">value = [7, 99]</text>\n<text text-anchor=\"start\" x=\"950.5\" y=\"-111.8\" font-family=\"Helvetica,sans-Serif\" font-size=\"14.00\" fill=\"#000000\">class = r</text>\n</g>\n<!-- 18&#45;&gt;19 -->\n<g id=\"edge19\" class=\"edge\">\n<title>18&#45;&gt;19</title>\n<path fill=\"none\" stroke=\"#000000\" d=\"M1026.1184,-222.8796C1020.6858,-214.1434 1014.9008,-204.8404 1009.2947,-195.8253\"/>\n<polygon fill=\"#000000\" stroke=\"#000000\" points=\"1012.2451,-193.9418 1003.9921,-187.2981 1006.3007,-197.6383 1012.2451,-193.9418\"/>\n</g>\n<!-- 22 -->\n<g id=\"node23\" class=\"node\">\n<title>22</title>\n<path fill=\"#62b1ea\" stroke=\"#000000\" d=\"M1200,-179.5C1200,-179.5 1106,-179.5 1106,-179.5 1100,-179.5 1094,-173.5 1094,-167.5 1094,-167.5 1094,-123.5 1094,-123.5 1094,-117.5 1100,-111.5 1106,-111.5 1106,-111.5 1200,-111.5 1200,-111.5 1206,-111.5 1212,-117.5 1212,-123.5 1212,-123.5 1212,-167.5 1212,-167.5 1212,-173.5 1206,-179.5 1200,-179.5\"/>\n<text text-anchor=\"start\" x=\"1102\" y=\"-164.3\" font-family=\"Helvetica,sans-Serif\" font-size=\"14.00\" fill=\"#000000\">entropy = 0.661</text>\n<text text-anchor=\"start\" x=\"1109\" y=\"-149.3\" font-family=\"Helvetica,sans-Serif\" font-size=\"14.00\" fill=\"#000000\">samples = 35</text>\n<text text-anchor=\"start\" x=\"1107.5\" y=\"-134.3\" font-family=\"Helvetica,sans-Serif\" font-size=\"14.00\" fill=\"#000000\">value = [6, 29]</text>\n<text text-anchor=\"start\" x=\"1125.5\" y=\"-119.3\" font-family=\"Helvetica,sans-Serif\" font-size=\"14.00\" fill=\"#000000\">class = r</text>\n</g>\n<!-- 18&#45;&gt;22 -->\n<g id=\"edge22\" class=\"edge\">\n<title>18&#45;&gt;22</title>\n<path fill=\"none\" stroke=\"#000000\" d=\"M1087.3249,-222.8796C1097.031,-211.4436 1107.5616,-199.0363 1117.2893,-187.575\"/>\n<polygon fill=\"#000000\" stroke=\"#000000\" points=\"1120.0731,-189.7039 1123.8756,-179.8149 1114.7362,-185.1743 1120.0731,-189.7039\"/>\n</g>\n<!-- 20 -->\n<g id=\"node21\" class=\"node\">\n<title>20</title>\n<path fill=\"#399de5\" stroke=\"#000000\" d=\"M953.5,-68C953.5,-68 870.5,-68 870.5,-68 864.5,-68 858.5,-62 858.5,-56 858.5,-56 858.5,-12 858.5,-12 858.5,-6 864.5,0 870.5,0 870.5,0 953.5,0 953.5,0 959.5,0 965.5,-6 965.5,-12 965.5,-12 965.5,-56 965.5,-56 965.5,-62 959.5,-68 953.5,-68\"/>\n<text text-anchor=\"start\" x=\"869.5\" y=\"-52.8\" font-family=\"Helvetica,sans-Serif\" font-size=\"14.00\" fill=\"#000000\">entropy = 0.0</text>\n<text text-anchor=\"start\" x=\"868\" y=\"-37.8\" font-family=\"Helvetica,sans-Serif\" font-size=\"14.00\" fill=\"#000000\">samples = 27</text>\n<text text-anchor=\"start\" x=\"866.5\" y=\"-22.8\" font-family=\"Helvetica,sans-Serif\" font-size=\"14.00\" fill=\"#000000\">value = [0, 27]</text>\n<text text-anchor=\"start\" x=\"884.5\" y=\"-7.8\" font-family=\"Helvetica,sans-Serif\" font-size=\"14.00\" fill=\"#000000\">class = r</text>\n</g>\n<!-- 19&#45;&gt;20 -->\n<g id=\"edge20\" class=\"edge\">\n<title>19&#45;&gt;20</title>\n<path fill=\"none\" stroke=\"#000000\" d=\"M953.424,-103.9815C948.2014,-95.1585 942.6771,-85.8258 937.4237,-76.9506\"/>\n<polygon fill=\"#000000\" stroke=\"#000000\" points=\"940.3874,-75.0863 932.2816,-68.2637 934.3636,-78.652 940.3874,-75.0863\"/>\n</g>\n<!-- 21 -->\n<g id=\"node22\" class=\"node\">\n<title>21</title>\n<path fill=\"#4ca7e8\" stroke=\"#000000\" d=\"M1090,-68C1090,-68 996,-68 996,-68 990,-68 984,-62 984,-56 984,-56 984,-12 984,-12 984,-6 990,0 996,0 996,0 1090,0 1090,0 1096,0 1102,-6 1102,-12 1102,-12 1102,-56 1102,-56 1102,-62 1096,-68 1090,-68\"/>\n<text text-anchor=\"start\" x=\"992\" y=\"-52.8\" font-family=\"Helvetica,sans-Serif\" font-size=\"14.00\" fill=\"#000000\">entropy = 0.432</text>\n<text text-anchor=\"start\" x=\"999\" y=\"-37.8\" font-family=\"Helvetica,sans-Serif\" font-size=\"14.00\" fill=\"#000000\">samples = 79</text>\n<text text-anchor=\"start\" x=\"997.5\" y=\"-22.8\" font-family=\"Helvetica,sans-Serif\" font-size=\"14.00\" fill=\"#000000\">value = [7, 72]</text>\n<text text-anchor=\"start\" x=\"1015.5\" y=\"-7.8\" font-family=\"Helvetica,sans-Serif\" font-size=\"14.00\" fill=\"#000000\">class = r</text>\n</g>\n<!-- 19&#45;&gt;21 -->\n<g id=\"edge21\" class=\"edge\">\n<title>19&#45;&gt;21</title>\n<path fill=\"none\" stroke=\"#000000\" d=\"M1002.2036,-103.9815C1007.3471,-95.1585 1012.7877,-85.8258 1017.9616,-76.9506\"/>\n<polygon fill=\"#000000\" stroke=\"#000000\" points=\"1021.013,-78.6656 1023.0257,-68.2637 1014.9656,-75.1402 1021.013,-78.6656\"/>\n</g>\n<!-- 24 -->\n<g id=\"node25\" class=\"node\">\n<title>24</title>\n<path fill=\"#3d9fe6\" stroke=\"#000000\" d=\"M1383.5,-187C1383.5,-187 1242.5,-187 1242.5,-187 1236.5,-187 1230.5,-181 1230.5,-175 1230.5,-175 1230.5,-116 1230.5,-116 1230.5,-110 1236.5,-104 1242.5,-104 1242.5,-104 1383.5,-104 1383.5,-104 1389.5,-104 1395.5,-110 1395.5,-116 1395.5,-116 1395.5,-175 1395.5,-175 1395.5,-181 1389.5,-187 1383.5,-187\"/>\n<text text-anchor=\"start\" x=\"1238.5\" y=\"-171.8\" font-family=\"Helvetica,sans-Serif\" font-size=\"14.00\" fill=\"#000000\">EmploymentType ≤ 0.5</text>\n<text text-anchor=\"start\" x=\"1262\" y=\"-156.8\" font-family=\"Helvetica,sans-Serif\" font-size=\"14.00\" fill=\"#000000\">entropy = 0.145</text>\n<text text-anchor=\"start\" x=\"1269\" y=\"-141.8\" font-family=\"Helvetica,sans-Serif\" font-size=\"14.00\" fill=\"#000000\">samples = 97</text>\n<text text-anchor=\"start\" x=\"1267.5\" y=\"-126.8\" font-family=\"Helvetica,sans-Serif\" font-size=\"14.00\" fill=\"#000000\">value = [2, 95]</text>\n<text text-anchor=\"start\" x=\"1285.5\" y=\"-111.8\" font-family=\"Helvetica,sans-Serif\" font-size=\"14.00\" fill=\"#000000\">class = r</text>\n</g>\n<!-- 23&#45;&gt;24 -->\n<g id=\"edge24\" class=\"edge\">\n<title>23&#45;&gt;24</title>\n<path fill=\"none\" stroke=\"#000000\" d=\"M1313,-222.8796C1313,-214.6838 1313,-205.9891 1313,-197.5013\"/>\n<polygon fill=\"#000000\" stroke=\"#000000\" points=\"1316.5001,-197.298 1313,-187.2981 1309.5001,-197.2981 1316.5001,-197.298\"/>\n</g>\n<!-- 27 -->\n<g id=\"node28\" class=\"node\">\n<title>27</title>\n<path fill=\"#5aade9\" stroke=\"#000000\" d=\"M1520,-179.5C1520,-179.5 1426,-179.5 1426,-179.5 1420,-179.5 1414,-173.5 1414,-167.5 1414,-167.5 1414,-123.5 1414,-123.5 1414,-117.5 1420,-111.5 1426,-111.5 1426,-111.5 1520,-111.5 1520,-111.5 1526,-111.5 1532,-117.5 1532,-123.5 1532,-123.5 1532,-167.5 1532,-167.5 1532,-173.5 1526,-179.5 1520,-179.5\"/>\n<text text-anchor=\"start\" x=\"1422\" y=\"-164.3\" font-family=\"Helvetica,sans-Serif\" font-size=\"14.00\" fill=\"#000000\">entropy = 0.592</text>\n<text text-anchor=\"start\" x=\"1429\" y=\"-149.3\" font-family=\"Helvetica,sans-Serif\" font-size=\"14.00\" fill=\"#000000\">samples = 28</text>\n<text text-anchor=\"start\" x=\"1427.5\" y=\"-134.3\" font-family=\"Helvetica,sans-Serif\" font-size=\"14.00\" fill=\"#000000\">value = [4, 24]</text>\n<text text-anchor=\"start\" x=\"1445.5\" y=\"-119.3\" font-family=\"Helvetica,sans-Serif\" font-size=\"14.00\" fill=\"#000000\">class = r</text>\n</g>\n<!-- 23&#45;&gt;27 -->\n<g id=\"edge27\" class=\"edge\">\n<title>23&#45;&gt;27</title>\n<path fill=\"none\" stroke=\"#000000\" d=\"M1368.9602,-222.8796C1385.1522,-210.8368 1402.7927,-197.7167 1418.8708,-185.7586\"/>\n<polygon fill=\"#000000\" stroke=\"#000000\" points=\"1421.185,-188.3993 1427.1203,-179.623 1417.0075,-182.7825 1421.185,-188.3993\"/>\n</g>\n<!-- 25 -->\n<g id=\"node26\" class=\"node\">\n<title>25</title>\n<path fill=\"#3b9ee5\" stroke=\"#000000\" d=\"M1292,-68C1292,-68 1198,-68 1198,-68 1192,-68 1186,-62 1186,-56 1186,-56 1186,-12 1186,-12 1186,-6 1192,0 1198,0 1198,0 1292,0 1292,0 1298,0 1304,-6 1304,-12 1304,-12 1304,-56 1304,-56 1304,-62 1298,-68 1292,-68\"/>\n<text text-anchor=\"start\" x=\"1194\" y=\"-52.8\" font-family=\"Helvetica,sans-Serif\" font-size=\"14.00\" fill=\"#000000\">entropy = 0.094</text>\n<text text-anchor=\"start\" x=\"1201\" y=\"-37.8\" font-family=\"Helvetica,sans-Serif\" font-size=\"14.00\" fill=\"#000000\">samples = 83</text>\n<text text-anchor=\"start\" x=\"1199.5\" y=\"-22.8\" font-family=\"Helvetica,sans-Serif\" font-size=\"14.00\" fill=\"#000000\">value = [1, 82]</text>\n<text text-anchor=\"start\" x=\"1217.5\" y=\"-7.8\" font-family=\"Helvetica,sans-Serif\" font-size=\"14.00\" fill=\"#000000\">class = r</text>\n</g>\n<!-- 24&#45;&gt;25 -->\n<g id=\"edge25\" class=\"edge\">\n<title>24&#45;&gt;25</title>\n<path fill=\"none\" stroke=\"#000000\" d=\"M1287.6793,-103.9815C1282.2984,-95.1585 1276.6068,-85.8258 1271.1941,-76.9506\"/>\n<polygon fill=\"#000000\" stroke=\"#000000\" points=\"1274.0912,-74.9789 1265.8962,-68.2637 1268.1149,-78.6236 1274.0912,-74.9789\"/>\n</g>\n<!-- 26 -->\n<g id=\"node27\" class=\"node\">\n<title>26</title>\n<path fill=\"#48a5e7\" stroke=\"#000000\" d=\"M1428,-68C1428,-68 1334,-68 1334,-68 1328,-68 1322,-62 1322,-56 1322,-56 1322,-12 1322,-12 1322,-6 1328,0 1334,0 1334,0 1428,0 1428,0 1434,0 1440,-6 1440,-12 1440,-12 1440,-56 1440,-56 1440,-62 1434,-68 1428,-68\"/>\n<text text-anchor=\"start\" x=\"1330\" y=\"-52.8\" font-family=\"Helvetica,sans-Serif\" font-size=\"14.00\" fill=\"#000000\">entropy = 0.371</text>\n<text text-anchor=\"start\" x=\"1337\" y=\"-37.8\" font-family=\"Helvetica,sans-Serif\" font-size=\"14.00\" fill=\"#000000\">samples = 14</text>\n<text text-anchor=\"start\" x=\"1335.5\" y=\"-22.8\" font-family=\"Helvetica,sans-Serif\" font-size=\"14.00\" fill=\"#000000\">value = [1, 13]</text>\n<text text-anchor=\"start\" x=\"1353.5\" y=\"-7.8\" font-family=\"Helvetica,sans-Serif\" font-size=\"14.00\" fill=\"#000000\">class = r</text>\n</g>\n<!-- 24&#45;&gt;26 -->\n<g id=\"edge26\" class=\"edge\">\n<title>24&#45;&gt;26</title>\n<path fill=\"none\" stroke=\"#000000\" d=\"M1338.3207,-103.9815C1343.7016,-95.1585 1349.3932,-85.8258 1354.8059,-76.9506\"/>\n<polygon fill=\"#000000\" stroke=\"#000000\" points=\"1357.8851,-78.6236 1360.1038,-68.2637 1351.9088,-74.9789 1357.8851,-78.6236\"/>\n</g>\n</g>\n</svg>\n"
          },
          "metadata": {},
          "execution_count": 84
        }
      ]
    },
    {
      "cell_type": "markdown",
      "source": [
        "## 2. Decision Tree with Gini"
      ],
      "metadata": {
        "id": "qEr00Sflz8RO"
      },
      "id": "qEr00Sflz8RO"
    },
    {
      "cell_type": "code",
      "source": [
        "dtree.gini=DecisionTreeClassifier(criterion='gini', max_depth=5, random_state=0, min_samples_leaf=10, min_samples_split=10)"
      ],
      "metadata": {
        "id": "1g6OCCXW_V0m"
      },
      "id": "1g6OCCXW_V0m",
      "execution_count": null,
      "outputs": []
    },
    {
      "cell_type": "code",
      "source": [
        "dtree.gini.fit(X_train,y_train)"
      ],
      "metadata": {
        "id": "2jpM_UZ3_sKk",
        "colab": {
          "base_uri": "https://localhost:8080/"
        },
        "outputId": "b0759068-d302-4093-de02-24a39ce160c0"
      },
      "id": "2jpM_UZ3_sKk",
      "execution_count": null,
      "outputs": [
        {
          "output_type": "execute_result",
          "data": {
            "text/plain": [
              "DecisionTreeClassifier(max_depth=5, min_samples_leaf=10, min_samples_split=10,\n",
              "                       random_state=0)"
            ]
          },
          "metadata": {},
          "execution_count": 86
        }
      ]
    },
    {
      "cell_type": "code",
      "source": [
        "y_pred_gini=dtree.gini.predict(X_test)"
      ],
      "metadata": {
        "id": "QyAJme-Y_7LI"
      },
      "id": "QyAJme-Y_7LI",
      "execution_count": null,
      "outputs": []
    },
    {
      "cell_type": "code",
      "source": [
        "Score_gini=accuracy_score(y_test,y_pred_gini)\n",
        "#print(\"Accuracy: %0.2f\" % (round(Score_gini*100,2)))\n",
        "print('Accuracy:', Score_gini*100)"
      ],
      "metadata": {
        "id": "5EubKsEBABMa",
        "colab": {
          "base_uri": "https://localhost:8080/"
        },
        "outputId": "c1aa5f0e-d5e0-42ca-b504-c197c0ce519f"
      },
      "id": "5EubKsEBABMa",
      "execution_count": null,
      "outputs": [
        {
          "output_type": "stream",
          "name": "stdout",
          "text": [
            "Accuracy: 80.15075376884423\n"
          ]
        }
      ]
    },
    {
      "cell_type": "code",
      "source": [
        "print(metrics.confusion_matrix(y_test,y_pred_gini,labels = [1,0]))\n",
        "print('-----------------------------------------')\n",
        "tp, fn, fp, tn = confusion_matrix(y_test,y_pred_gini,labels=[1,0]).ravel()\n",
        "print('TP:', tp)\n",
        "print('FN:', fn)\n",
        "print('FP:', fp)\n",
        "print('TN:', tn)"
      ],
      "metadata": {
        "id": "Kx6_g42XAH96",
        "colab": {
          "base_uri": "https://localhost:8080/"
        },
        "outputId": "6ddaf44e-8515-453d-d116-5bd56718b899"
      },
      "id": "Kx6_g42XAH96",
      "execution_count": null,
      "outputs": [
        {
          "output_type": "stream",
          "name": "stdout",
          "text": [
            "[[ 63  78]\n",
            " [  1 256]]\n",
            "-----------------------------------------\n",
            "TP: 63\n",
            "FN: 78\n",
            "FP: 1\n",
            "TN: 256\n"
          ]
        }
      ]
    },
    {
      "cell_type": "code",
      "source": [
        "print(classification_report(y_test, y_pred_gini))"
      ],
      "metadata": {
        "id": "Fb8wGQ3HAPlu",
        "colab": {
          "base_uri": "https://localhost:8080/"
        },
        "outputId": "f8905346-1d59-4ee7-c2c3-5a99c625b528"
      },
      "id": "Fb8wGQ3HAPlu",
      "execution_count": null,
      "outputs": [
        {
          "output_type": "stream",
          "name": "stdout",
          "text": [
            "              precision    recall  f1-score   support\n",
            "\n",
            "           0       0.77      1.00      0.87       257\n",
            "           1       0.98      0.45      0.61       141\n",
            "\n",
            "    accuracy                           0.80       398\n",
            "   macro avg       0.88      0.72      0.74       398\n",
            "weighted avg       0.84      0.80      0.78       398\n",
            "\n"
          ]
        }
      ]
    },
    {
      "cell_type": "code",
      "source": [
        "#@title Default title text\n",
        "dot_data = tree.export_graphviz(dtree.gini,\n",
        "                  feature_names=X_train.columns,\n",
        "                  class_names='TravelInsurance',\n",
        "                  filled=True, rounded=True,\n",
        "                  special_characters=True,\n",
        "                   out_file=None,\n",
        "                           )\n",
        "graph = graphviz.Source(dot_data)\n",
        "graph"
      ],
      "metadata": {
        "colab": {
          "base_uri": "https://localhost:8080/",
          "height": 936
        },
        "id": "noIbKJvtSUAj",
        "outputId": "bbe56bc5-592c-442d-d416-5ec388a38b1a"
      },
      "id": "noIbKJvtSUAj",
      "execution_count": null,
      "outputs": [
        {
          "output_type": "execute_result",
          "data": {
            "text/plain": [
              "<graphviz.files.Source at 0x7f9f83f27e10>"
            ],
            "image/svg+xml": "<?xml version=\"1.0\" encoding=\"UTF-8\" standalone=\"no\"?>\n<!DOCTYPE svg PUBLIC \"-//W3C//DTD SVG 1.1//EN\"\n \"http://www.w3.org/Graphics/SVG/1.1/DTD/svg11.dtd\">\n<!-- Generated by graphviz version 2.40.1 (20161225.0304)\n -->\n<!-- Title: Tree Pages: 1 -->\n<svg width=\"1435pt\" height=\"671pt\"\n viewBox=\"0.00 0.00 1435.00 671.00\" xmlns=\"http://www.w3.org/2000/svg\" xmlns:xlink=\"http://www.w3.org/1999/xlink\">\n<g id=\"graph0\" class=\"graph\" transform=\"scale(1 1) rotate(0) translate(4 667)\">\n<title>Tree</title>\n<polygon fill=\"#ffffff\" stroke=\"transparent\" points=\"-4,4 -4,-667 1431,-667 1431,4 -4,4\"/>\n<!-- 0 -->\n<g id=\"node1\" class=\"node\">\n<title>0</title>\n<path fill=\"#f4c7a7\" stroke=\"#000000\" d=\"M984,-663C984,-663 813,-663 813,-663 807,-663 801,-657 801,-651 801,-651 801,-592 801,-592 801,-586 807,-580 813,-580 813,-580 984,-580 984,-580 990,-580 996,-586 996,-592 996,-592 996,-651 996,-651 996,-657 990,-663 984,-663\"/>\n<text text-anchor=\"start\" x=\"809\" y=\"-647.8\" font-family=\"Helvetica,sans-Serif\" font-size=\"14.00\" fill=\"#000000\">AnnualIncome ≤ 1325000.0</text>\n<text text-anchor=\"start\" x=\"865\" y=\"-632.8\" font-family=\"Helvetica,sans-Serif\" font-size=\"14.00\" fill=\"#000000\">gini = 0.46</text>\n<text text-anchor=\"start\" x=\"846.5\" y=\"-617.8\" font-family=\"Helvetica,sans-Serif\" font-size=\"14.00\" fill=\"#000000\">samples = 1589</text>\n<text text-anchor=\"start\" x=\"836.5\" y=\"-602.8\" font-family=\"Helvetica,sans-Serif\" font-size=\"14.00\" fill=\"#000000\">value = [1020, 569]</text>\n<text text-anchor=\"start\" x=\"869\" y=\"-587.8\" font-family=\"Helvetica,sans-Serif\" font-size=\"14.00\" fill=\"#000000\">class = T</text>\n</g>\n<!-- 1 -->\n<g id=\"node2\" class=\"node\">\n<title>1</title>\n<path fill=\"#eda978\" stroke=\"#000000\" d=\"M748,-544C748,-544 585,-544 585,-544 579,-544 573,-538 573,-532 573,-532 573,-473 573,-473 573,-467 579,-461 585,-461 585,-461 748,-461 748,-461 754,-461 760,-467 760,-473 760,-473 760,-532 760,-532 760,-538 754,-544 748,-544\"/>\n<text text-anchor=\"start\" x=\"581\" y=\"-528.8\" font-family=\"Helvetica,sans-Serif\" font-size=\"14.00\" fill=\"#000000\">AnnualIncome ≤ 425000.0</text>\n<text text-anchor=\"start\" x=\"628.5\" y=\"-513.8\" font-family=\"Helvetica,sans-Serif\" font-size=\"14.00\" fill=\"#000000\">gini = 0.365</text>\n<text text-anchor=\"start\" x=\"614.5\" y=\"-498.8\" font-family=\"Helvetica,sans-Serif\" font-size=\"14.00\" fill=\"#000000\">samples = 1306</text>\n<text text-anchor=\"start\" x=\"608.5\" y=\"-483.8\" font-family=\"Helvetica,sans-Serif\" font-size=\"14.00\" fill=\"#000000\">value = [992, 314]</text>\n<text text-anchor=\"start\" x=\"637\" y=\"-468.8\" font-family=\"Helvetica,sans-Serif\" font-size=\"14.00\" fill=\"#000000\">class = T</text>\n</g>\n<!-- 0&#45;&gt;1 -->\n<g id=\"edge1\" class=\"edge\">\n<title>0&#45;&gt;1</title>\n<path fill=\"none\" stroke=\"#000000\" d=\"M817.3577,-579.8796C797.7544,-569.8244 776.6869,-559.0183 756.6964,-548.7645\"/>\n<polygon fill=\"#000000\" stroke=\"#000000\" points=\"758.0917,-545.5467 747.5965,-544.0969 754.8969,-551.7751 758.0917,-545.5467\"/>\n<text text-anchor=\"middle\" x=\"755.2577\" y=\"-564.1941\" font-family=\"Helvetica,sans-Serif\" font-size=\"14.00\" fill=\"#000000\">True</text>\n</g>\n<!-- 20 -->\n<g id=\"node21\" class=\"node\">\n<title>20</title>\n<path fill=\"#4fa8e8\" stroke=\"#000000\" d=\"M1174,-544C1174,-544 1003,-544 1003,-544 997,-544 991,-538 991,-532 991,-532 991,-473 991,-473 991,-467 997,-461 1003,-461 1003,-461 1174,-461 1174,-461 1180,-461 1186,-467 1186,-473 1186,-473 1186,-532 1186,-532 1186,-538 1180,-544 1174,-544\"/>\n<text text-anchor=\"start\" x=\"999\" y=\"-528.8\" font-family=\"Helvetica,sans-Serif\" font-size=\"14.00\" fill=\"#000000\">AnnualIncome ≤ 1725000.0</text>\n<text text-anchor=\"start\" x=\"1050.5\" y=\"-513.8\" font-family=\"Helvetica,sans-Serif\" font-size=\"14.00\" fill=\"#000000\">gini = 0.178</text>\n<text text-anchor=\"start\" x=\"1040.5\" y=\"-498.8\" font-family=\"Helvetica,sans-Serif\" font-size=\"14.00\" fill=\"#000000\">samples = 283</text>\n<text text-anchor=\"start\" x=\"1034.5\" y=\"-483.8\" font-family=\"Helvetica,sans-Serif\" font-size=\"14.00\" fill=\"#000000\">value = [28, 255]</text>\n<text text-anchor=\"start\" x=\"1061\" y=\"-468.8\" font-family=\"Helvetica,sans-Serif\" font-size=\"14.00\" fill=\"#000000\">class = r</text>\n</g>\n<!-- 0&#45;&gt;20 -->\n<g id=\"edge20\" class=\"edge\">\n<title>0&#45;&gt;20</title>\n<path fill=\"none\" stroke=\"#000000\" d=\"M964.9528,-579.8796C980.5733,-570.0962 997.329,-559.6019 1013.3029,-549.5971\"/>\n<polygon fill=\"#000000\" stroke=\"#000000\" points=\"1015.4676,-552.3712 1022.0847,-544.0969 1011.7519,-546.4387 1015.4676,-552.3712\"/>\n<text text-anchor=\"middle\" x=\"1016.4863\" y=\"-564.762\" font-family=\"Helvetica,sans-Serif\" font-size=\"14.00\" fill=\"#000000\">False</text>\n</g>\n<!-- 2 -->\n<g id=\"node3\" class=\"node\">\n<title>2</title>\n<path fill=\"#e88e4d\" stroke=\"#000000\" d=\"M518,-425C518,-425 355,-425 355,-425 349,-425 343,-419 343,-413 343,-413 343,-354 343,-354 343,-348 349,-342 355,-342 355,-342 518,-342 518,-342 524,-342 530,-348 530,-354 530,-354 530,-413 530,-413 530,-419 524,-425 518,-425\"/>\n<text text-anchor=\"start\" x=\"351\" y=\"-409.8\" font-family=\"Helvetica,sans-Serif\" font-size=\"14.00\" fill=\"#000000\">AnnualIncome ≤ 375000.0</text>\n<text text-anchor=\"start\" x=\"398.5\" y=\"-394.8\" font-family=\"Helvetica,sans-Serif\" font-size=\"14.00\" fill=\"#000000\">gini = 0.168</text>\n<text text-anchor=\"start\" x=\"388.5\" y=\"-379.8\" font-family=\"Helvetica,sans-Serif\" font-size=\"14.00\" fill=\"#000000\">samples = 162</text>\n<text text-anchor=\"start\" x=\"382.5\" y=\"-364.8\" font-family=\"Helvetica,sans-Serif\" font-size=\"14.00\" fill=\"#000000\">value = [147, 15]</text>\n<text text-anchor=\"start\" x=\"407\" y=\"-349.8\" font-family=\"Helvetica,sans-Serif\" font-size=\"14.00\" fill=\"#000000\">class = T</text>\n</g>\n<!-- 1&#45;&gt;2 -->\n<g id=\"edge2\" class=\"edge\">\n<title>1&#45;&gt;2</title>\n<path fill=\"none\" stroke=\"#000000\" d=\"M586.0572,-460.8796C566.6229,-450.8244 545.737,-440.0183 525.9189,-429.7645\"/>\n<polygon fill=\"#000000\" stroke=\"#000000\" points=\"527.3874,-426.5837 516.8974,-425.0969 524.1707,-432.8008 527.3874,-426.5837\"/>\n</g>\n<!-- 9 -->\n<g id=\"node10\" class=\"node\">\n<title>9</title>\n<path fill=\"#eeae7f\" stroke=\"#000000\" d=\"M752,-425C752,-425 581,-425 581,-425 575,-425 569,-419 569,-413 569,-413 569,-354 569,-354 569,-348 575,-342 581,-342 581,-342 752,-342 752,-342 758,-342 764,-348 764,-354 764,-354 764,-413 764,-413 764,-419 758,-425 752,-425\"/>\n<text text-anchor=\"start\" x=\"577\" y=\"-409.8\" font-family=\"Helvetica,sans-Serif\" font-size=\"14.00\" fill=\"#000000\">AnnualIncome ≤ 1275000.0</text>\n<text text-anchor=\"start\" x=\"628.5\" y=\"-394.8\" font-family=\"Helvetica,sans-Serif\" font-size=\"14.00\" fill=\"#000000\">gini = 0.386</text>\n<text text-anchor=\"start\" x=\"614.5\" y=\"-379.8\" font-family=\"Helvetica,sans-Serif\" font-size=\"14.00\" fill=\"#000000\">samples = 1144</text>\n<text text-anchor=\"start\" x=\"608.5\" y=\"-364.8\" font-family=\"Helvetica,sans-Serif\" font-size=\"14.00\" fill=\"#000000\">value = [845, 299]</text>\n<text text-anchor=\"start\" x=\"637\" y=\"-349.8\" font-family=\"Helvetica,sans-Serif\" font-size=\"14.00\" fill=\"#000000\">class = T</text>\n</g>\n<!-- 1&#45;&gt;9 -->\n<g id=\"edge9\" class=\"edge\">\n<title>1&#45;&gt;9</title>\n<path fill=\"none\" stroke=\"#000000\" d=\"M666.5,-460.8796C666.5,-452.6838 666.5,-443.9891 666.5,-435.5013\"/>\n<polygon fill=\"#000000\" stroke=\"#000000\" points=\"670.0001,-435.298 666.5,-425.2981 663.0001,-435.2981 670.0001,-435.298\"/>\n</g>\n<!-- 3 -->\n<g id=\"node4\" class=\"node\">\n<title>3</title>\n<path fill=\"#e78845\" stroke=\"#000000\" d=\"M289,-306C289,-306 126,-306 126,-306 120,-306 114,-300 114,-294 114,-294 114,-235 114,-235 114,-229 120,-223 126,-223 126,-223 289,-223 289,-223 295,-223 301,-229 301,-235 301,-235 301,-294 301,-294 301,-300 295,-306 289,-306\"/>\n<text text-anchor=\"start\" x=\"122\" y=\"-290.8\" font-family=\"Helvetica,sans-Serif\" font-size=\"14.00\" fill=\"#000000\">AnnualIncome ≤ 325000.0</text>\n<text text-anchor=\"start\" x=\"169.5\" y=\"-275.8\" font-family=\"Helvetica,sans-Serif\" font-size=\"14.00\" fill=\"#000000\">gini = 0.105</text>\n<text text-anchor=\"start\" x=\"159.5\" y=\"-260.8\" font-family=\"Helvetica,sans-Serif\" font-size=\"14.00\" fill=\"#000000\">samples = 108</text>\n<text text-anchor=\"start\" x=\"157.5\" y=\"-245.8\" font-family=\"Helvetica,sans-Serif\" font-size=\"14.00\" fill=\"#000000\">value = [102, 6]</text>\n<text text-anchor=\"start\" x=\"178\" y=\"-230.8\" font-family=\"Helvetica,sans-Serif\" font-size=\"14.00\" fill=\"#000000\">class = T</text>\n</g>\n<!-- 2&#45;&gt;3 -->\n<g id=\"edge3\" class=\"edge\">\n<title>2&#45;&gt;3</title>\n<path fill=\"none\" stroke=\"#000000\" d=\"M356.4069,-341.8796C337.0571,-331.8244 316.2621,-321.0183 296.5301,-310.7645\"/>\n<polygon fill=\"#000000\" stroke=\"#000000\" points=\"298.0352,-307.6024 287.5479,-306.0969 294.8074,-313.8138 298.0352,-307.6024\"/>\n</g>\n<!-- 8 -->\n<g id=\"node9\" class=\"node\">\n<title>8</title>\n<path fill=\"#ea9a61\" stroke=\"#000000\" d=\"M478,-298.5C478,-298.5 395,-298.5 395,-298.5 389,-298.5 383,-292.5 383,-286.5 383,-286.5 383,-242.5 383,-242.5 383,-236.5 389,-230.5 395,-230.5 395,-230.5 478,-230.5 478,-230.5 484,-230.5 490,-236.5 490,-242.5 490,-242.5 490,-286.5 490,-286.5 490,-292.5 484,-298.5 478,-298.5\"/>\n<text text-anchor=\"start\" x=\"398.5\" y=\"-283.3\" font-family=\"Helvetica,sans-Serif\" font-size=\"14.00\" fill=\"#000000\">gini = 0.278</text>\n<text text-anchor=\"start\" x=\"392.5\" y=\"-268.3\" font-family=\"Helvetica,sans-Serif\" font-size=\"14.00\" fill=\"#000000\">samples = 54</text>\n<text text-anchor=\"start\" x=\"391\" y=\"-253.3\" font-family=\"Helvetica,sans-Serif\" font-size=\"14.00\" fill=\"#000000\">value = [45, 9]</text>\n<text text-anchor=\"start\" x=\"407\" y=\"-238.3\" font-family=\"Helvetica,sans-Serif\" font-size=\"14.00\" fill=\"#000000\">class = T</text>\n</g>\n<!-- 2&#45;&gt;8 -->\n<g id=\"edge8\" class=\"edge\">\n<title>2&#45;&gt;8</title>\n<path fill=\"none\" stroke=\"#000000\" d=\"M436.5,-341.8796C436.5,-331.2134 436.5,-319.7021 436.5,-308.9015\"/>\n<polygon fill=\"#000000\" stroke=\"#000000\" points=\"440.0001,-308.8149 436.5,-298.8149 433.0001,-308.815 440.0001,-308.8149\"/>\n</g>\n<!-- 4 -->\n<g id=\"node5\" class=\"node\">\n<title>4</title>\n<path fill=\"#e78946\" stroke=\"#000000\" d=\"M95,-179.5C95,-179.5 12,-179.5 12,-179.5 6,-179.5 0,-173.5 0,-167.5 0,-167.5 0,-123.5 0,-123.5 0,-117.5 6,-111.5 12,-111.5 12,-111.5 95,-111.5 95,-111.5 101,-111.5 107,-117.5 107,-123.5 107,-123.5 107,-167.5 107,-167.5 107,-173.5 101,-179.5 95,-179.5\"/>\n<text text-anchor=\"start\" x=\"15.5\" y=\"-164.3\" font-family=\"Helvetica,sans-Serif\" font-size=\"14.00\" fill=\"#000000\">gini = 0.117</text>\n<text text-anchor=\"start\" x=\"9.5\" y=\"-149.3\" font-family=\"Helvetica,sans-Serif\" font-size=\"14.00\" fill=\"#000000\">samples = 64</text>\n<text text-anchor=\"start\" x=\"8\" y=\"-134.3\" font-family=\"Helvetica,sans-Serif\" font-size=\"14.00\" fill=\"#000000\">value = [60, 4]</text>\n<text text-anchor=\"start\" x=\"24\" y=\"-119.3\" font-family=\"Helvetica,sans-Serif\" font-size=\"14.00\" fill=\"#000000\">class = T</text>\n</g>\n<!-- 3&#45;&gt;4 -->\n<g id=\"edge4\" class=\"edge\">\n<title>3&#45;&gt;4</title>\n<path fill=\"none\" stroke=\"#000000\" d=\"M153.6383,-222.8796C138.2696,-211.0038 121.5453,-198.0804 106.2441,-186.2568\"/>\n<polygon fill=\"#000000\" stroke=\"#000000\" points=\"107.9605,-183.1599 97.9076,-179.8149 103.6804,-188.699 107.9605,-183.1599\"/>\n</g>\n<!-- 5 -->\n<g id=\"node6\" class=\"node\">\n<title>5</title>\n<path fill=\"#e68742\" stroke=\"#000000\" d=\"M278,-187C278,-187 137,-187 137,-187 131,-187 125,-181 125,-175 125,-175 125,-116 125,-116 125,-110 131,-104 137,-104 137,-104 278,-104 278,-104 284,-104 290,-110 290,-116 290,-116 290,-175 290,-175 290,-181 284,-187 278,-187\"/>\n<text text-anchor=\"start\" x=\"133\" y=\"-171.8\" font-family=\"Helvetica,sans-Serif\" font-size=\"14.00\" fill=\"#000000\">EmploymentType ≤ 0.5</text>\n<text text-anchor=\"start\" x=\"169.5\" y=\"-156.8\" font-family=\"Helvetica,sans-Serif\" font-size=\"14.00\" fill=\"#000000\">gini = 0.087</text>\n<text text-anchor=\"start\" x=\"163.5\" y=\"-141.8\" font-family=\"Helvetica,sans-Serif\" font-size=\"14.00\" fill=\"#000000\">samples = 44</text>\n<text text-anchor=\"start\" x=\"162\" y=\"-126.8\" font-family=\"Helvetica,sans-Serif\" font-size=\"14.00\" fill=\"#000000\">value = [42, 2]</text>\n<text text-anchor=\"start\" x=\"178\" y=\"-111.8\" font-family=\"Helvetica,sans-Serif\" font-size=\"14.00\" fill=\"#000000\">class = T</text>\n</g>\n<!-- 3&#45;&gt;5 -->\n<g id=\"edge5\" class=\"edge\">\n<title>3&#45;&gt;5</title>\n<path fill=\"none\" stroke=\"#000000\" d=\"M207.5,-222.8796C207.5,-214.6838 207.5,-205.9891 207.5,-197.5013\"/>\n<polygon fill=\"#000000\" stroke=\"#000000\" points=\"211.0001,-197.298 207.5,-187.2981 204.0001,-197.2981 211.0001,-197.298\"/>\n</g>\n<!-- 6 -->\n<g id=\"node7\" class=\"node\">\n<title>6</title>\n<path fill=\"#e78945\" stroke=\"#000000\" d=\"M124,-68C124,-68 41,-68 41,-68 35,-68 29,-62 29,-56 29,-56 29,-12 29,-12 29,-6 35,0 41,0 41,0 124,0 124,0 130,0 136,-6 136,-12 136,-12 136,-56 136,-56 136,-62 130,-68 124,-68\"/>\n<text text-anchor=\"start\" x=\"44.5\" y=\"-52.8\" font-family=\"Helvetica,sans-Serif\" font-size=\"14.00\" fill=\"#000000\">gini = 0.111</text>\n<text text-anchor=\"start\" x=\"38.5\" y=\"-37.8\" font-family=\"Helvetica,sans-Serif\" font-size=\"14.00\" fill=\"#000000\">samples = 17</text>\n<text text-anchor=\"start\" x=\"37\" y=\"-22.8\" font-family=\"Helvetica,sans-Serif\" font-size=\"14.00\" fill=\"#000000\">value = [16, 1]</text>\n<text text-anchor=\"start\" x=\"53\" y=\"-7.8\" font-family=\"Helvetica,sans-Serif\" font-size=\"14.00\" fill=\"#000000\">class = T</text>\n</g>\n<!-- 5&#45;&gt;6 -->\n<g id=\"edge6\" class=\"edge\">\n<title>5&#45;&gt;6</title>\n<path fill=\"none\" stroke=\"#000000\" d=\"M160.9546,-103.9815C150.3421,-94.5151 139.0718,-84.462 128.4829,-75.0168\"/>\n<polygon fill=\"#000000\" stroke=\"#000000\" points=\"130.7046,-72.3084 120.9122,-68.2637 126.0449,-77.5322 130.7046,-72.3084\"/>\n</g>\n<!-- 7 -->\n<g id=\"node8\" class=\"node\">\n<title>7</title>\n<path fill=\"#e68641\" stroke=\"#000000\" d=\"M249,-68C249,-68 166,-68 166,-68 160,-68 154,-62 154,-56 154,-56 154,-12 154,-12 154,-6 160,0 166,0 166,0 249,0 249,0 255,0 261,-6 261,-12 261,-12 261,-56 261,-56 261,-62 255,-68 249,-68\"/>\n<text text-anchor=\"start\" x=\"169.5\" y=\"-52.8\" font-family=\"Helvetica,sans-Serif\" font-size=\"14.00\" fill=\"#000000\">gini = 0.071</text>\n<text text-anchor=\"start\" x=\"163.5\" y=\"-37.8\" font-family=\"Helvetica,sans-Serif\" font-size=\"14.00\" fill=\"#000000\">samples = 27</text>\n<text text-anchor=\"start\" x=\"162\" y=\"-22.8\" font-family=\"Helvetica,sans-Serif\" font-size=\"14.00\" fill=\"#000000\">value = [26, 1]</text>\n<text text-anchor=\"start\" x=\"178\" y=\"-7.8\" font-family=\"Helvetica,sans-Serif\" font-size=\"14.00\" fill=\"#000000\">class = T</text>\n</g>\n<!-- 5&#45;&gt;7 -->\n<g id=\"edge7\" class=\"edge\">\n<title>5&#45;&gt;7</title>\n<path fill=\"none\" stroke=\"#000000\" d=\"M207.5,-103.9815C207.5,-95.618 207.5,-86.7965 207.5,-78.3409\"/>\n<polygon fill=\"#000000\" stroke=\"#000000\" points=\"211.0001,-78.2636 207.5,-68.2637 204.0001,-78.2637 211.0001,-78.2636\"/>\n</g>\n<!-- 10 -->\n<g id=\"node11\" class=\"node\">\n<title>10</title>\n<path fill=\"#eeac7d\" stroke=\"#000000\" d=\"M699,-306C699,-306 558,-306 558,-306 552,-306 546,-300 546,-294 546,-294 546,-235 546,-235 546,-229 552,-223 558,-223 558,-223 699,-223 699,-223 705,-223 711,-229 711,-235 711,-235 711,-294 711,-294 711,-300 705,-306 699,-306\"/>\n<text text-anchor=\"start\" x=\"554\" y=\"-290.8\" font-family=\"Helvetica,sans-Serif\" font-size=\"14.00\" fill=\"#000000\">EmploymentType ≤ 0.5</text>\n<text text-anchor=\"start\" x=\"590.5\" y=\"-275.8\" font-family=\"Helvetica,sans-Serif\" font-size=\"14.00\" fill=\"#000000\">gini = 0.379</text>\n<text text-anchor=\"start\" x=\"576.5\" y=\"-260.8\" font-family=\"Helvetica,sans-Serif\" font-size=\"14.00\" fill=\"#000000\">samples = 1073</text>\n<text text-anchor=\"start\" x=\"570.5\" y=\"-245.8\" font-family=\"Helvetica,sans-Serif\" font-size=\"14.00\" fill=\"#000000\">value = [800, 273]</text>\n<text text-anchor=\"start\" x=\"599\" y=\"-230.8\" font-family=\"Helvetica,sans-Serif\" font-size=\"14.00\" fill=\"#000000\">class = T</text>\n</g>\n<!-- 9&#45;&gt;10 -->\n<g id=\"edge10\" class=\"edge\">\n<title>9&#45;&gt;10</title>\n<path fill=\"none\" stroke=\"#000000\" d=\"M653.2094,-341.8796C650.5348,-333.5037 647.6937,-324.6067 644.9269,-315.942\"/>\n<polygon fill=\"#000000\" stroke=\"#000000\" points=\"648.2234,-314.7595 641.8473,-306.2981 641.5552,-316.8889 648.2234,-314.7595\"/>\n</g>\n<!-- 17 -->\n<g id=\"node18\" class=\"node\">\n<title>17</title>\n<path fill=\"#f4caab\" stroke=\"#000000\" d=\"M882,-306C882,-306 741,-306 741,-306 735,-306 729,-300 729,-294 729,-294 729,-235 729,-235 729,-229 735,-223 741,-223 741,-223 882,-223 882,-223 888,-223 894,-229 894,-235 894,-235 894,-294 894,-294 894,-300 888,-306 882,-306\"/>\n<text text-anchor=\"start\" x=\"737\" y=\"-290.8\" font-family=\"Helvetica,sans-Serif\" font-size=\"14.00\" fill=\"#000000\">EmploymentType ≤ 0.5</text>\n<text text-anchor=\"start\" x=\"773.5\" y=\"-275.8\" font-family=\"Helvetica,sans-Serif\" font-size=\"14.00\" fill=\"#000000\">gini = 0.464</text>\n<text text-anchor=\"start\" x=\"767.5\" y=\"-260.8\" font-family=\"Helvetica,sans-Serif\" font-size=\"14.00\" fill=\"#000000\">samples = 71</text>\n<text text-anchor=\"start\" x=\"761.5\" y=\"-245.8\" font-family=\"Helvetica,sans-Serif\" font-size=\"14.00\" fill=\"#000000\">value = [45, 26]</text>\n<text text-anchor=\"start\" x=\"782\" y=\"-230.8\" font-family=\"Helvetica,sans-Serif\" font-size=\"14.00\" fill=\"#000000\">class = T</text>\n</g>\n<!-- 9&#45;&gt;17 -->\n<g id=\"edge17\" class=\"edge\">\n<title>9&#45;&gt;17</title>\n<path fill=\"none\" stroke=\"#000000\" d=\"M717.214,-341.8796C728.627,-332.513 740.8341,-322.4948 752.5515,-312.8784\"/>\n<polygon fill=\"#000000\" stroke=\"#000000\" points=\"755.0599,-315.3476 760.5696,-306.2981 750.6191,-309.9366 755.0599,-315.3476\"/>\n</g>\n<!-- 11 -->\n<g id=\"node12\" class=\"node\">\n<title>11</title>\n<path fill=\"#edaa79\" stroke=\"#000000\" d=\"M506,-187C506,-187 335,-187 335,-187 329,-187 323,-181 323,-175 323,-175 323,-116 323,-116 323,-110 329,-104 335,-104 335,-104 506,-104 506,-104 512,-104 518,-110 518,-116 518,-116 518,-175 518,-175 518,-181 512,-187 506,-187\"/>\n<text text-anchor=\"start\" x=\"331\" y=\"-171.8\" font-family=\"Helvetica,sans-Serif\" font-size=\"14.00\" fill=\"#000000\">AnnualIncome ≤ 1075000.0</text>\n<text text-anchor=\"start\" x=\"382.5\" y=\"-156.8\" font-family=\"Helvetica,sans-Serif\" font-size=\"14.00\" fill=\"#000000\">gini = 0.368</text>\n<text text-anchor=\"start\" x=\"372.5\" y=\"-141.8\" font-family=\"Helvetica,sans-Serif\" font-size=\"14.00\" fill=\"#000000\">samples = 817</text>\n<text text-anchor=\"start\" x=\"362.5\" y=\"-126.8\" font-family=\"Helvetica,sans-Serif\" font-size=\"14.00\" fill=\"#000000\">value = [618, 199]</text>\n<text text-anchor=\"start\" x=\"391\" y=\"-111.8\" font-family=\"Helvetica,sans-Serif\" font-size=\"14.00\" fill=\"#000000\">class = T</text>\n</g>\n<!-- 10&#45;&gt;11 -->\n<g id=\"edge11\" class=\"edge\">\n<title>10&#45;&gt;11</title>\n<path fill=\"none\" stroke=\"#000000\" d=\"M555.7517,-222.8796C538.493,-213.0056 519.9685,-202.4075 502.3355,-192.3193\"/>\n<polygon fill=\"#000000\" stroke=\"#000000\" points=\"503.6252,-189.0249 493.2072,-187.0969 500.149,-195.1008 503.6252,-189.0249\"/>\n</g>\n<!-- 14 -->\n<g id=\"node15\" class=\"node\">\n<title>14</title>\n<path fill=\"#f0b48a\" stroke=\"#000000\" d=\"M719,-187C719,-187 548,-187 548,-187 542,-187 536,-181 536,-175 536,-175 536,-116 536,-116 536,-110 542,-104 548,-104 548,-104 719,-104 719,-104 725,-104 731,-110 731,-116 731,-116 731,-175 731,-175 731,-181 725,-187 719,-187\"/>\n<text text-anchor=\"start\" x=\"544\" y=\"-171.8\" font-family=\"Helvetica,sans-Serif\" font-size=\"14.00\" fill=\"#000000\">AnnualIncome ≤ 1075000.0</text>\n<text text-anchor=\"start\" x=\"595.5\" y=\"-156.8\" font-family=\"Helvetica,sans-Serif\" font-size=\"14.00\" fill=\"#000000\">gini = 0.411</text>\n<text text-anchor=\"start\" x=\"585.5\" y=\"-141.8\" font-family=\"Helvetica,sans-Serif\" font-size=\"14.00\" fill=\"#000000\">samples = 256</text>\n<text text-anchor=\"start\" x=\"579.5\" y=\"-126.8\" font-family=\"Helvetica,sans-Serif\" font-size=\"14.00\" fill=\"#000000\">value = [182, 74]</text>\n<text text-anchor=\"start\" x=\"604\" y=\"-111.8\" font-family=\"Helvetica,sans-Serif\" font-size=\"14.00\" fill=\"#000000\">class = T</text>\n</g>\n<!-- 10&#45;&gt;14 -->\n<g id=\"edge14\" class=\"edge\">\n<title>10&#45;&gt;14</title>\n<path fill=\"none\" stroke=\"#000000\" d=\"M630.2488,-222.8796C630.5931,-214.6838 630.9584,-205.9891 631.3151,-197.5013\"/>\n<polygon fill=\"#000000\" stroke=\"#000000\" points=\"634.8208,-197.4362 631.7438,-187.2981 627.827,-197.1423 634.8208,-197.4362\"/>\n</g>\n<!-- 12 -->\n<g id=\"node13\" class=\"node\">\n<title>12</title>\n<path fill=\"#eeae80\" stroke=\"#000000\" d=\"M399.5,-68C399.5,-68 291.5,-68 291.5,-68 285.5,-68 279.5,-62 279.5,-56 279.5,-56 279.5,-12 279.5,-12 279.5,-6 285.5,0 291.5,0 291.5,0 399.5,0 399.5,0 405.5,0 411.5,-6 411.5,-12 411.5,-12 411.5,-56 411.5,-56 411.5,-62 405.5,-68 399.5,-68\"/>\n<text text-anchor=\"start\" x=\"307.5\" y=\"-52.8\" font-family=\"Helvetica,sans-Serif\" font-size=\"14.00\" fill=\"#000000\">gini = 0.388</text>\n<text text-anchor=\"start\" x=\"297.5\" y=\"-37.8\" font-family=\"Helvetica,sans-Serif\" font-size=\"14.00\" fill=\"#000000\">samples = 573</text>\n<text text-anchor=\"start\" x=\"287.5\" y=\"-22.8\" font-family=\"Helvetica,sans-Serif\" font-size=\"14.00\" fill=\"#000000\">value = [422, 151]</text>\n<text text-anchor=\"start\" x=\"316\" y=\"-7.8\" font-family=\"Helvetica,sans-Serif\" font-size=\"14.00\" fill=\"#000000\">class = T</text>\n</g>\n<!-- 11&#45;&gt;12 -->\n<g id=\"edge12\" class=\"edge\">\n<title>11&#45;&gt;12</title>\n<path fill=\"none\" stroke=\"#000000\" d=\"M392.5728,-103.9815C386.5762,-95.0666 380.2296,-85.6313 374.2041,-76.6734\"/>\n<polygon fill=\"#000000\" stroke=\"#000000\" points=\"377.0328,-74.6078 368.5473,-68.2637 371.2245,-78.5147 377.0328,-74.6078\"/>\n</g>\n<!-- 13 -->\n<g id=\"node14\" class=\"node\">\n<title>13</title>\n<path fill=\"#eba069\" stroke=\"#000000\" d=\"M541.5,-68C541.5,-68 441.5,-68 441.5,-68 435.5,-68 429.5,-62 429.5,-56 429.5,-56 429.5,-12 429.5,-12 429.5,-6 435.5,0 441.5,0 441.5,0 541.5,0 541.5,0 547.5,0 553.5,-6 553.5,-12 553.5,-12 553.5,-56 553.5,-56 553.5,-62 547.5,-68 541.5,-68\"/>\n<text text-anchor=\"start\" x=\"453.5\" y=\"-52.8\" font-family=\"Helvetica,sans-Serif\" font-size=\"14.00\" fill=\"#000000\">gini = 0.316</text>\n<text text-anchor=\"start\" x=\"443.5\" y=\"-37.8\" font-family=\"Helvetica,sans-Serif\" font-size=\"14.00\" fill=\"#000000\">samples = 244</text>\n<text text-anchor=\"start\" x=\"437.5\" y=\"-22.8\" font-family=\"Helvetica,sans-Serif\" font-size=\"14.00\" fill=\"#000000\">value = [196, 48]</text>\n<text text-anchor=\"start\" x=\"462\" y=\"-7.8\" font-family=\"Helvetica,sans-Serif\" font-size=\"14.00\" fill=\"#000000\">class = T</text>\n</g>\n<!-- 11&#45;&gt;13 -->\n<g id=\"edge13\" class=\"edge\">\n<title>11&#45;&gt;13</title>\n<path fill=\"none\" stroke=\"#000000\" d=\"M446.9378,-103.9815C452.556,-95.1585 458.4988,-85.8258 464.1503,-76.9506\"/>\n<polygon fill=\"#000000\" stroke=\"#000000\" points=\"467.2629,-78.5787 469.6819,-68.2637 461.3584,-74.8188 467.2629,-78.5787\"/>\n</g>\n<!-- 15 -->\n<g id=\"node16\" class=\"node\">\n<title>15</title>\n<path fill=\"#eeac7d\" stroke=\"#000000\" d=\"M683.5,-68C683.5,-68 583.5,-68 583.5,-68 577.5,-68 571.5,-62 571.5,-56 571.5,-56 571.5,-12 571.5,-12 571.5,-6 577.5,0 583.5,0 583.5,0 683.5,0 683.5,0 689.5,0 695.5,-6 695.5,-12 695.5,-12 695.5,-56 695.5,-56 695.5,-62 689.5,-68 683.5,-68\"/>\n<text text-anchor=\"start\" x=\"600\" y=\"-52.8\" font-family=\"Helvetica,sans-Serif\" font-size=\"14.00\" fill=\"#000000\">gini = 0.38</text>\n<text text-anchor=\"start\" x=\"585.5\" y=\"-37.8\" font-family=\"Helvetica,sans-Serif\" font-size=\"14.00\" fill=\"#000000\">samples = 204</text>\n<text text-anchor=\"start\" x=\"579.5\" y=\"-22.8\" font-family=\"Helvetica,sans-Serif\" font-size=\"14.00\" fill=\"#000000\">value = [152, 52]</text>\n<text text-anchor=\"start\" x=\"604\" y=\"-7.8\" font-family=\"Helvetica,sans-Serif\" font-size=\"14.00\" fill=\"#000000\">class = T</text>\n</g>\n<!-- 14&#45;&gt;15 -->\n<g id=\"edge15\" class=\"edge\">\n<title>14&#45;&gt;15</title>\n<path fill=\"none\" stroke=\"#000000\" d=\"M633.5,-103.9815C633.5,-95.618 633.5,-86.7965 633.5,-78.3409\"/>\n<polygon fill=\"#000000\" stroke=\"#000000\" points=\"637.0001,-78.2636 633.5,-68.2637 630.0001,-78.2637 637.0001,-78.2636\"/>\n</g>\n<!-- 16 -->\n<g id=\"node17\" class=\"node\">\n<title>16</title>\n<path fill=\"#f8ddca\" stroke=\"#000000\" d=\"M817.5,-68C817.5,-68 725.5,-68 725.5,-68 719.5,-68 713.5,-62 713.5,-56 713.5,-56 713.5,-12 713.5,-12 713.5,-6 719.5,0 725.5,0 725.5,0 817.5,0 817.5,0 823.5,0 829.5,-6 829.5,-12 829.5,-12 829.5,-56 829.5,-56 829.5,-62 823.5,-68 817.5,-68\"/>\n<text text-anchor=\"start\" x=\"733.5\" y=\"-52.8\" font-family=\"Helvetica,sans-Serif\" font-size=\"14.00\" fill=\"#000000\">gini = 0.488</text>\n<text text-anchor=\"start\" x=\"727.5\" y=\"-37.8\" font-family=\"Helvetica,sans-Serif\" font-size=\"14.00\" fill=\"#000000\">samples = 52</text>\n<text text-anchor=\"start\" x=\"721.5\" y=\"-22.8\" font-family=\"Helvetica,sans-Serif\" font-size=\"14.00\" fill=\"#000000\">value = [30, 22]</text>\n<text text-anchor=\"start\" x=\"742\" y=\"-7.8\" font-family=\"Helvetica,sans-Serif\" font-size=\"14.00\" fill=\"#000000\">class = T</text>\n</g>\n<!-- 14&#45;&gt;16 -->\n<g id=\"edge16\" class=\"edge\">\n<title>14&#45;&gt;16</title>\n<path fill=\"none\" stroke=\"#000000\" d=\"M684.8861,-103.9815C696.7161,-94.4232 709.2864,-84.2668 721.0751,-74.7419\"/>\n<polygon fill=\"#000000\" stroke=\"#000000\" points=\"723.5142,-77.2708 729.0929,-68.2637 719.1149,-71.826 723.5142,-77.2708\"/>\n</g>\n<!-- 18 -->\n<g id=\"node19\" class=\"node\">\n<title>18</title>\n<path fill=\"#f2c29f\" stroke=\"#000000\" d=\"M852.5,-179.5C852.5,-179.5 760.5,-179.5 760.5,-179.5 754.5,-179.5 748.5,-173.5 748.5,-167.5 748.5,-167.5 748.5,-123.5 748.5,-123.5 748.5,-117.5 754.5,-111.5 760.5,-111.5 760.5,-111.5 852.5,-111.5 852.5,-111.5 858.5,-111.5 864.5,-117.5 864.5,-123.5 864.5,-123.5 864.5,-167.5 864.5,-167.5 864.5,-173.5 858.5,-179.5 852.5,-179.5\"/>\n<text text-anchor=\"start\" x=\"768.5\" y=\"-164.3\" font-family=\"Helvetica,sans-Serif\" font-size=\"14.00\" fill=\"#000000\">gini = 0.449</text>\n<text text-anchor=\"start\" x=\"762.5\" y=\"-149.3\" font-family=\"Helvetica,sans-Serif\" font-size=\"14.00\" fill=\"#000000\">samples = 44</text>\n<text text-anchor=\"start\" x=\"756.5\" y=\"-134.3\" font-family=\"Helvetica,sans-Serif\" font-size=\"14.00\" fill=\"#000000\">value = [29, 15]</text>\n<text text-anchor=\"start\" x=\"777\" y=\"-119.3\" font-family=\"Helvetica,sans-Serif\" font-size=\"14.00\" fill=\"#000000\">class = T</text>\n</g>\n<!-- 17&#45;&gt;18 -->\n<g id=\"edge18\" class=\"edge\">\n<title>17&#45;&gt;18</title>\n<path fill=\"none\" stroke=\"#000000\" d=\"M809.7512,-222.8796C809.3031,-212.2134 808.8194,-200.7021 808.3656,-189.9015\"/>\n<polygon fill=\"#000000\" stroke=\"#000000\" points=\"811.8586,-189.6592 807.9418,-179.8149 804.8648,-189.9531 811.8586,-189.6592\"/>\n</g>\n<!-- 19 -->\n<g id=\"node20\" class=\"node\">\n<title>19</title>\n<path fill=\"#f7d8c1\" stroke=\"#000000\" d=\"M986.5,-179.5C986.5,-179.5 894.5,-179.5 894.5,-179.5 888.5,-179.5 882.5,-173.5 882.5,-167.5 882.5,-167.5 882.5,-123.5 882.5,-123.5 882.5,-117.5 888.5,-111.5 894.5,-111.5 894.5,-111.5 986.5,-111.5 986.5,-111.5 992.5,-111.5 998.5,-117.5 998.5,-123.5 998.5,-123.5 998.5,-167.5 998.5,-167.5 998.5,-173.5 992.5,-179.5 986.5,-179.5\"/>\n<text text-anchor=\"start\" x=\"902.5\" y=\"-164.3\" font-family=\"Helvetica,sans-Serif\" font-size=\"14.00\" fill=\"#000000\">gini = 0.483</text>\n<text text-anchor=\"start\" x=\"896.5\" y=\"-149.3\" font-family=\"Helvetica,sans-Serif\" font-size=\"14.00\" fill=\"#000000\">samples = 27</text>\n<text text-anchor=\"start\" x=\"890.5\" y=\"-134.3\" font-family=\"Helvetica,sans-Serif\" font-size=\"14.00\" fill=\"#000000\">value = [16, 11]</text>\n<text text-anchor=\"start\" x=\"911\" y=\"-119.3\" font-family=\"Helvetica,sans-Serif\" font-size=\"14.00\" fill=\"#000000\">class = T</text>\n</g>\n<!-- 17&#45;&gt;19 -->\n<g id=\"edge19\" class=\"edge\">\n<title>17&#45;&gt;19</title>\n<path fill=\"none\" stroke=\"#000000\" d=\"M856.6179,-222.8796C869.2533,-211.2237 882.9826,-198.5587 895.605,-186.9148\"/>\n<polygon fill=\"#000000\" stroke=\"#000000\" points=\"898.3244,-189.168 903.3015,-179.8149 893.578,-184.0228 898.3244,-189.168\"/>\n</g>\n<!-- 21 -->\n<g id=\"node22\" class=\"node\">\n<title>21</title>\n<path fill=\"#48a5e7\" stroke=\"#000000\" d=\"M1174,-425C1174,-425 1003,-425 1003,-425 997,-425 991,-419 991,-413 991,-413 991,-354 991,-354 991,-348 997,-342 1003,-342 1003,-342 1174,-342 1174,-342 1180,-342 1186,-348 1186,-354 1186,-354 1186,-413 1186,-413 1186,-419 1180,-425 1174,-425\"/>\n<text text-anchor=\"start\" x=\"999\" y=\"-409.8\" font-family=\"Helvetica,sans-Serif\" font-size=\"14.00\" fill=\"#000000\">AnnualIncome ≤ 1675000.0</text>\n<text text-anchor=\"start\" x=\"1050.5\" y=\"-394.8\" font-family=\"Helvetica,sans-Serif\" font-size=\"14.00\" fill=\"#000000\">gini = 0.133</text>\n<text text-anchor=\"start\" x=\"1040.5\" y=\"-379.8\" font-family=\"Helvetica,sans-Serif\" font-size=\"14.00\" fill=\"#000000\">samples = 266</text>\n<text text-anchor=\"start\" x=\"1034.5\" y=\"-364.8\" font-family=\"Helvetica,sans-Serif\" font-size=\"14.00\" fill=\"#000000\">value = [19, 247]</text>\n<text text-anchor=\"start\" x=\"1061\" y=\"-349.8\" font-family=\"Helvetica,sans-Serif\" font-size=\"14.00\" fill=\"#000000\">class = r</text>\n</g>\n<!-- 20&#45;&gt;21 -->\n<g id=\"edge21\" class=\"edge\">\n<title>20&#45;&gt;21</title>\n<path fill=\"none\" stroke=\"#000000\" d=\"M1088.5,-460.8796C1088.5,-452.6838 1088.5,-443.9891 1088.5,-435.5013\"/>\n<polygon fill=\"#000000\" stroke=\"#000000\" points=\"1092.0001,-435.298 1088.5,-425.2981 1085.0001,-435.2981 1092.0001,-435.298\"/>\n</g>\n<!-- 30 -->\n<g id=\"node31\" class=\"node\">\n<title>30</title>\n<path fill=\"#fcf1e9\" stroke=\"#000000\" d=\"M1296.5,-417.5C1296.5,-417.5 1216.5,-417.5 1216.5,-417.5 1210.5,-417.5 1204.5,-411.5 1204.5,-405.5 1204.5,-405.5 1204.5,-361.5 1204.5,-361.5 1204.5,-355.5 1210.5,-349.5 1216.5,-349.5 1216.5,-349.5 1296.5,-349.5 1296.5,-349.5 1302.5,-349.5 1308.5,-355.5 1308.5,-361.5 1308.5,-361.5 1308.5,-405.5 1308.5,-405.5 1308.5,-411.5 1302.5,-417.5 1296.5,-417.5\"/>\n<text text-anchor=\"start\" x=\"1218.5\" y=\"-402.3\" font-family=\"Helvetica,sans-Serif\" font-size=\"14.00\" fill=\"#000000\">gini = 0.498</text>\n<text text-anchor=\"start\" x=\"1212.5\" y=\"-387.3\" font-family=\"Helvetica,sans-Serif\" font-size=\"14.00\" fill=\"#000000\">samples = 17</text>\n<text text-anchor=\"start\" x=\"1215\" y=\"-372.3\" font-family=\"Helvetica,sans-Serif\" font-size=\"14.00\" fill=\"#000000\">value = [9, 8]</text>\n<text text-anchor=\"start\" x=\"1227\" y=\"-357.3\" font-family=\"Helvetica,sans-Serif\" font-size=\"14.00\" fill=\"#000000\">class = T</text>\n</g>\n<!-- 20&#45;&gt;30 -->\n<g id=\"edge30\" class=\"edge\">\n<title>20&#45;&gt;30</title>\n<path fill=\"none\" stroke=\"#000000\" d=\"M1147.2582,-460.8796C1164.4158,-448.7263 1183.1223,-435.4759 1200.1286,-423.4297\"/>\n<polygon fill=\"#000000\" stroke=\"#000000\" points=\"1202.1891,-426.2593 1208.3263,-417.623 1198.143,-420.5472 1202.1891,-426.2593\"/>\n</g>\n<!-- 22 -->\n<g id=\"node23\" class=\"node\">\n<title>22</title>\n<path fill=\"#46a4e7\" stroke=\"#000000\" d=\"M1174,-306C1174,-306 1003,-306 1003,-306 997,-306 991,-300 991,-294 991,-294 991,-235 991,-235 991,-229 997,-223 1003,-223 1003,-223 1174,-223 1174,-223 1180,-223 1186,-229 1186,-235 1186,-235 1186,-294 1186,-294 1186,-300 1180,-306 1174,-306\"/>\n<text text-anchor=\"start\" x=\"999\" y=\"-290.8\" font-family=\"Helvetica,sans-Serif\" font-size=\"14.00\" fill=\"#000000\">AnnualIncome ≤ 1425000.0</text>\n<text text-anchor=\"start\" x=\"1050.5\" y=\"-275.8\" font-family=\"Helvetica,sans-Serif\" font-size=\"14.00\" fill=\"#000000\">gini = 0.118</text>\n<text text-anchor=\"start\" x=\"1040.5\" y=\"-260.8\" font-family=\"Helvetica,sans-Serif\" font-size=\"14.00\" fill=\"#000000\">samples = 238</text>\n<text text-anchor=\"start\" x=\"1034.5\" y=\"-245.8\" font-family=\"Helvetica,sans-Serif\" font-size=\"14.00\" fill=\"#000000\">value = [15, 223]</text>\n<text text-anchor=\"start\" x=\"1061\" y=\"-230.8\" font-family=\"Helvetica,sans-Serif\" font-size=\"14.00\" fill=\"#000000\">class = r</text>\n</g>\n<!-- 21&#45;&gt;22 -->\n<g id=\"edge22\" class=\"edge\">\n<title>21&#45;&gt;22</title>\n<path fill=\"none\" stroke=\"#000000\" d=\"M1088.5,-341.8796C1088.5,-333.6838 1088.5,-324.9891 1088.5,-316.5013\"/>\n<polygon fill=\"#000000\" stroke=\"#000000\" points=\"1092.0001,-316.298 1088.5,-306.2981 1085.0001,-316.2981 1092.0001,-316.298\"/>\n</g>\n<!-- 29 -->\n<g id=\"node30\" class=\"node\">\n<title>29</title>\n<path fill=\"#5aade9\" stroke=\"#000000\" d=\"M1299,-298.5C1299,-298.5 1216,-298.5 1216,-298.5 1210,-298.5 1204,-292.5 1204,-286.5 1204,-286.5 1204,-242.5 1204,-242.5 1204,-236.5 1210,-230.5 1216,-230.5 1216,-230.5 1299,-230.5 1299,-230.5 1305,-230.5 1311,-236.5 1311,-242.5 1311,-242.5 1311,-286.5 1311,-286.5 1311,-292.5 1305,-298.5 1299,-298.5\"/>\n<text text-anchor=\"start\" x=\"1219.5\" y=\"-283.3\" font-family=\"Helvetica,sans-Serif\" font-size=\"14.00\" fill=\"#000000\">gini = 0.245</text>\n<text text-anchor=\"start\" x=\"1213.5\" y=\"-268.3\" font-family=\"Helvetica,sans-Serif\" font-size=\"14.00\" fill=\"#000000\">samples = 28</text>\n<text text-anchor=\"start\" x=\"1212\" y=\"-253.3\" font-family=\"Helvetica,sans-Serif\" font-size=\"14.00\" fill=\"#000000\">value = [4, 24]</text>\n<text text-anchor=\"start\" x=\"1230\" y=\"-238.3\" font-family=\"Helvetica,sans-Serif\" font-size=\"14.00\" fill=\"#000000\">class = r</text>\n</g>\n<!-- 21&#45;&gt;29 -->\n<g id=\"edge29\" class=\"edge\">\n<title>21&#45;&gt;29</title>\n<path fill=\"none\" stroke=\"#000000\" d=\"M1147.608,-341.8796C1164.8677,-329.7263 1183.6856,-316.4759 1200.793,-304.4297\"/>\n<polygon fill=\"#000000\" stroke=\"#000000\" points=\"1202.8782,-307.2421 1209.0396,-298.623 1198.8481,-301.5187 1202.8782,-307.2421\"/>\n</g>\n<!-- 23 -->\n<g id=\"node24\" class=\"node\">\n<title>23</title>\n<path fill=\"#4da7e8\" stroke=\"#000000\" d=\"M1148,-187C1148,-187 1029,-187 1029,-187 1023,-187 1017,-181 1017,-175 1017,-175 1017,-116 1017,-116 1017,-110 1023,-104 1029,-104 1029,-104 1148,-104 1148,-104 1154,-104 1160,-110 1160,-116 1160,-116 1160,-175 1160,-175 1160,-181 1154,-187 1148,-187\"/>\n<text text-anchor=\"start\" x=\"1025\" y=\"-171.8\" font-family=\"Helvetica,sans-Serif\" font-size=\"14.00\" fill=\"#000000\">FrequentFlyer ≤ 0.5</text>\n<text text-anchor=\"start\" x=\"1050.5\" y=\"-156.8\" font-family=\"Helvetica,sans-Serif\" font-size=\"14.00\" fill=\"#000000\">gini = 0.167</text>\n<text text-anchor=\"start\" x=\"1040.5\" y=\"-141.8\" font-family=\"Helvetica,sans-Serif\" font-size=\"14.00\" fill=\"#000000\">samples = 141</text>\n<text text-anchor=\"start\" x=\"1034.5\" y=\"-126.8\" font-family=\"Helvetica,sans-Serif\" font-size=\"14.00\" fill=\"#000000\">value = [13, 128]</text>\n<text text-anchor=\"start\" x=\"1061\" y=\"-111.8\" font-family=\"Helvetica,sans-Serif\" font-size=\"14.00\" fill=\"#000000\">class = r</text>\n</g>\n<!-- 22&#45;&gt;23 -->\n<g id=\"edge23\" class=\"edge\">\n<title>22&#45;&gt;23</title>\n<path fill=\"none\" stroke=\"#000000\" d=\"M1088.5,-222.8796C1088.5,-214.6838 1088.5,-205.9891 1088.5,-197.5013\"/>\n<polygon fill=\"#000000\" stroke=\"#000000\" points=\"1092.0001,-197.298 1088.5,-187.2981 1085.0001,-197.2981 1092.0001,-197.298\"/>\n</g>\n<!-- 26 -->\n<g id=\"node27\" class=\"node\">\n<title>26</title>\n<path fill=\"#3d9fe6\" stroke=\"#000000\" d=\"M1331,-187C1331,-187 1190,-187 1190,-187 1184,-187 1178,-181 1178,-175 1178,-175 1178,-116 1178,-116 1178,-110 1184,-104 1190,-104 1190,-104 1331,-104 1331,-104 1337,-104 1343,-110 1343,-116 1343,-116 1343,-175 1343,-175 1343,-181 1337,-187 1331,-187\"/>\n<text text-anchor=\"start\" x=\"1186\" y=\"-171.8\" font-family=\"Helvetica,sans-Serif\" font-size=\"14.00\" fill=\"#000000\">EmploymentType ≤ 0.5</text>\n<text text-anchor=\"start\" x=\"1227\" y=\"-156.8\" font-family=\"Helvetica,sans-Serif\" font-size=\"14.00\" fill=\"#000000\">gini = 0.04</text>\n<text text-anchor=\"start\" x=\"1216.5\" y=\"-141.8\" font-family=\"Helvetica,sans-Serif\" font-size=\"14.00\" fill=\"#000000\">samples = 97</text>\n<text text-anchor=\"start\" x=\"1215\" y=\"-126.8\" font-family=\"Helvetica,sans-Serif\" font-size=\"14.00\" fill=\"#000000\">value = [2, 95]</text>\n<text text-anchor=\"start\" x=\"1233\" y=\"-111.8\" font-family=\"Helvetica,sans-Serif\" font-size=\"14.00\" fill=\"#000000\">class = r</text>\n</g>\n<!-- 22&#45;&gt;26 -->\n<g id=\"edge26\" class=\"edge\">\n<title>22&#45;&gt;26</title>\n<path fill=\"none\" stroke=\"#000000\" d=\"M1148.6573,-222.8796C1162.667,-213.1868 1177.6854,-202.7961 1192.025,-192.8752\"/>\n<polygon fill=\"#000000\" stroke=\"#000000\" points=\"1194.1444,-195.6649 1200.3767,-187.0969 1190.1617,-189.9083 1194.1444,-195.6649\"/>\n</g>\n<!-- 24 -->\n<g id=\"node25\" class=\"node\">\n<title>24</title>\n<path fill=\"#47a4e7\" stroke=\"#000000\" d=\"M1016.5,-68C1016.5,-68 928.5,-68 928.5,-68 922.5,-68 916.5,-62 916.5,-56 916.5,-56 916.5,-12 916.5,-12 916.5,-6 922.5,0 928.5,0 928.5,0 1016.5,0 1016.5,0 1022.5,0 1028.5,-6 1028.5,-12 1028.5,-12 1028.5,-56 1028.5,-56 1028.5,-62 1022.5,-68 1016.5,-68\"/>\n<text text-anchor=\"start\" x=\"934.5\" y=\"-52.8\" font-family=\"Helvetica,sans-Serif\" font-size=\"14.00\" fill=\"#000000\">gini = 0.123</text>\n<text text-anchor=\"start\" x=\"924.5\" y=\"-37.8\" font-family=\"Helvetica,sans-Serif\" font-size=\"14.00\" fill=\"#000000\">samples = 106</text>\n<text text-anchor=\"start\" x=\"927\" y=\"-22.8\" font-family=\"Helvetica,sans-Serif\" font-size=\"14.00\" fill=\"#000000\">value = [7, 99]</text>\n<text text-anchor=\"start\" x=\"945\" y=\"-7.8\" font-family=\"Helvetica,sans-Serif\" font-size=\"14.00\" fill=\"#000000\">class = r</text>\n</g>\n<!-- 23&#45;&gt;24 -->\n<g id=\"edge24\" class=\"edge\">\n<title>23&#45;&gt;24</title>\n<path fill=\"none\" stroke=\"#000000\" d=\"M1045.3059,-103.9815C1035.5531,-94.607 1025.2017,-84.6572 1015.4586,-75.2921\"/>\n<polygon fill=\"#000000\" stroke=\"#000000\" points=\"1017.7815,-72.6702 1008.1465,-68.2637 1012.9306,-77.7169 1017.7815,-72.6702\"/>\n</g>\n<!-- 25 -->\n<g id=\"node26\" class=\"node\">\n<title>25</title>\n<path fill=\"#62b1ea\" stroke=\"#000000\" d=\"M1142,-68C1142,-68 1059,-68 1059,-68 1053,-68 1047,-62 1047,-56 1047,-56 1047,-12 1047,-12 1047,-6 1053,0 1059,0 1059,0 1142,0 1142,0 1148,0 1154,-6 1154,-12 1154,-12 1154,-56 1154,-56 1154,-62 1148,-68 1142,-68\"/>\n<text text-anchor=\"start\" x=\"1062.5\" y=\"-52.8\" font-family=\"Helvetica,sans-Serif\" font-size=\"14.00\" fill=\"#000000\">gini = 0.284</text>\n<text text-anchor=\"start\" x=\"1056.5\" y=\"-37.8\" font-family=\"Helvetica,sans-Serif\" font-size=\"14.00\" fill=\"#000000\">samples = 35</text>\n<text text-anchor=\"start\" x=\"1055\" y=\"-22.8\" font-family=\"Helvetica,sans-Serif\" font-size=\"14.00\" fill=\"#000000\">value = [6, 29]</text>\n<text text-anchor=\"start\" x=\"1073\" y=\"-7.8\" font-family=\"Helvetica,sans-Serif\" font-size=\"14.00\" fill=\"#000000\">class = r</text>\n</g>\n<!-- 23&#45;&gt;25 -->\n<g id=\"edge25\" class=\"edge\">\n<title>23&#45;&gt;25</title>\n<path fill=\"none\" stroke=\"#000000\" d=\"M1092.9684,-103.9815C1093.8685,-95.618 1094.8179,-86.7965 1095.7279,-78.3409\"/>\n<polygon fill=\"#000000\" stroke=\"#000000\" points=\"1099.2222,-78.5808 1096.8124,-68.2637 1092.2624,-77.8317 1099.2222,-78.5808\"/>\n</g>\n<!-- 27 -->\n<g id=\"node28\" class=\"node\">\n<title>27</title>\n<path fill=\"#3b9ee5\" stroke=\"#000000\" d=\"M1290,-68C1290,-68 1207,-68 1207,-68 1201,-68 1195,-62 1195,-56 1195,-56 1195,-12 1195,-12 1195,-6 1201,0 1207,0 1207,0 1290,0 1290,0 1296,0 1302,-6 1302,-12 1302,-12 1302,-56 1302,-56 1302,-62 1296,-68 1290,-68\"/>\n<text text-anchor=\"start\" x=\"1210.5\" y=\"-52.8\" font-family=\"Helvetica,sans-Serif\" font-size=\"14.00\" fill=\"#000000\">gini = 0.024</text>\n<text text-anchor=\"start\" x=\"1204.5\" y=\"-37.8\" font-family=\"Helvetica,sans-Serif\" font-size=\"14.00\" fill=\"#000000\">samples = 83</text>\n<text text-anchor=\"start\" x=\"1203\" y=\"-22.8\" font-family=\"Helvetica,sans-Serif\" font-size=\"14.00\" fill=\"#000000\">value = [1, 82]</text>\n<text text-anchor=\"start\" x=\"1221\" y=\"-7.8\" font-family=\"Helvetica,sans-Serif\" font-size=\"14.00\" fill=\"#000000\">class = r</text>\n</g>\n<!-- 26&#45;&gt;27 -->\n<g id=\"edge27\" class=\"edge\">\n<title>26&#45;&gt;27</title>\n<path fill=\"none\" stroke=\"#000000\" d=\"M1256.0316,-103.9815C1255.1315,-95.618 1254.1821,-86.7965 1253.2721,-78.3409\"/>\n<polygon fill=\"#000000\" stroke=\"#000000\" points=\"1256.7376,-77.8317 1252.1876,-68.2637 1249.7778,-78.5808 1256.7376,-77.8317\"/>\n</g>\n<!-- 28 -->\n<g id=\"node29\" class=\"node\">\n<title>28</title>\n<path fill=\"#48a5e7\" stroke=\"#000000\" d=\"M1415,-68C1415,-68 1332,-68 1332,-68 1326,-68 1320,-62 1320,-56 1320,-56 1320,-12 1320,-12 1320,-6 1326,0 1332,0 1332,0 1415,0 1415,0 1421,0 1427,-6 1427,-12 1427,-12 1427,-56 1427,-56 1427,-62 1421,-68 1415,-68\"/>\n<text text-anchor=\"start\" x=\"1335.5\" y=\"-52.8\" font-family=\"Helvetica,sans-Serif\" font-size=\"14.00\" fill=\"#000000\">gini = 0.133</text>\n<text text-anchor=\"start\" x=\"1329.5\" y=\"-37.8\" font-family=\"Helvetica,sans-Serif\" font-size=\"14.00\" fill=\"#000000\">samples = 14</text>\n<text text-anchor=\"start\" x=\"1328\" y=\"-22.8\" font-family=\"Helvetica,sans-Serif\" font-size=\"14.00\" fill=\"#000000\">value = [1, 13]</text>\n<text text-anchor=\"start\" x=\"1346\" y=\"-7.8\" font-family=\"Helvetica,sans-Serif\" font-size=\"14.00\" fill=\"#000000\">class = r</text>\n</g>\n<!-- 26&#45;&gt;28 -->\n<g id=\"edge28\" class=\"edge\">\n<title>26&#45;&gt;28</title>\n<path fill=\"none\" stroke=\"#000000\" d=\"M1302.577,-103.9815C1312.0776,-94.607 1322.1613,-84.6572 1331.6524,-75.2921\"/>\n<polygon fill=\"#000000\" stroke=\"#000000\" points=\"1334.1155,-77.7787 1338.7754,-68.2637 1329.1989,-72.796 1334.1155,-77.7787\"/>\n</g>\n</g>\n</svg>\n"
          },
          "metadata": {},
          "execution_count": 91
        }
      ]
    },
    {
      "cell_type": "code",
      "source": [
        "graph.format = \"png\"\n",
        "graph.render(\"decision_tree_gini\", view=True)"
      ],
      "metadata": {
        "colab": {
          "base_uri": "https://localhost:8080/",
          "height": 35
        },
        "id": "ZA5d8mnhWRUQ",
        "outputId": "f72819bf-9f07-4925-af80-d442d4d55999"
      },
      "id": "ZA5d8mnhWRUQ",
      "execution_count": null,
      "outputs": [
        {
          "output_type": "execute_result",
          "data": {
            "text/plain": [
              "'decision_tree_gini.png'"
            ],
            "application/vnd.google.colaboratory.intrinsic+json": {
              "type": "string"
            }
          },
          "metadata": {},
          "execution_count": 128
        }
      ]
    },
    {
      "cell_type": "markdown",
      "source": [
        "## KNN Classifier"
      ],
      "metadata": {
        "id": "Ib03Db6e0GBi"
      },
      "id": "Ib03Db6e0GBi"
    },
    {
      "cell_type": "code",
      "source": [
        "from sklearn.neighbors import KNeighborsClassifier\n",
        "knn = KNeighborsClassifier(20)"
      ],
      "metadata": {
        "id": "et_RLHglw6qR"
      },
      "id": "et_RLHglw6qR",
      "execution_count": null,
      "outputs": []
    },
    {
      "cell_type": "code",
      "source": [
        "knn.fit(X_train, y_train)"
      ],
      "metadata": {
        "id": "OutZLfb_0JvV",
        "colab": {
          "base_uri": "https://localhost:8080/"
        },
        "outputId": "c9aa7911-34da-4857-fdc3-108f3bdae4fc"
      },
      "id": "OutZLfb_0JvV",
      "execution_count": null,
      "outputs": [
        {
          "output_type": "execute_result",
          "data": {
            "text/plain": [
              "KNeighborsClassifier(n_neighbors=20)"
            ]
          },
          "metadata": {},
          "execution_count": 117
        }
      ]
    },
    {
      "cell_type": "code",
      "source": [
        "y_pred_knn=knn.predict(X_test)"
      ],
      "metadata": {
        "id": "Xy-N435k-S32"
      },
      "id": "Xy-N435k-S32",
      "execution_count": null,
      "outputs": []
    },
    {
      "cell_type": "code",
      "source": [
        "Score_knn=accuracy_score(y_test,y_pred_knn)\n",
        "#print(\"Accuracy: %0.2f\" % (round(Score_knn*100,2)))\n",
        "print('Accuracy:', Score_knn*100)"
      ],
      "metadata": {
        "id": "IbqRwt6h0Obk",
        "colab": {
          "base_uri": "https://localhost:8080/"
        },
        "outputId": "04d434a2-d8e8-4fd4-a2e3-814f9654934f"
      },
      "id": "IbqRwt6h0Obk",
      "execution_count": null,
      "outputs": [
        {
          "output_type": "stream",
          "name": "stdout",
          "text": [
            "Accuracy: 80.15075376884423\n"
          ]
        }
      ]
    },
    {
      "cell_type": "code",
      "source": [
        "print(metrics.confusion_matrix(y_test,y_pred_knn,labels = [1,0]))\n",
        "print('-----------------------------------------')\n",
        "tp, fn, fp, tn = confusion_matrix(y_test,y_pred_knn,labels=[1,0]).ravel()\n",
        "print('TP:', tp)\n",
        "print('FN:', fn)\n",
        "print('FP:', fp)\n",
        "print('TN:', tn)"
      ],
      "metadata": {
        "id": "1vz1kF0E-dl1",
        "colab": {
          "base_uri": "https://localhost:8080/"
        },
        "outputId": "0cf4e9a1-8bcf-42e5-d538-0ed017694fb3"
      },
      "id": "1vz1kF0E-dl1",
      "execution_count": null,
      "outputs": [
        {
          "output_type": "stream",
          "name": "stdout",
          "text": [
            "[[ 63  78]\n",
            " [  1 256]]\n",
            "-----------------------------------------\n",
            "TP: 63\n",
            "FN: 78\n",
            "FP: 1\n",
            "TN: 256\n"
          ]
        }
      ]
    },
    {
      "cell_type": "code",
      "source": [
        "print(classification_report(y_test, y_pred_knn))"
      ],
      "metadata": {
        "id": "E-V5AuM_-mVe",
        "colab": {
          "base_uri": "https://localhost:8080/"
        },
        "outputId": "3e30bbcd-9e65-4b09-befc-9f1c22476b58"
      },
      "id": "E-V5AuM_-mVe",
      "execution_count": null,
      "outputs": [
        {
          "output_type": "stream",
          "name": "stdout",
          "text": [
            "              precision    recall  f1-score   support\n",
            "\n",
            "           0       0.77      1.00      0.87       257\n",
            "           1       0.98      0.45      0.61       141\n",
            "\n",
            "    accuracy                           0.80       398\n",
            "   macro avg       0.88      0.72      0.74       398\n",
            "weighted avg       0.84      0.80      0.78       398\n",
            "\n"
          ]
        }
      ]
    },
    {
      "cell_type": "code",
      "source": [
        "plt.style.use(\"classic\")\n",
        "x = [\"DT Entropy\", \"DT Gini\", \"KNN\"]\n",
        "\n",
        "y = [Score_entropy, Score_gini, Score_knn]\n",
        "\n",
        "fig, ax = plt.subplots(figsize=(8,6))\n",
        "sns.barplot(x=x,y=y, palette=\"crest\");\n",
        "plt.xlabel(\"Models\")\n",
        "plt.ylabel(\"Model Accuracy\")\n",
        "plt.xticks(rotation=40)\n",
        "plt.title(\"Model Comparison - Model Accuracy\")"
      ],
      "metadata": {
        "id": "Rl0uU4lj-wMF",
        "colab": {
          "base_uri": "https://localhost:8080/",
          "height": 532
        },
        "outputId": "783159f7-c353-446f-db97-bec4327edd2c"
      },
      "id": "Rl0uU4lj-wMF",
      "execution_count": null,
      "outputs": [
        {
          "output_type": "execute_result",
          "data": {
            "text/plain": [
              "Text(0.5, 1.0, 'Model Comparison - Model Accuracy')"
            ]
          },
          "metadata": {},
          "execution_count": 122
        },
        {
          "output_type": "display_data",
          "data": {
            "text/plain": [
              "<Figure size 640x480 with 1 Axes>"
            ],
            "image/png": "[encoded data removed]"
          },
          "metadata": {}
        }
      ]
    },
    {
      "cell_type": "code",
      "source": [
        "print('DT Entropy:', round(Score_entropy*100,2))\n",
        "print('DT Gini:', round(Score_gini*100,2))\n",
        "print('KNN:', round(Score_knn*100,2))"
      ],
      "metadata": {
        "id": "yRxlqXMi_R0w",
        "colab": {
          "base_uri": "https://localhost:8080/"
        },
        "outputId": "e56ac785-7175-4deb-9232-a8489c442854"
      },
      "id": "yRxlqXMi_R0w",
      "execution_count": null,
      "outputs": [
        {
          "output_type": "stream",
          "name": "stdout",
          "text": [
            "DT Entropy: 80.15\n",
            "DT Gini: 80.15\n",
            "KNN: 80.15\n"
          ]
        }
      ]
    },
    {
      "cell_type": "code",
      "source": [],
      "metadata": {
        "id": "h7euhHUGUU0s"
      },
      "id": "h7euhHUGUU0s",
      "execution_count": null,
      "outputs": []
    }
  ],
  "metadata": {
    "kernelspec": {
      "display_name": "Python 3",
      "language": "python",
      "name": "python3"
    },
    "language_info": {
      "codemirror_mode": {
        "name": "ipython",
        "version": 3
      },
      "file_extension": ".py",
      "mimetype": "text/x-python",
      "name": "python",
      "nbconvert_exporter": "python",
      "pygments_lexer": "ipython3",
      "version": "3.8.8"
    },
    "colab": {
      "provenance": [],
      "include_colab_link": true
    }
  },
  "nbformat": 4,
  "nbformat_minor": 5
}